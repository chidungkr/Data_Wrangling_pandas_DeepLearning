{
 "cells": [
  {
   "cell_type": "markdown",
   "metadata": {},
   "source": [
    "# Chapter 2: Data Manipulation với pandas\n"
   ]
  },
  {
   "cell_type": "markdown",
   "metadata": {},
   "source": [
    "Trong chương này chúng ta sẽ thực hành một số hàm thường được sử dụng cho khoa học dữ liệu của gói **pandas** cũng như  khái niệm về DataFrame - kiểu cấu trúc và tổ chức dữ liệu được sử dụng bởi gói pandas (tương tự như Data Frame của R). \n",
    "### 1. DataFrame\n",
    "\n",
    "DataFrame (viết tắt là DF) là một kiểu cấu trúc và tổ chức dữ liệu được bố trí thành dạng bảng gồm hàng và cột (như bảng số liệu của  Excel). Để tạo DF trước hết chúng ta cần gọi gói pandas: \n"
   ]
  },
  {
   "cell_type": "code",
   "execution_count": 1,
   "metadata": {
    "collapsed": true
   },
   "outputs": [],
   "source": [
    "# Gọi gói pandas: \n",
    "import pandas as pd"
   ]
  },
  {
   "cell_type": "markdown",
   "metadata": {},
   "source": [
    "Giả sử chúng ta muốn tạo ra một DF chứa thông tin về số huy chương của 3 quốc gia dẫn đầu của [Seagame 2017](https://en.wikipedia.org/wiki/2017_Southeast_Asian_Games) thì cách thức nhập  dữ liệu trực tiếp để tạo DF như sau: "
   ]
  },
  {
   "cell_type": "code",
   "execution_count": 31,
   "metadata": {},
   "outputs": [
    {
     "data": {
      "text/html": [
       "<div>\n",
       "<style scoped>\n",
       "    .dataframe tbody tr th:only-of-type {\n",
       "        vertical-align: middle;\n",
       "    }\n",
       "\n",
       "    .dataframe tbody tr th {\n",
       "        vertical-align: top;\n",
       "    }\n",
       "\n",
       "    .dataframe thead th {\n",
       "        text-align: right;\n",
       "    }\n",
       "</style>\n",
       "<table border=\"1\" class=\"dataframe\">\n",
       "  <thead>\n",
       "    <tr style=\"text-align: right;\">\n",
       "      <th></th>\n",
       "      <th>Nation</th>\n",
       "      <th>Gold</th>\n",
       "      <th>Silver</th>\n",
       "    </tr>\n",
       "  </thead>\n",
       "  <tbody>\n",
       "    <tr>\n",
       "      <th>0</th>\n",
       "      <td>MAS</td>\n",
       "      <td>144</td>\n",
       "      <td>91</td>\n",
       "    </tr>\n",
       "    <tr>\n",
       "      <th>1</th>\n",
       "      <td>THA</td>\n",
       "      <td>72</td>\n",
       "      <td>86</td>\n",
       "    </tr>\n",
       "    <tr>\n",
       "      <th>2</th>\n",
       "      <td>SGP</td>\n",
       "      <td>58</td>\n",
       "      <td>58</td>\n",
       "    </tr>\n",
       "  </tbody>\n",
       "</table>\n",
       "</div>"
      ],
      "text/plain": [
       "  Nation  Gold  Silver\n",
       "0    MAS   144      91\n",
       "1    THA    72      86\n",
       "2    SGP    58      58"
      ]
     },
     "execution_count": 31,
     "metadata": {},
     "output_type": "execute_result"
    }
   ],
   "source": [
    "#=================\n",
    "#     Cách 1\n",
    "#=================\n",
    "\n",
    "# Tạo ra ba chuỗi: \n",
    "quoc_gia = pd.Series([\"MAS\", \"THA\", \"SGP\"])\n",
    "gold = pd.Series([144, 72, 58])\n",
    "silver =  pd.Series([91, 86, 58])\n",
    "\n",
    "# Hợp nhất 3 chuỗi thành DF: \n",
    "df1 = pd.DataFrame({\"Nation\": quoc_gia, \n",
    "                   \"Gold\": gold, \n",
    "                   \"Silver\": silver},\n",
    "                   columns = [\"Nation\", \"Gold\", \"Silver\"])\n",
    "\n",
    "# Xem DF tạo ra: \n",
    "df1"
   ]
  },
  {
   "cell_type": "code",
   "execution_count": 32,
   "metadata": {},
   "outputs": [
    {
     "data": {
      "text/html": [
       "<div>\n",
       "<style scoped>\n",
       "    .dataframe tbody tr th:only-of-type {\n",
       "        vertical-align: middle;\n",
       "    }\n",
       "\n",
       "    .dataframe tbody tr th {\n",
       "        vertical-align: top;\n",
       "    }\n",
       "\n",
       "    .dataframe thead th {\n",
       "        text-align: right;\n",
       "    }\n",
       "</style>\n",
       "<table border=\"1\" class=\"dataframe\">\n",
       "  <thead>\n",
       "    <tr style=\"text-align: right;\">\n",
       "      <th></th>\n",
       "      <th>nat</th>\n",
       "      <th>gol</th>\n",
       "      <th>sil</th>\n",
       "    </tr>\n",
       "  </thead>\n",
       "  <tbody>\n",
       "    <tr>\n",
       "      <th>0</th>\n",
       "      <td>MAS</td>\n",
       "      <td>144</td>\n",
       "      <td>91</td>\n",
       "    </tr>\n",
       "    <tr>\n",
       "      <th>1</th>\n",
       "      <td>THA</td>\n",
       "      <td>72</td>\n",
       "      <td>86</td>\n",
       "    </tr>\n",
       "    <tr>\n",
       "      <th>2</th>\n",
       "      <td>SGP</td>\n",
       "      <td>58</td>\n",
       "      <td>58</td>\n",
       "    </tr>\n",
       "  </tbody>\n",
       "</table>\n",
       "</div>"
      ],
      "text/plain": [
       "   nat  gol  sil\n",
       "0  MAS  144   91\n",
       "1  THA   72   86\n",
       "2  SGP   58   58"
      ]
     },
     "execution_count": 32,
     "metadata": {},
     "output_type": "execute_result"
    }
   ],
   "source": [
    "#================\n",
    "#    Cách 2\n",
    "#================\n",
    "\n",
    "data = {\"nat\": [\"MAS\", \"THA\", \"SGP\"], \n",
    "       \"gol\": [144, 72, 58], \n",
    "       \"sil\": [91, 86, 58]}\n",
    "\n",
    "df2 = pd.DataFrame(data, columns = [\"nat\", \"gol\",  \"sil\"])\n",
    "df2"
   ]
  },
  {
   "cell_type": "markdown",
   "metadata": {},
   "source": [
    "### 2. Series\n",
    "\n",
    "Nếu coi DF là một phân tử thì nó sẽ được tạo thành từ các nguyên tử nhỏ hơn. Với DF có tên df1 ở trên thì các nguyên tử nhỏ hơn  này là quoc_gia, gold và silver. Giới sử dụng Python gọi chúng là **Series**. Chúng ta có thể xem kiểu dữ liệu của  series bằng lệnh **type** đã biết: "
   ]
  },
  {
   "cell_type": "code",
   "execution_count": 33,
   "metadata": {},
   "outputs": [
    {
     "data": {
      "text/plain": [
       "pandas.core.series.Series"
      ]
     },
     "execution_count": 33,
     "metadata": {},
     "output_type": "execute_result"
    }
   ],
   "source": [
    "type(gold)"
   ]
  },
  {
   "cell_type": "markdown",
   "metadata": {},
   "source": [
    "Với người sử dụng R thì cấu trúc dữ liệu kiểu này tương tự vector. Do vậy chúng ta có thể áp dụng các hàm toán học cho chúng: "
   ]
  },
  {
   "cell_type": "code",
   "execution_count": 34,
   "metadata": {},
   "outputs": [
    {
     "data": {
      "text/plain": [
       "274"
      ]
     },
     "execution_count": 34,
     "metadata": {},
     "output_type": "execute_result"
    }
   ],
   "source": [
    "# Tính tổng của series: \n",
    "sum(gold)"
   ]
  },
  {
   "cell_type": "code",
   "execution_count": 35,
   "metadata": {},
   "outputs": [
    {
     "data": {
      "text/plain": [
       "0     True\n",
       "1    False\n",
       "2    False\n",
       "dtype: bool"
      ]
     },
     "execution_count": 35,
     "metadata": {},
     "output_type": "execute_result"
    }
   ],
   "source": [
    "# Hay kiểm tra điều kiện logic: \n",
    "gold > 100"
   ]
  },
  {
   "cell_type": "code",
   "execution_count": 36,
   "metadata": {},
   "outputs": [
    {
     "data": {
      "text/plain": [
       "72"
      ]
     },
     "execution_count": 36,
     "metadata": {},
     "output_type": "execute_result"
    }
   ],
   "source": [
    "# Truy cập vào từng phần tử cấu thành series: \n",
    "gold[1]"
   ]
  },
  {
   "cell_type": "code",
   "execution_count": 37,
   "metadata": {},
   "outputs": [
    {
     "data": {
      "text/plain": [
       "1"
      ]
     },
     "execution_count": 37,
     "metadata": {},
     "output_type": "execute_result"
    }
   ],
   "source": [
    "# Đếm số lượng các quốc gia có nhiều hơn 80 huy chương vàng: \n",
    "sum(gold > 80)"
   ]
  },
  {
   "cell_type": "code",
   "execution_count": 38,
   "metadata": {},
   "outputs": [
    {
     "data": {
      "text/plain": [
       "0    1440\n",
       "1     720\n",
       "2     580\n",
       "dtype: int64"
      ]
     },
     "execution_count": 38,
     "metadata": {},
     "output_type": "execute_result"
    }
   ],
   "source": [
    "# Hay nhân tất cả các phần  tử với 10: \n",
    "gold*10"
   ]
  },
  {
   "cell_type": "code",
   "execution_count": 39,
   "metadata": {},
   "outputs": [
    {
     "data": {
      "text/plain": [
       "3"
      ]
     },
     "execution_count": 39,
     "metadata": {},
     "output_type": "execute_result"
    }
   ],
   "source": [
    "# Chiều dài của series: \n",
    "len(gold)"
   ]
  },
  {
   "cell_type": "markdown",
   "metadata": {},
   "source": [
    "Những hiểu biết sơ bộ vừa trình bày ở trên về DataFrame và Series là rất quan trọng cho những công việc phức tạp  liên  quan đến phân tích dữ liệu sau này. "
   ]
  },
  {
   "cell_type": "markdown",
   "metadata": {},
   "source": [
    "### 3. Đọc dữ liệu định dạng .csv\n",
    "\n",
    "Cách thức nhập dữ liệu trực tiếp mà chúng ta vừa thực hành ở trên thường sử dụng không  phổ biến Trong thực tế chúng ta thường đọc dữ liệu vào Python từ một định dạng của một phần mềm (hoặc một cơ sở dữ liệu) khác như Excel chẳng hạn. Dưới đây là một ví dụ về đọc file dữ liệu có tên *educ_Data.csv* về chi tiêu tính theo tỉ lệ %GDP của  các nước Châu Âu cho giáo dụ (dữ liệu có thể lấy [ở đây](http://www.mediafire.com/file/58t4hhpg41mgaal/educ_Data.csv)) với chú ý rằng những điểm dữ liệu trống (Missing Value) được biểu diễn bằng dấu hai chấm. Để đọc bộ dữ liệu này và chỉ định luôn ba cột biến muốn sử dụng chúng ta sử dụng hàm **pd.read_csv()** theo cách thức như sau: \n"
   ]
  },
  {
   "cell_type": "code",
   "execution_count": 40,
   "metadata": {},
   "outputs": [
    {
     "data": {
      "text/html": [
       "<div>\n",
       "<style scoped>\n",
       "    .dataframe tbody tr th:only-of-type {\n",
       "        vertical-align: middle;\n",
       "    }\n",
       "\n",
       "    .dataframe tbody tr th {\n",
       "        vertical-align: top;\n",
       "    }\n",
       "\n",
       "    .dataframe thead th {\n",
       "        text-align: right;\n",
       "    }\n",
       "</style>\n",
       "<table border=\"1\" class=\"dataframe\">\n",
       "  <thead>\n",
       "    <tr style=\"text-align: right;\">\n",
       "      <th></th>\n",
       "      <th>TIME</th>\n",
       "      <th>GEO</th>\n",
       "      <th>INDIC_ED</th>\n",
       "      <th>Value</th>\n",
       "      <th>Flag and Footnotes</th>\n",
       "    </tr>\n",
       "  </thead>\n",
       "  <tbody>\n",
       "    <tr>\n",
       "      <th>0</th>\n",
       "      <td>2000</td>\n",
       "      <td>European Union (28 countries)</td>\n",
       "      <td>Total public expenditure on education as % of ...</td>\n",
       "      <td>NaN</td>\n",
       "      <td>NaN</td>\n",
       "    </tr>\n",
       "    <tr>\n",
       "      <th>1</th>\n",
       "      <td>2001</td>\n",
       "      <td>European Union (28 countries)</td>\n",
       "      <td>Total public expenditure on education as % of ...</td>\n",
       "      <td>NaN</td>\n",
       "      <td>NaN</td>\n",
       "    </tr>\n",
       "    <tr>\n",
       "      <th>2</th>\n",
       "      <td>2002</td>\n",
       "      <td>European Union (28 countries)</td>\n",
       "      <td>Total public expenditure on education as % of ...</td>\n",
       "      <td>5.00</td>\n",
       "      <td>e</td>\n",
       "    </tr>\n",
       "    <tr>\n",
       "      <th>3</th>\n",
       "      <td>2003</td>\n",
       "      <td>European Union (28 countries)</td>\n",
       "      <td>Total public expenditure on education as % of ...</td>\n",
       "      <td>5.03</td>\n",
       "      <td>e</td>\n",
       "    </tr>\n",
       "    <tr>\n",
       "      <th>4</th>\n",
       "      <td>2004</td>\n",
       "      <td>European Union (28 countries)</td>\n",
       "      <td>Total public expenditure on education as % of ...</td>\n",
       "      <td>4.95</td>\n",
       "      <td>e</td>\n",
       "    </tr>\n",
       "  </tbody>\n",
       "</table>\n",
       "</div>"
      ],
      "text/plain": [
       "   TIME                            GEO  \\\n",
       "0  2000  European Union (28 countries)   \n",
       "1  2001  European Union (28 countries)   \n",
       "2  2002  European Union (28 countries)   \n",
       "3  2003  European Union (28 countries)   \n",
       "4  2004  European Union (28 countries)   \n",
       "\n",
       "                                            INDIC_ED  Value Flag and Footnotes  \n",
       "0  Total public expenditure on education as % of ...    NaN                NaN  \n",
       "1  Total public expenditure on education as % of ...    NaN                NaN  \n",
       "2  Total public expenditure on education as % of ...   5.00                  e  \n",
       "3  Total public expenditure on education as % of ...   5.03                  e  \n",
       "4  Total public expenditure on education as % of ...   4.95                  e  "
      ]
     },
     "execution_count": 40,
     "metadata": {},
     "output_type": "execute_result"
    }
   ],
   "source": [
    "# Đọc dữ liệu: \n",
    "edu = pd.read_csv(\"E:/data_science_python/educ_data.csv\", na_values = \":\")\n",
    "# Và xem 5 dòng đầu của DF:\n",
    "edu.head()"
   ]
  },
  {
   "cell_type": "markdown",
   "metadata": {},
   "source": [
    "Kiểu dữ liệu là DF với thông báo là **pandas.core.frame.DataFrame** như  ta có thể thấy: "
   ]
  },
  {
   "cell_type": "code",
   "execution_count": 41,
   "metadata": {},
   "outputs": [
    {
     "data": {
      "text/plain": [
       "pandas.core.frame.DataFrame"
      ]
     },
     "execution_count": 41,
     "metadata": {},
     "output_type": "execute_result"
    }
   ],
   "source": [
    "# Xem kiểu cấu trúc và tổ chức dữ liệu của DF: \n",
    "type(edu)"
   ]
  },
  {
   "cell_type": "code",
   "execution_count": 42,
   "metadata": {},
   "outputs": [
    {
     "data": {
      "text/plain": [
       "(384, 5)"
      ]
     },
     "execution_count": 42,
     "metadata": {},
     "output_type": "execute_result"
    }
   ],
   "source": [
    "# Đếm số dòng - cột của DF: \n",
    "edu.shape"
   ]
  },
  {
   "cell_type": "code",
   "execution_count": 43,
   "metadata": {},
   "outputs": [
    {
     "data": {
      "text/plain": [
       "tuple"
      ]
     },
     "execution_count": 43,
     "metadata": {},
     "output_type": "execute_result"
    }
   ],
   "source": [
    "# Chú ý kiểu dữ liệu tạo ra: \n",
    "a = edu.shape\n",
    "type(a)"
   ]
  },
  {
   "cell_type": "code",
   "execution_count": 44,
   "metadata": {},
   "outputs": [
    {
     "data": {
      "text/plain": [
       "384"
      ]
     },
     "execution_count": 44,
     "metadata": {},
     "output_type": "execute_result"
    }
   ],
   "source": [
    "# Vì là một tuble nên có thể truy cập từng phần tử của nó: \n",
    "a[0] "
   ]
  },
  {
   "cell_type": "code",
   "execution_count": 45,
   "metadata": {},
   "outputs": [
    {
     "data": {
      "text/plain": [
       "5"
      ]
     },
     "execution_count": 45,
     "metadata": {},
     "output_type": "execute_result"
    }
   ],
   "source": [
    "a[1]"
   ]
  },
  {
   "cell_type": "markdown",
   "metadata": {},
   "source": [
    "Có thể **chỉ định một cách cụ thể** cột nào của bộ dữ liệu gốc được đọc vào Python và xem qua dữ liệu: \n"
   ]
  },
  {
   "cell_type": "code",
   "execution_count": 2,
   "metadata": {},
   "outputs": [
    {
     "data": {
      "text/html": [
       "<div>\n",
       "<style scoped>\n",
       "    .dataframe tbody tr th:only-of-type {\n",
       "        vertical-align: middle;\n",
       "    }\n",
       "\n",
       "    .dataframe tbody tr th {\n",
       "        vertical-align: top;\n",
       "    }\n",
       "\n",
       "    .dataframe thead th {\n",
       "        text-align: right;\n",
       "    }\n",
       "</style>\n",
       "<table border=\"1\" class=\"dataframe\">\n",
       "  <thead>\n",
       "    <tr style=\"text-align: right;\">\n",
       "      <th></th>\n",
       "      <th>TIME</th>\n",
       "      <th>GEO</th>\n",
       "      <th>Value</th>\n",
       "    </tr>\n",
       "  </thead>\n",
       "  <tbody>\n",
       "    <tr>\n",
       "      <th>0</th>\n",
       "      <td>2000</td>\n",
       "      <td>European Union (28 countries)</td>\n",
       "      <td>NaN</td>\n",
       "    </tr>\n",
       "    <tr>\n",
       "      <th>1</th>\n",
       "      <td>2001</td>\n",
       "      <td>European Union (28 countries)</td>\n",
       "      <td>NaN</td>\n",
       "    </tr>\n",
       "    <tr>\n",
       "      <th>2</th>\n",
       "      <td>2002</td>\n",
       "      <td>European Union (28 countries)</td>\n",
       "      <td>5.00</td>\n",
       "    </tr>\n",
       "    <tr>\n",
       "      <th>3</th>\n",
       "      <td>2003</td>\n",
       "      <td>European Union (28 countries)</td>\n",
       "      <td>5.03</td>\n",
       "    </tr>\n",
       "    <tr>\n",
       "      <th>4</th>\n",
       "      <td>2004</td>\n",
       "      <td>European Union (28 countries)</td>\n",
       "      <td>4.95</td>\n",
       "    </tr>\n",
       "  </tbody>\n",
       "</table>\n",
       "</div>"
      ],
      "text/plain": [
       "   TIME                            GEO  Value\n",
       "0  2000  European Union (28 countries)    NaN\n",
       "1  2001  European Union (28 countries)    NaN\n",
       "2  2002  European Union (28 countries)   5.00\n",
       "3  2003  European Union (28 countries)   5.03\n",
       "4  2004  European Union (28 countries)   4.95"
      ]
     },
     "execution_count": 2,
     "metadata": {},
     "output_type": "execute_result"
    }
   ],
   "source": [
    "edu = pd.read_csv(\"E:/data_science_python/educ_data.csv\", \n",
    "                  na_values = \":\", \n",
    "                  usecols = [\"TIME\", \"GEO\", \"Value\"])\n",
    "\n",
    "edu.head()"
   ]
  },
  {
   "cell_type": "code",
   "execution_count": 47,
   "metadata": {},
   "outputs": [
    {
     "data": {
      "text/plain": [
       "['TIME', 'GEO', 'Value']"
      ]
     },
     "execution_count": 47,
     "metadata": {},
     "output_type": "execute_result"
    }
   ],
   "source": [
    "# Tên của các cột biến: \n",
    "list(edu)"
   ]
  },
  {
   "cell_type": "code",
   "execution_count": 48,
   "metadata": {},
   "outputs": [
    {
     "data": {
      "text/plain": [
       "list"
      ]
     },
     "execution_count": 48,
     "metadata": {},
     "output_type": "execute_result"
    }
   ],
   "source": [
    "# Nên xem xét chi tiết hơn và nó là một list: \n",
    "b = list(edu)\n",
    "type(b)"
   ]
  },
  {
   "cell_type": "code",
   "execution_count": 49,
   "metadata": {},
   "outputs": [
    {
     "data": {
      "text/plain": [
       "'TIME'"
      ]
     },
     "execution_count": 49,
     "metadata": {},
     "output_type": "execute_result"
    }
   ],
   "source": [
    "# Là list nên có thể truy cập từng phần tử theo vị trí: \n",
    "b[0]"
   ]
  },
  {
   "cell_type": "markdown",
   "metadata": {},
   "source": [
    "###  4. Biến  đổi dữ liệu\n",
    "\n",
    "Trong mụcnày chúng ta sẽ nghiên cứu một số hàm quan trọng cho Data Manipulation / Wrangling (tạm dịch là biến đổi dữ liệu) thường được sử dụng khi phân tích dữ liệu. "
   ]
  },
  {
   "cell_type": "markdown",
   "metadata": {},
   "source": [
    "####  4.1Trích một hay nhiều cột\n",
    "\n",
    "Chúng ta sử dụng dấu **[]** để trích ra một hay một số cột của DF gốc: \n"
   ]
  },
  {
   "cell_type": "code",
   "execution_count": 50,
   "metadata": {},
   "outputs": [
    {
     "data": {
      "text/plain": [
       "0     NaN\n",
       "1     NaN\n",
       "2    5.00\n",
       "3    5.03\n",
       "4    4.95\n",
       "Name: Value, dtype: float64"
      ]
     },
     "execution_count": 50,
     "metadata": {},
     "output_type": "execute_result"
    }
   ],
   "source": [
    "# Trích ra cột Value (kết quả là một series): \n",
    "s1 = edu[\"Value\"]\n",
    "# Xem 5 quan sát đầu: \n",
    "s1.head()"
   ]
  },
  {
   "cell_type": "code",
   "execution_count": 51,
   "metadata": {},
   "outputs": [
    {
     "data": {
      "text/html": [
       "<div>\n",
       "<style scoped>\n",
       "    .dataframe tbody tr th:only-of-type {\n",
       "        vertical-align: middle;\n",
       "    }\n",
       "\n",
       "    .dataframe tbody tr th {\n",
       "        vertical-align: top;\n",
       "    }\n",
       "\n",
       "    .dataframe thead th {\n",
       "        text-align: right;\n",
       "    }\n",
       "</style>\n",
       "<table border=\"1\" class=\"dataframe\">\n",
       "  <thead>\n",
       "    <tr style=\"text-align: right;\">\n",
       "      <th></th>\n",
       "      <th>Value</th>\n",
       "      <th>TIME</th>\n",
       "    </tr>\n",
       "  </thead>\n",
       "  <tbody>\n",
       "    <tr>\n",
       "      <th>0</th>\n",
       "      <td>NaN</td>\n",
       "      <td>2000</td>\n",
       "    </tr>\n",
       "    <tr>\n",
       "      <th>1</th>\n",
       "      <td>NaN</td>\n",
       "      <td>2001</td>\n",
       "    </tr>\n",
       "    <tr>\n",
       "      <th>2</th>\n",
       "      <td>5.00</td>\n",
       "      <td>2002</td>\n",
       "    </tr>\n",
       "    <tr>\n",
       "      <th>3</th>\n",
       "      <td>5.03</td>\n",
       "      <td>2003</td>\n",
       "    </tr>\n",
       "    <tr>\n",
       "      <th>4</th>\n",
       "      <td>4.95</td>\n",
       "      <td>2004</td>\n",
       "    </tr>\n",
       "  </tbody>\n",
       "</table>\n",
       "</div>"
      ],
      "text/plain": [
       "   Value  TIME\n",
       "0    NaN  2000\n",
       "1    NaN  2001\n",
       "2   5.00  2002\n",
       "3   5.03  2003\n",
       "4   4.95  2004"
      ]
     },
     "execution_count": 51,
     "metadata": {},
     "output_type": "execute_result"
    }
   ],
   "source": [
    "# Trích ra hai cột (đây lại là một DF): \n",
    "s2 = edu[[\"Value\", \"TIME\"]]\n",
    "s2.head()"
   ]
  },
  {
   "cell_type": "code",
   "execution_count": 52,
   "metadata": {},
   "outputs": [
    {
     "data": {
      "text/plain": [
       "pandas.core.frame.DataFrame"
      ]
     },
     "execution_count": 52,
     "metadata": {},
     "output_type": "execute_result"
    }
   ],
   "source": [
    "# Có thể kiêm tra lại, ví dụ, nhận định rằng s2 là một DF: \n",
    "type(s2)"
   ]
  },
  {
   "cell_type": "code",
   "execution_count": 53,
   "metadata": {},
   "outputs": [
    {
     "data": {
      "text/plain": [
       "pandas.core.series.Series"
      ]
     },
     "execution_count": 53,
     "metadata": {},
     "output_type": "execute_result"
    }
   ],
   "source": [
    "# Còn s1 lại là series: \n",
    "type(s1)"
   ]
  },
  {
   "cell_type": "code",
   "execution_count": 54,
   "metadata": {},
   "outputs": [
    {
     "data": {
      "text/plain": [
       "0    European Union (28 countries)\n",
       "1    European Union (28 countries)\n",
       "2    European Union (28 countries)\n",
       "3    European Union (28 countries)\n",
       "4    European Union (28 countries)\n",
       "Name: GEO, dtype: object"
      ]
     },
     "execution_count": 54,
     "metadata": {},
     "output_type": "execute_result"
    }
   ],
   "source": [
    "# Đối với cột biến định tính: \n",
    "edu[\"GEO\"].head()"
   ]
  },
  {
   "cell_type": "markdown",
   "metadata": {},
   "source": [
    "Có thể thấy rằng cách thức tư duy của pandas mà cụ thể là dấu chấm ở đây tương tự  như **toán tử pipe (%>%)** mà chúng ta đã biết đối với những người sử dụng R. Thực vậy, edu[\"GEO\"] là nguyên liệu đầu vào còn dấu . có nghĩa là *kế đến là* liệt kê 5 phần tử đầu tiên của nguyên liệu đầu vào được chọn. "
   ]
  },
  {
   "cell_type": "markdown",
   "metadata": {},
   "source": [
    "#### 4.2 Trích ra một  số dòng"
   ]
  },
  {
   "cell_type": "code",
   "execution_count": 55,
   "metadata": {},
   "outputs": [
    {
     "data": {
      "text/html": [
       "<div>\n",
       "<style scoped>\n",
       "    .dataframe tbody tr th:only-of-type {\n",
       "        vertical-align: middle;\n",
       "    }\n",
       "\n",
       "    .dataframe tbody tr th {\n",
       "        vertical-align: top;\n",
       "    }\n",
       "\n",
       "    .dataframe thead th {\n",
       "        text-align: right;\n",
       "    }\n",
       "</style>\n",
       "<table border=\"1\" class=\"dataframe\">\n",
       "  <thead>\n",
       "    <tr style=\"text-align: right;\">\n",
       "      <th></th>\n",
       "      <th>TIME</th>\n",
       "      <th>GEO</th>\n",
       "      <th>Value</th>\n",
       "    </tr>\n",
       "  </thead>\n",
       "  <tbody>\n",
       "    <tr>\n",
       "      <th>10</th>\n",
       "      <td>2010</td>\n",
       "      <td>European Union (28 countries)</td>\n",
       "      <td>5.41</td>\n",
       "    </tr>\n",
       "    <tr>\n",
       "      <th>11</th>\n",
       "      <td>2011</td>\n",
       "      <td>European Union (28 countries)</td>\n",
       "      <td>5.25</td>\n",
       "    </tr>\n",
       "    <tr>\n",
       "      <th>12</th>\n",
       "      <td>2000</td>\n",
       "      <td>European Union (27 countries)</td>\n",
       "      <td>4.91</td>\n",
       "    </tr>\n",
       "  </tbody>\n",
       "</table>\n",
       "</div>"
      ],
      "text/plain": [
       "    TIME                            GEO  Value\n",
       "10  2010  European Union (28 countries)   5.41\n",
       "11  2011  European Union (28 countries)   5.25\n",
       "12  2000  European Union (27 countries)   4.91"
      ]
     },
     "execution_count": 55,
     "metadata": {},
     "output_type": "execute_result"
    }
   ],
   "source": [
    "# Trích ra dòng từ 10 đến 13: \n",
    "df2 = edu[10:13]\n",
    "df2"
   ]
  },
  {
   "cell_type": "markdown",
   "metadata": {},
   "source": [
    "#### 4.3 Trích ra vừa dòng vừa cột: "
   ]
  },
  {
   "cell_type": "code",
   "execution_count": 57,
   "metadata": {},
   "outputs": [
    {
     "data": {
      "text/html": [
       "<div>\n",
       "<style scoped>\n",
       "    .dataframe tbody tr th:only-of-type {\n",
       "        vertical-align: middle;\n",
       "    }\n",
       "\n",
       "    .dataframe tbody tr th {\n",
       "        vertical-align: top;\n",
       "    }\n",
       "\n",
       "    .dataframe thead th {\n",
       "        text-align: right;\n",
       "    }\n",
       "</style>\n",
       "<table border=\"1\" class=\"dataframe\">\n",
       "  <thead>\n",
       "    <tr style=\"text-align: right;\">\n",
       "      <th></th>\n",
       "      <th>Value</th>\n",
       "      <th>TIME</th>\n",
       "    </tr>\n",
       "  </thead>\n",
       "  <tbody>\n",
       "    <tr>\n",
       "      <th>2</th>\n",
       "      <td>5.00</td>\n",
       "      <td>2002</td>\n",
       "    </tr>\n",
       "    <tr>\n",
       "      <th>3</th>\n",
       "      <td>5.03</td>\n",
       "      <td>2003</td>\n",
       "    </tr>\n",
       "    <tr>\n",
       "      <th>4</th>\n",
       "      <td>4.95</td>\n",
       "      <td>2004</td>\n",
       "    </tr>\n",
       "    <tr>\n",
       "      <th>5</th>\n",
       "      <td>4.92</td>\n",
       "      <td>2005</td>\n",
       "    </tr>\n",
       "  </tbody>\n",
       "</table>\n",
       "</div>"
      ],
      "text/plain": [
       "   Value  TIME\n",
       "2   5.00  2002\n",
       "3   5.03  2003\n",
       "4   4.95  2004\n",
       "5   4.92  2005"
      ]
     },
     "execution_count": 57,
     "metadata": {},
     "output_type": "execute_result"
    }
   ],
   "source": [
    "# Lấy ra các dòng từ 2 đến 5, cột Value và TIME: \n",
    "edu.ix[2:5, [\"Value\", \"TIME\"]]\n"
   ]
  },
  {
   "cell_type": "code",
   "execution_count": 58,
   "metadata": {},
   "outputs": [
    {
     "data": {
      "text/plain": [
       "0     European Union (28 countries)\n",
       "2     European Union (28 countries)\n",
       "6     European Union (28 countries)\n",
       "19    European Union (27 countries)\n",
       "Name: GEO, dtype: object"
      ]
     },
     "execution_count": 58,
     "metadata": {},
     "output_type": "execute_result"
    }
   ],
   "source": [
    "# Lấy các quan sát ở dòng 0, 2, 6, 19 ở cột GEO: \n",
    "edu.ix[[0, 2, 6, 19], \"GEO\"]"
   ]
  },
  {
   "cell_type": "code",
   "execution_count": 59,
   "metadata": {},
   "outputs": [
    {
     "data": {
      "text/html": [
       "<div>\n",
       "<style scoped>\n",
       "    .dataframe tbody tr th:only-of-type {\n",
       "        vertical-align: middle;\n",
       "    }\n",
       "\n",
       "    .dataframe tbody tr th {\n",
       "        vertical-align: top;\n",
       "    }\n",
       "\n",
       "    .dataframe thead th {\n",
       "        text-align: right;\n",
       "    }\n",
       "</style>\n",
       "<table border=\"1\" class=\"dataframe\">\n",
       "  <thead>\n",
       "    <tr style=\"text-align: right;\">\n",
       "      <th></th>\n",
       "      <th>Value</th>\n",
       "      <th>TIME</th>\n",
       "    </tr>\n",
       "  </thead>\n",
       "  <tbody>\n",
       "    <tr>\n",
       "      <th>4</th>\n",
       "      <td>4.95</td>\n",
       "      <td>2004</td>\n",
       "    </tr>\n",
       "    <tr>\n",
       "      <th>6</th>\n",
       "      <td>4.91</td>\n",
       "      <td>2006</td>\n",
       "    </tr>\n",
       "    <tr>\n",
       "      <th>10</th>\n",
       "      <td>5.41</td>\n",
       "      <td>2010</td>\n",
       "    </tr>\n",
       "  </tbody>\n",
       "</table>\n",
       "</div>"
      ],
      "text/plain": [
       "    Value  TIME\n",
       "4    4.95  2004\n",
       "6    4.91  2006\n",
       "10   5.41  2010"
      ]
     },
     "execution_count": 59,
     "metadata": {},
     "output_type": "execute_result"
    }
   ],
   "source": [
    "# Tương tự: \n",
    "edu.ix[[4, 6, 10], [\"Value\", \"TIME\"]]"
   ]
  },
  {
   "cell_type": "code",
   "execution_count": 60,
   "metadata": {},
   "outputs": [
    {
     "data": {
      "text/html": [
       "<div>\n",
       "<style scoped>\n",
       "    .dataframe tbody tr th:only-of-type {\n",
       "        vertical-align: middle;\n",
       "    }\n",
       "\n",
       "    .dataframe tbody tr th {\n",
       "        vertical-align: top;\n",
       "    }\n",
       "\n",
       "    .dataframe thead th {\n",
       "        text-align: right;\n",
       "    }\n",
       "</style>\n",
       "<table border=\"1\" class=\"dataframe\">\n",
       "  <thead>\n",
       "    <tr style=\"text-align: right;\">\n",
       "      <th></th>\n",
       "      <th>Nation</th>\n",
       "      <th>Gold</th>\n",
       "      <th>Silver</th>\n",
       "    </tr>\n",
       "  </thead>\n",
       "  <tbody>\n",
       "    <tr>\n",
       "      <th>2</th>\n",
       "      <td>SGP</td>\n",
       "      <td>58</td>\n",
       "      <td>58</td>\n",
       "    </tr>\n",
       "    <tr>\n",
       "      <th>0</th>\n",
       "      <td>MAS</td>\n",
       "      <td>144</td>\n",
       "      <td>91</td>\n",
       "    </tr>\n",
       "  </tbody>\n",
       "</table>\n",
       "</div>"
      ],
      "text/plain": [
       "  Nation  Gold  Silver\n",
       "2    SGP    58      58\n",
       "0    MAS   144      91"
      ]
     },
     "execution_count": 60,
     "metadata": {},
     "output_type": "execute_result"
    }
   ],
   "source": [
    "# Lấy ra ngẫu nhiên không hoàn lại 2 quan sát từ df1: \n",
    "df1.sample(2, replace = False)"
   ]
  },
  {
   "cell_type": "markdown",
   "metadata": {},
   "source": [
    "Tất nhiên kết quả của bạn có thể khác. Và thực hiện  lại câu lệnh kết quả cũng khác. Để cố định kết quả chúng ta sử dụng lệnh gieo hạt. Lấy ví dụ với edu: "
   ]
  },
  {
   "cell_type": "code",
   "execution_count": 61,
   "metadata": {},
   "outputs": [
    {
     "data": {
      "text/html": [
       "<div>\n",
       "<style scoped>\n",
       "    .dataframe tbody tr th:only-of-type {\n",
       "        vertical-align: middle;\n",
       "    }\n",
       "\n",
       "    .dataframe tbody tr th {\n",
       "        vertical-align: top;\n",
       "    }\n",
       "\n",
       "    .dataframe thead th {\n",
       "        text-align: right;\n",
       "    }\n",
       "</style>\n",
       "<table border=\"1\" class=\"dataframe\">\n",
       "  <thead>\n",
       "    <tr style=\"text-align: right;\">\n",
       "      <th></th>\n",
       "      <th>TIME</th>\n",
       "      <th>GEO</th>\n",
       "      <th>Value</th>\n",
       "    </tr>\n",
       "  </thead>\n",
       "  <tbody>\n",
       "    <tr>\n",
       "      <th>105</th>\n",
       "      <td>2009</td>\n",
       "      <td>Bulgaria</td>\n",
       "      <td>4.58</td>\n",
       "    </tr>\n",
       "    <tr>\n",
       "      <th>282</th>\n",
       "      <td>2006</td>\n",
       "      <td>Malta</td>\n",
       "      <td>6.45</td>\n",
       "    </tr>\n",
       "    <tr>\n",
       "      <th>235</th>\n",
       "      <td>2007</td>\n",
       "      <td>Latvia</td>\n",
       "      <td>5.07</td>\n",
       "    </tr>\n",
       "    <tr>\n",
       "      <th>162</th>\n",
       "      <td>2006</td>\n",
       "      <td>Ireland</td>\n",
       "      <td>4.73</td>\n",
       "    </tr>\n",
       "    <tr>\n",
       "      <th>294</th>\n",
       "      <td>2006</td>\n",
       "      <td>Netherlands</td>\n",
       "      <td>5.50</td>\n",
       "    </tr>\n",
       "    <tr>\n",
       "      <th>101</th>\n",
       "      <td>2005</td>\n",
       "      <td>Bulgaria</td>\n",
       "      <td>4.25</td>\n",
       "    </tr>\n",
       "    <tr>\n",
       "      <th>280</th>\n",
       "      <td>2004</td>\n",
       "      <td>Malta</td>\n",
       "      <td>4.66</td>\n",
       "    </tr>\n",
       "    <tr>\n",
       "      <th>325</th>\n",
       "      <td>2001</td>\n",
       "      <td>Portugal</td>\n",
       "      <td>5.39</td>\n",
       "    </tr>\n",
       "    <tr>\n",
       "      <th>124</th>\n",
       "      <td>2004</td>\n",
       "      <td>Denmark</td>\n",
       "      <td>8.43</td>\n",
       "    </tr>\n",
       "    <tr>\n",
       "      <th>80</th>\n",
       "      <td>2008</td>\n",
       "      <td>Euro area (13 countries)</td>\n",
       "      <td>4.94</td>\n",
       "    </tr>\n",
       "  </tbody>\n",
       "</table>\n",
       "</div>"
      ],
      "text/plain": [
       "     TIME                       GEO  Value\n",
       "105  2009                  Bulgaria   4.58\n",
       "282  2006                     Malta   6.45\n",
       "235  2007                    Latvia   5.07\n",
       "162  2006                   Ireland   4.73\n",
       "294  2006               Netherlands   5.50\n",
       "101  2005                  Bulgaria   4.25\n",
       "280  2004                     Malta   4.66\n",
       "325  2001                  Portugal   5.39\n",
       "124  2004                   Denmark   8.43\n",
       "80   2008  Euro area (13 countries)   4.94"
      ]
     },
     "execution_count": 61,
     "metadata": {},
     "output_type": "execute_result"
    }
   ],
   "source": [
    "# Lấy ra 10 quan sát của  edu: \n",
    "edu.sample(10, random_state = 9)"
   ]
  },
  {
   "cell_type": "code",
   "execution_count": 62,
   "metadata": {},
   "outputs": [
    {
     "data": {
      "text/plain": [
       "(192, 3)"
      ]
     },
     "execution_count": 62,
     "metadata": {},
     "output_type": "execute_result"
    }
   ],
   "source": [
    "# Lấy ra 50% số dòng từ edu theo cách thức chọn mẫu không hoàn lại: \n",
    "df50 = edu.sample(frac = 0.5, random_state = 9)\n",
    "df50.shape"
   ]
  },
  {
   "cell_type": "markdown",
   "metadata": {},
   "source": [
    "Những dòng lệnh dưới đây một  lần nữa cho thấy sự tương tự giữa toán tử pipe ở R và dấu . của Python: "
   ]
  },
  {
   "cell_type": "code",
   "execution_count": 63,
   "metadata": {},
   "outputs": [
    {
     "data": {
      "text/html": [
       "<div>\n",
       "<style scoped>\n",
       "    .dataframe tbody tr th:only-of-type {\n",
       "        vertical-align: middle;\n",
       "    }\n",
       "\n",
       "    .dataframe tbody tr th {\n",
       "        vertical-align: top;\n",
       "    }\n",
       "\n",
       "    .dataframe thead th {\n",
       "        text-align: right;\n",
       "    }\n",
       "</style>\n",
       "<table border=\"1\" class=\"dataframe\">\n",
       "  <thead>\n",
       "    <tr style=\"text-align: right;\">\n",
       "      <th></th>\n",
       "      <th>TIME</th>\n",
       "      <th>Value</th>\n",
       "    </tr>\n",
       "  </thead>\n",
       "  <tbody>\n",
       "    <tr>\n",
       "      <th>52</th>\n",
       "      <td>2004</td>\n",
       "      <td>4.80</td>\n",
       "    </tr>\n",
       "    <tr>\n",
       "      <th>213</th>\n",
       "      <td>2009</td>\n",
       "      <td>4.70</td>\n",
       "    </tr>\n",
       "    <tr>\n",
       "      <th>139</th>\n",
       "      <td>2007</td>\n",
       "      <td>4.49</td>\n",
       "    </tr>\n",
       "    <tr>\n",
       "      <th>182</th>\n",
       "      <td>2002</td>\n",
       "      <td>4.25</td>\n",
       "    </tr>\n",
       "    <tr>\n",
       "      <th>300</th>\n",
       "      <td>2000</td>\n",
       "      <td>5.66</td>\n",
       "    </tr>\n",
       "    <tr>\n",
       "      <th>75</th>\n",
       "      <td>2003</td>\n",
       "      <td>5.04</td>\n",
       "    </tr>\n",
       "    <tr>\n",
       "      <th>49</th>\n",
       "      <td>2001</td>\n",
       "      <td>NaN</td>\n",
       "    </tr>\n",
       "    <tr>\n",
       "      <th>344</th>\n",
       "      <td>2008</td>\n",
       "      <td>NaN</td>\n",
       "    </tr>\n",
       "    <tr>\n",
       "      <th>377</th>\n",
       "      <td>2005</td>\n",
       "      <td>6.30</td>\n",
       "    </tr>\n",
       "    <tr>\n",
       "      <th>157</th>\n",
       "      <td>2001</td>\n",
       "      <td>4.24</td>\n",
       "    </tr>\n",
       "  </tbody>\n",
       "</table>\n",
       "</div>"
      ],
      "text/plain": [
       "     TIME  Value\n",
       "52   2004   4.80\n",
       "213  2009   4.70\n",
       "139  2007   4.49\n",
       "182  2002   4.25\n",
       "300  2000   5.66\n",
       "75   2003   5.04\n",
       "49   2001    NaN\n",
       "344  2008    NaN\n",
       "377  2005   6.30\n",
       "157  2001   4.24"
      ]
     },
     "execution_count": 63,
     "metadata": {},
     "output_type": "execute_result"
    }
   ],
   "source": [
    "# Vừa chọn cột, vừa lấy  ngẫu nhiên 10 quan sát: \n",
    "edu[[\"TIME\", \"Value\"]].sample(10, random_state = 5)"
   ]
  },
  {
   "cell_type": "code",
   "execution_count": 64,
   "metadata": {},
   "outputs": [
    {
     "data": {
      "text/plain": [
       "TIME     2004.000\n",
       "Value       4.935\n",
       "dtype: float64"
      ]
     },
     "execution_count": 64,
     "metadata": {},
     "output_type": "execute_result"
    }
   ],
   "source": [
    "# Vừa chọn cột, vừa lấy ngẫu nhiên 10 quan sát rồi tính mean: \n",
    "edu[[\"TIME\", \"Value\"]].sample(10, random_state = 5).mean()"
   ]
  },
  {
   "cell_type": "markdown",
   "metadata": {},
   "source": [
    "Lưu ý rằng hàm **mean()** mà chúng ta vừa sử dụng ở trên của gói pandas tự động loại NA trước khi tính toán. Chúng ta sẽ nghiên cứu kĩ  hơn về điều này ở mục sau. "
   ]
  },
  {
   "cell_type": "markdown",
   "metadata": {},
   "source": [
    "#### 4.4 Lọc dữ liệu "
   ]
  },
  {
   "cell_type": "code",
   "execution_count": 65,
   "metadata": {},
   "outputs": [
    {
     "data": {
      "text/html": [
       "<div>\n",
       "<style scoped>\n",
       "    .dataframe tbody tr th:only-of-type {\n",
       "        vertical-align: middle;\n",
       "    }\n",
       "\n",
       "    .dataframe tbody tr th {\n",
       "        vertical-align: top;\n",
       "    }\n",
       "\n",
       "    .dataframe thead th {\n",
       "        text-align: right;\n",
       "    }\n",
       "</style>\n",
       "<table border=\"1\" class=\"dataframe\">\n",
       "  <thead>\n",
       "    <tr style=\"text-align: right;\">\n",
       "      <th></th>\n",
       "      <th>TIME</th>\n",
       "      <th>GEO</th>\n",
       "      <th>Value</th>\n",
       "    </tr>\n",
       "  </thead>\n",
       "  <tbody>\n",
       "    <tr>\n",
       "      <th>120</th>\n",
       "      <td>2000</td>\n",
       "      <td>Denmark</td>\n",
       "      <td>8.28</td>\n",
       "    </tr>\n",
       "    <tr>\n",
       "      <th>121</th>\n",
       "      <td>2001</td>\n",
       "      <td>Denmark</td>\n",
       "      <td>8.44</td>\n",
       "    </tr>\n",
       "    <tr>\n",
       "      <th>122</th>\n",
       "      <td>2002</td>\n",
       "      <td>Denmark</td>\n",
       "      <td>8.44</td>\n",
       "    </tr>\n",
       "    <tr>\n",
       "      <th>123</th>\n",
       "      <td>2003</td>\n",
       "      <td>Denmark</td>\n",
       "      <td>8.33</td>\n",
       "    </tr>\n",
       "    <tr>\n",
       "      <th>124</th>\n",
       "      <td>2004</td>\n",
       "      <td>Denmark</td>\n",
       "      <td>8.43</td>\n",
       "    </tr>\n",
       "  </tbody>\n",
       "</table>\n",
       "</div>"
      ],
      "text/plain": [
       "     TIME      GEO  Value\n",
       "120  2000  Denmark   8.28\n",
       "121  2001  Denmark   8.44\n",
       "122  2002  Denmark   8.44\n",
       "123  2003  Denmark   8.33\n",
       "124  2004  Denmark   8.43"
      ]
     },
     "execution_count": 65,
     "metadata": {},
     "output_type": "execute_result"
    }
   ],
   "source": [
    "# Lọc ra DF mà Value lớn hơn 7 rồi coi 5 quan sát đầu: \n",
    "lon_hon7 = edu[edu[\"Value\"] > 7]\n",
    "lon_hon7.head()"
   ]
  },
  {
   "cell_type": "code",
   "execution_count": 66,
   "metadata": {},
   "outputs": [
    {
     "data": {
      "text/html": [
       "<div>\n",
       "<style scoped>\n",
       "    .dataframe tbody tr th:only-of-type {\n",
       "        vertical-align: middle;\n",
       "    }\n",
       "\n",
       "    .dataframe tbody tr th {\n",
       "        vertical-align: top;\n",
       "    }\n",
       "\n",
       "    .dataframe thead th {\n",
       "        text-align: right;\n",
       "    }\n",
       "</style>\n",
       "<table border=\"1\" class=\"dataframe\">\n",
       "  <thead>\n",
       "    <tr style=\"text-align: right;\">\n",
       "      <th></th>\n",
       "      <th>TIME</th>\n",
       "      <th>GEO</th>\n",
       "      <th>Value</th>\n",
       "    </tr>\n",
       "  </thead>\n",
       "  <tbody>\n",
       "    <tr>\n",
       "      <th>120</th>\n",
       "      <td>2000</td>\n",
       "      <td>Denmark</td>\n",
       "      <td>8.28</td>\n",
       "    </tr>\n",
       "    <tr>\n",
       "      <th>121</th>\n",
       "      <td>2001</td>\n",
       "      <td>Denmark</td>\n",
       "      <td>8.44</td>\n",
       "    </tr>\n",
       "    <tr>\n",
       "      <th>122</th>\n",
       "      <td>2002</td>\n",
       "      <td>Denmark</td>\n",
       "      <td>8.44</td>\n",
       "    </tr>\n",
       "    <tr>\n",
       "      <th>123</th>\n",
       "      <td>2003</td>\n",
       "      <td>Denmark</td>\n",
       "      <td>8.33</td>\n",
       "    </tr>\n",
       "    <tr>\n",
       "      <th>124</th>\n",
       "      <td>2004</td>\n",
       "      <td>Denmark</td>\n",
       "      <td>8.43</td>\n",
       "    </tr>\n",
       "  </tbody>\n",
       "</table>\n",
       "</div>"
      ],
      "text/plain": [
       "     TIME      GEO  Value\n",
       "120  2000  Denmark   8.28\n",
       "121  2001  Denmark   8.44\n",
       "122  2002  Denmark   8.44\n",
       "123  2003  Denmark   8.33\n",
       "124  2004  Denmark   8.43"
      ]
     },
     "execution_count": 66,
     "metadata": {},
     "output_type": "execute_result"
    }
   ],
   "source": [
    "# Hoặc một cách thức khác: \n",
    "edu[edu[\"Value\"] > 7].head()"
   ]
  },
  {
   "cell_type": "code",
   "execution_count": 67,
   "metadata": {},
   "outputs": [
    {
     "data": {
      "text/html": [
       "<div>\n",
       "<style scoped>\n",
       "    .dataframe tbody tr th:only-of-type {\n",
       "        vertical-align: middle;\n",
       "    }\n",
       "\n",
       "    .dataframe tbody tr th {\n",
       "        vertical-align: top;\n",
       "    }\n",
       "\n",
       "    .dataframe thead th {\n",
       "        text-align: right;\n",
       "    }\n",
       "</style>\n",
       "<table border=\"1\" class=\"dataframe\">\n",
       "  <thead>\n",
       "    <tr style=\"text-align: right;\">\n",
       "      <th></th>\n",
       "      <th>TIME</th>\n",
       "      <th>GEO</th>\n",
       "      <th>Value</th>\n",
       "    </tr>\n",
       "  </thead>\n",
       "  <tbody>\n",
       "    <tr>\n",
       "      <th>192</th>\n",
       "      <td>2000</td>\n",
       "      <td>France</td>\n",
       "      <td>6.04</td>\n",
       "    </tr>\n",
       "    <tr>\n",
       "      <th>193</th>\n",
       "      <td>2001</td>\n",
       "      <td>France</td>\n",
       "      <td>5.95</td>\n",
       "    </tr>\n",
       "    <tr>\n",
       "      <th>194</th>\n",
       "      <td>2002</td>\n",
       "      <td>France</td>\n",
       "      <td>5.90</td>\n",
       "    </tr>\n",
       "    <tr>\n",
       "      <th>195</th>\n",
       "      <td>2003</td>\n",
       "      <td>France</td>\n",
       "      <td>5.92</td>\n",
       "    </tr>\n",
       "    <tr>\n",
       "      <th>196</th>\n",
       "      <td>2004</td>\n",
       "      <td>France</td>\n",
       "      <td>5.80</td>\n",
       "    </tr>\n",
       "  </tbody>\n",
       "</table>\n",
       "</div>"
      ],
      "text/plain": [
       "     TIME     GEO  Value\n",
       "192  2000  France   6.04\n",
       "193  2001  France   5.95\n",
       "194  2002  France   5.90\n",
       "195  2003  France   5.92\n",
       "196  2004  France   5.80"
      ]
     },
     "execution_count": 67,
     "metadata": {},
     "output_type": "execute_result"
    }
   ],
   "source": [
    "# Lọc ra những quan sát là French ở cột GEO: \n",
    "phap = edu[edu[\"GEO\"] == \"France\"]\n",
    "\n",
    "# Rồi xem qua dữ liệu: \n",
    "phap.head()\n"
   ]
  },
  {
   "cell_type": "code",
   "execution_count": 7,
   "metadata": {},
   "outputs": [
    {
     "data": {
      "text/html": [
       "<div>\n",
       "<style scoped>\n",
       "    .dataframe tbody tr th:only-of-type {\n",
       "        vertical-align: middle;\n",
       "    }\n",
       "\n",
       "    .dataframe tbody tr th {\n",
       "        vertical-align: top;\n",
       "    }\n",
       "\n",
       "    .dataframe thead th {\n",
       "        text-align: right;\n",
       "    }\n",
       "</style>\n",
       "<table border=\"1\" class=\"dataframe\">\n",
       "  <thead>\n",
       "    <tr style=\"text-align: right;\">\n",
       "      <th></th>\n",
       "      <th>TIME</th>\n",
       "      <th>GEO</th>\n",
       "      <th>Value</th>\n",
       "    </tr>\n",
       "  </thead>\n",
       "  <tbody>\n",
       "    <tr>\n",
       "      <th>198</th>\n",
       "      <td>2006</td>\n",
       "      <td>France</td>\n",
       "      <td>5.61</td>\n",
       "    </tr>\n",
       "    <tr>\n",
       "      <th>199</th>\n",
       "      <td>2007</td>\n",
       "      <td>France</td>\n",
       "      <td>5.62</td>\n",
       "    </tr>\n",
       "    <tr>\n",
       "      <th>200</th>\n",
       "      <td>2008</td>\n",
       "      <td>France</td>\n",
       "      <td>5.62</td>\n",
       "    </tr>\n",
       "    <tr>\n",
       "      <th>201</th>\n",
       "      <td>2009</td>\n",
       "      <td>France</td>\n",
       "      <td>5.90</td>\n",
       "    </tr>\n",
       "    <tr>\n",
       "      <th>202</th>\n",
       "      <td>2010</td>\n",
       "      <td>France</td>\n",
       "      <td>5.86</td>\n",
       "    </tr>\n",
       "    <tr>\n",
       "      <th>203</th>\n",
       "      <td>2011</td>\n",
       "      <td>France</td>\n",
       "      <td>5.68</td>\n",
       "    </tr>\n",
       "  </tbody>\n",
       "</table>\n",
       "</div>"
      ],
      "text/plain": [
       "     TIME     GEO  Value\n",
       "198  2006  France   5.61\n",
       "199  2007  France   5.62\n",
       "200  2008  France   5.62\n",
       "201  2009  France   5.90\n",
       "202  2010  France   5.86\n",
       "203  2011  France   5.68"
      ]
     },
     "execution_count": 7,
     "metadata": {},
     "output_type": "execute_result"
    }
   ],
   "source": [
    "# Các quan sát là France và Time là sau năm 2005: \n",
    "edu[(edu[\"GEO\"] == \"France\") & (edu[\"TIME\"] >= 2006)]"
   ]
  },
  {
   "cell_type": "code",
   "execution_count": 11,
   "metadata": {},
   "outputs": [
    {
     "data": {
      "text/html": [
       "<div>\n",
       "<style scoped>\n",
       "    .dataframe tbody tr th:only-of-type {\n",
       "        vertical-align: middle;\n",
       "    }\n",
       "\n",
       "    .dataframe tbody tr th {\n",
       "        vertical-align: top;\n",
       "    }\n",
       "\n",
       "    .dataframe thead th {\n",
       "        text-align: right;\n",
       "    }\n",
       "</style>\n",
       "<table border=\"1\" class=\"dataframe\">\n",
       "  <thead>\n",
       "    <tr style=\"text-align: right;\">\n",
       "      <th></th>\n",
       "      <th>TIME</th>\n",
       "      <th>GEO</th>\n",
       "      <th>Value</th>\n",
       "    </tr>\n",
       "  </thead>\n",
       "  <tbody>\n",
       "    <tr>\n",
       "      <th>186</th>\n",
       "      <td>2006</td>\n",
       "      <td>Spain</td>\n",
       "      <td>4.26</td>\n",
       "    </tr>\n",
       "    <tr>\n",
       "      <th>187</th>\n",
       "      <td>2007</td>\n",
       "      <td>Spain</td>\n",
       "      <td>4.34</td>\n",
       "    </tr>\n",
       "    <tr>\n",
       "      <th>188</th>\n",
       "      <td>2008</td>\n",
       "      <td>Spain</td>\n",
       "      <td>4.62</td>\n",
       "    </tr>\n",
       "    <tr>\n",
       "      <th>189</th>\n",
       "      <td>2009</td>\n",
       "      <td>Spain</td>\n",
       "      <td>5.02</td>\n",
       "    </tr>\n",
       "    <tr>\n",
       "      <th>190</th>\n",
       "      <td>2010</td>\n",
       "      <td>Spain</td>\n",
       "      <td>4.98</td>\n",
       "    </tr>\n",
       "    <tr>\n",
       "      <th>191</th>\n",
       "      <td>2011</td>\n",
       "      <td>Spain</td>\n",
       "      <td>4.82</td>\n",
       "    </tr>\n",
       "    <tr>\n",
       "      <th>198</th>\n",
       "      <td>2006</td>\n",
       "      <td>France</td>\n",
       "      <td>5.61</td>\n",
       "    </tr>\n",
       "    <tr>\n",
       "      <th>199</th>\n",
       "      <td>2007</td>\n",
       "      <td>France</td>\n",
       "      <td>5.62</td>\n",
       "    </tr>\n",
       "    <tr>\n",
       "      <th>200</th>\n",
       "      <td>2008</td>\n",
       "      <td>France</td>\n",
       "      <td>5.62</td>\n",
       "    </tr>\n",
       "    <tr>\n",
       "      <th>201</th>\n",
       "      <td>2009</td>\n",
       "      <td>France</td>\n",
       "      <td>5.90</td>\n",
       "    </tr>\n",
       "    <tr>\n",
       "      <th>202</th>\n",
       "      <td>2010</td>\n",
       "      <td>France</td>\n",
       "      <td>5.86</td>\n",
       "    </tr>\n",
       "    <tr>\n",
       "      <th>203</th>\n",
       "      <td>2011</td>\n",
       "      <td>France</td>\n",
       "      <td>5.68</td>\n",
       "    </tr>\n",
       "  </tbody>\n",
       "</table>\n",
       "</div>"
      ],
      "text/plain": [
       "     TIME     GEO  Value\n",
       "186  2006   Spain   4.26\n",
       "187  2007   Spain   4.34\n",
       "188  2008   Spain   4.62\n",
       "189  2009   Spain   5.02\n",
       "190  2010   Spain   4.98\n",
       "191  2011   Spain   4.82\n",
       "198  2006  France   5.61\n",
       "199  2007  France   5.62\n",
       "200  2008  France   5.62\n",
       "201  2009  France   5.90\n",
       "202  2010  France   5.86\n",
       "203  2011  France   5.68"
      ]
     },
     "execution_count": 11,
     "metadata": {},
     "output_type": "execute_result"
    }
   ],
   "source": [
    "# Các quan sát là France hoặc Spain và Time là sau năm 2005: \n",
    "fs = edu[(edu[\"GEO\"] == \"France\") | (edu[\"GEO\"] == \"Spain\")]\n",
    "fs[fs[\"TIME\"] > 2005]"
   ]
  },
  {
   "cell_type": "markdown",
   "metadata": {},
   "source": [
    "#### 4.5 Lọc dữ liệu thiếu\n",
    "\n",
    "Dữ liệu thiếu (Missing Data) là một  vấn đề thường gặp khi xử lí dữ liệu do vậy chúng ta nên chú ý nhóm lệnh liên quan đến  dữ liệu thiếu. \n"
   ]
  },
  {
   "cell_type": "code",
   "execution_count": 68,
   "metadata": {},
   "outputs": [
    {
     "data": {
      "text/plain": [
       "0     True\n",
       "1     True\n",
       "2    False\n",
       "3    False\n",
       "4    False\n",
       "Name: Value, dtype: bool"
      ]
     },
     "execution_count": 68,
     "metadata": {},
     "output_type": "execute_result"
    }
   ],
   "source": [
    "# Kiếm tra dữ liệu thiếu cho một series và xem 5 quan sát đầu: \n",
    "edu[\"Value\"].isnull().head()"
   ]
  },
  {
   "cell_type": "code",
   "execution_count": 69,
   "metadata": {},
   "outputs": [
    {
     "data": {
      "text/plain": [
       "23"
      ]
     },
     "execution_count": 69,
     "metadata": {},
     "output_type": "execute_result"
    }
   ],
   "source": [
    "# Tổng số NA của series này là 23: \n",
    "edu[\"Value\"].isnull().sum()"
   ]
  },
  {
   "cell_type": "code",
   "execution_count": 70,
   "metadata": {},
   "outputs": [
    {
     "data": {
      "text/plain": [
       "23"
      ]
     },
     "execution_count": 70,
     "metadata": {},
     "output_type": "execute_result"
    }
   ],
   "source": [
    "# Kết quả 23 này có thể được tìm theo một cách khác bằng một hàm tự viết: \n",
    "def tim_na(x): \n",
    "    return(x.isnull().sum())\n",
    "\n",
    "# Áp dụng hàm trên: \n",
    "tim_na(edu[\"Value\"])"
   ]
  },
  {
   "cell_type": "code",
   "execution_count": 71,
   "metadata": {},
   "outputs": [
    {
     "data": {
      "text/plain": [
       "TIME      0\n",
       "GEO       0\n",
       "Value    23\n",
       "dtype: int64"
      ]
     },
     "execution_count": 71,
     "metadata": {},
     "output_type": "execute_result"
    }
   ],
   "source": [
    "# Tìm số lượng NA cho các cột của DF: \n",
    "edu.apply(tim_na)"
   ]
  },
  {
   "cell_type": "code",
   "execution_count": 72,
   "metadata": {},
   "outputs": [
    {
     "data": {
      "text/html": [
       "<div>\n",
       "<style scoped>\n",
       "    .dataframe tbody tr th:only-of-type {\n",
       "        vertical-align: middle;\n",
       "    }\n",
       "\n",
       "    .dataframe tbody tr th {\n",
       "        vertical-align: top;\n",
       "    }\n",
       "\n",
       "    .dataframe thead th {\n",
       "        text-align: right;\n",
       "    }\n",
       "</style>\n",
       "<table border=\"1\" class=\"dataframe\">\n",
       "  <thead>\n",
       "    <tr style=\"text-align: right;\">\n",
       "      <th></th>\n",
       "      <th>TIME</th>\n",
       "      <th>GEO</th>\n",
       "      <th>Value</th>\n",
       "    </tr>\n",
       "  </thead>\n",
       "  <tbody>\n",
       "    <tr>\n",
       "      <th>0</th>\n",
       "      <td>2000</td>\n",
       "      <td>European Union (28 countries)</td>\n",
       "      <td>NaN</td>\n",
       "    </tr>\n",
       "    <tr>\n",
       "      <th>1</th>\n",
       "      <td>2001</td>\n",
       "      <td>European Union (28 countries)</td>\n",
       "      <td>NaN</td>\n",
       "    </tr>\n",
       "    <tr>\n",
       "      <th>36</th>\n",
       "      <td>2000</td>\n",
       "      <td>Euro area (18 countries)</td>\n",
       "      <td>NaN</td>\n",
       "    </tr>\n",
       "    <tr>\n",
       "      <th>37</th>\n",
       "      <td>2001</td>\n",
       "      <td>Euro area (18 countries)</td>\n",
       "      <td>NaN</td>\n",
       "    </tr>\n",
       "    <tr>\n",
       "      <th>48</th>\n",
       "      <td>2000</td>\n",
       "      <td>Euro area (17 countries)</td>\n",
       "      <td>NaN</td>\n",
       "    </tr>\n",
       "  </tbody>\n",
       "</table>\n",
       "</div>"
      ],
      "text/plain": [
       "    TIME                            GEO  Value\n",
       "0   2000  European Union (28 countries)    NaN\n",
       "1   2001  European Union (28 countries)    NaN\n",
       "36  2000       Euro area (18 countries)    NaN\n",
       "37  2001       Euro area (18 countries)    NaN\n",
       "48  2000       Euro area (17 countries)    NaN"
      ]
     },
     "execution_count": 72,
     "metadata": {},
     "output_type": "execute_result"
    }
   ],
   "source": [
    "# Trích ra DF thiếu giá trị ở cột Value:\n",
    "thieu_df = edu[edu[\"Value\"].isnull()]\n",
    "# 5 quan sát đầu:\n",
    "thieu_df.head()"
   ]
  },
  {
   "cell_type": "code",
   "execution_count": 73,
   "metadata": {},
   "outputs": [
    {
     "data": {
      "text/html": [
       "<div>\n",
       "<style scoped>\n",
       "    .dataframe tbody tr th:only-of-type {\n",
       "        vertical-align: middle;\n",
       "    }\n",
       "\n",
       "    .dataframe tbody tr th {\n",
       "        vertical-align: top;\n",
       "    }\n",
       "\n",
       "    .dataframe thead th {\n",
       "        text-align: right;\n",
       "    }\n",
       "</style>\n",
       "<table border=\"1\" class=\"dataframe\">\n",
       "  <thead>\n",
       "    <tr style=\"text-align: right;\">\n",
       "      <th></th>\n",
       "      <th>TIME</th>\n",
       "      <th>GEO</th>\n",
       "      <th>Value</th>\n",
       "    </tr>\n",
       "  </thead>\n",
       "  <tbody>\n",
       "    <tr>\n",
       "      <th>2</th>\n",
       "      <td>2002</td>\n",
       "      <td>European Union (28 countries)</td>\n",
       "      <td>5.00</td>\n",
       "    </tr>\n",
       "    <tr>\n",
       "      <th>3</th>\n",
       "      <td>2003</td>\n",
       "      <td>European Union (28 countries)</td>\n",
       "      <td>5.03</td>\n",
       "    </tr>\n",
       "    <tr>\n",
       "      <th>4</th>\n",
       "      <td>2004</td>\n",
       "      <td>European Union (28 countries)</td>\n",
       "      <td>4.95</td>\n",
       "    </tr>\n",
       "    <tr>\n",
       "      <th>5</th>\n",
       "      <td>2005</td>\n",
       "      <td>European Union (28 countries)</td>\n",
       "      <td>4.92</td>\n",
       "    </tr>\n",
       "    <tr>\n",
       "      <th>6</th>\n",
       "      <td>2006</td>\n",
       "      <td>European Union (28 countries)</td>\n",
       "      <td>4.91</td>\n",
       "    </tr>\n",
       "  </tbody>\n",
       "</table>\n",
       "</div>"
      ],
      "text/plain": [
       "   TIME                            GEO  Value\n",
       "2  2002  European Union (28 countries)   5.00\n",
       "3  2003  European Union (28 countries)   5.03\n",
       "4  2004  European Union (28 countries)   4.95\n",
       "5  2005  European Union (28 countries)   4.92\n",
       "6  2006  European Union (28 countries)   4.91"
      ]
     },
     "execution_count": 73,
     "metadata": {},
     "output_type": "execute_result"
    }
   ],
   "source": [
    "# Trích ra DF mà không thiếu dữ liệu ở cột Value: \n",
    "full_df = edu.dropna(subset = [\"Value\"])\n",
    "full_df.head()"
   ]
  },
  {
   "cell_type": "markdown",
   "metadata": {},
   "source": [
    "Dưới đây chúng ta tạo ra một bộ dữ liệu giả có tên df với một số điểm dữ liệu trống (được tạo ra bằng np.nan) rồi thực  hiện một số thao tác lọc dữ liệu trống phức tạp hơn.  Trước hết cần gọi gói **numpy**. "
   ]
  },
  {
   "cell_type": "code",
   "execution_count": 154,
   "metadata": {},
   "outputs": [
    {
     "data": {
      "text/html": [
       "<div>\n",
       "<style scoped>\n",
       "    .dataframe tbody tr th:only-of-type {\n",
       "        vertical-align: middle;\n",
       "    }\n",
       "\n",
       "    .dataframe tbody tr th {\n",
       "        vertical-align: top;\n",
       "    }\n",
       "\n",
       "    .dataframe thead th {\n",
       "        text-align: right;\n",
       "    }\n",
       "</style>\n",
       "<table border=\"1\" class=\"dataframe\">\n",
       "  <thead>\n",
       "    <tr style=\"text-align: right;\">\n",
       "      <th></th>\n",
       "      <th>A</th>\n",
       "      <th>B</th>\n",
       "      <th>C</th>\n",
       "      <th>D</th>\n",
       "      <th>E</th>\n",
       "    </tr>\n",
       "  </thead>\n",
       "  <tbody>\n",
       "    <tr>\n",
       "      <th>0</th>\n",
       "      <td>NaN</td>\n",
       "      <td>2.0</td>\n",
       "      <td>NaN</td>\n",
       "      <td>0</td>\n",
       "      <td>3</td>\n",
       "    </tr>\n",
       "    <tr>\n",
       "      <th>1</th>\n",
       "      <td>3.0</td>\n",
       "      <td>4.0</td>\n",
       "      <td>NaN</td>\n",
       "      <td>1</td>\n",
       "      <td>2</td>\n",
       "    </tr>\n",
       "    <tr>\n",
       "      <th>2</th>\n",
       "      <td>2.0</td>\n",
       "      <td>3.0</td>\n",
       "      <td>NaN</td>\n",
       "      <td>2</td>\n",
       "      <td>1</td>\n",
       "    </tr>\n",
       "    <tr>\n",
       "      <th>3</th>\n",
       "      <td>NaN</td>\n",
       "      <td>NaN</td>\n",
       "      <td>NaN</td>\n",
       "      <td>5</td>\n",
       "      <td>5</td>\n",
       "    </tr>\n",
       "  </tbody>\n",
       "</table>\n",
       "</div>"
      ],
      "text/plain": [
       "     A    B   C  D  E\n",
       "0  NaN  2.0 NaN  0  3\n",
       "1  3.0  4.0 NaN  1  2\n",
       "2  2.0  3.0 NaN  2  1\n",
       "3  NaN  NaN NaN  5  5"
      ]
     },
     "execution_count": 154,
     "metadata": {},
     "output_type": "execute_result"
    }
   ],
   "source": [
    "# Tạo DF: \n",
    "import numpy as np\n",
    "df = pd.DataFrame([[np.nan, 2, np.nan, 0, 3], \n",
    "                   [3, 4, np.nan, 1, 2], \n",
    "                   [2, 3, np.nan, 2, 1], \n",
    "                   [np.nan, np.nan, np.nan, 5, 5]], \n",
    "\n",
    "                  columns=list(\"ABCDE\"))\n",
    "df"
   ]
  },
  {
   "cell_type": "code",
   "execution_count": 121,
   "metadata": {},
   "outputs": [
    {
     "data": {
      "text/html": [
       "<div>\n",
       "<style scoped>\n",
       "    .dataframe tbody tr th:only-of-type {\n",
       "        vertical-align: middle;\n",
       "    }\n",
       "\n",
       "    .dataframe tbody tr th {\n",
       "        vertical-align: top;\n",
       "    }\n",
       "\n",
       "    .dataframe thead th {\n",
       "        text-align: right;\n",
       "    }\n",
       "</style>\n",
       "<table border=\"1\" class=\"dataframe\">\n",
       "  <thead>\n",
       "    <tr style=\"text-align: right;\">\n",
       "      <th></th>\n",
       "      <th>A</th>\n",
       "      <th>B</th>\n",
       "      <th>D</th>\n",
       "      <th>E</th>\n",
       "    </tr>\n",
       "  </thead>\n",
       "  <tbody>\n",
       "    <tr>\n",
       "      <th>0</th>\n",
       "      <td>NaN</td>\n",
       "      <td>2.0</td>\n",
       "      <td>0</td>\n",
       "      <td>3</td>\n",
       "    </tr>\n",
       "    <tr>\n",
       "      <th>1</th>\n",
       "      <td>3.0</td>\n",
       "      <td>4.0</td>\n",
       "      <td>1</td>\n",
       "      <td>2</td>\n",
       "    </tr>\n",
       "    <tr>\n",
       "      <th>2</th>\n",
       "      <td>2.0</td>\n",
       "      <td>3.0</td>\n",
       "      <td>2</td>\n",
       "      <td>1</td>\n",
       "    </tr>\n",
       "    <tr>\n",
       "      <th>3</th>\n",
       "      <td>NaN</td>\n",
       "      <td>NaN</td>\n",
       "      <td>5</td>\n",
       "      <td>5</td>\n",
       "    </tr>\n",
       "  </tbody>\n",
       "</table>\n",
       "</div>"
      ],
      "text/plain": [
       "     A    B  D  E\n",
       "0  NaN  2.0  0  3\n",
       "1  3.0  4.0  1  2\n",
       "2  2.0  3.0  2  1\n",
       "3  NaN  NaN  5  5"
      ]
     },
     "execution_count": 121,
     "metadata": {},
     "output_type": "execute_result"
    }
   ],
   "source": [
    "# Xóa đi cột nào mà tất cả là NA: \n",
    "df.dropna(how = \"all\", axis = 1)"
   ]
  },
  {
   "cell_type": "code",
   "execution_count": 122,
   "metadata": {},
   "outputs": [
    {
     "data": {
      "text/html": [
       "<div>\n",
       "<style scoped>\n",
       "    .dataframe tbody tr th:only-of-type {\n",
       "        vertical-align: middle;\n",
       "    }\n",
       "\n",
       "    .dataframe tbody tr th {\n",
       "        vertical-align: top;\n",
       "    }\n",
       "\n",
       "    .dataframe thead th {\n",
       "        text-align: right;\n",
       "    }\n",
       "</style>\n",
       "<table border=\"1\" class=\"dataframe\">\n",
       "  <thead>\n",
       "    <tr style=\"text-align: right;\">\n",
       "      <th></th>\n",
       "      <th>D</th>\n",
       "      <th>E</th>\n",
       "    </tr>\n",
       "  </thead>\n",
       "  <tbody>\n",
       "    <tr>\n",
       "      <th>0</th>\n",
       "      <td>0</td>\n",
       "      <td>3</td>\n",
       "    </tr>\n",
       "    <tr>\n",
       "      <th>1</th>\n",
       "      <td>1</td>\n",
       "      <td>2</td>\n",
       "    </tr>\n",
       "    <tr>\n",
       "      <th>2</th>\n",
       "      <td>2</td>\n",
       "      <td>1</td>\n",
       "    </tr>\n",
       "    <tr>\n",
       "      <th>3</th>\n",
       "      <td>5</td>\n",
       "      <td>5</td>\n",
       "    </tr>\n",
       "  </tbody>\n",
       "</table>\n",
       "</div>"
      ],
      "text/plain": [
       "   D  E\n",
       "0  0  3\n",
       "1  1  2\n",
       "2  2  1\n",
       "3  5  5"
      ]
     },
     "execution_count": 122,
     "metadata": {},
     "output_type": "execute_result"
    }
   ],
   "source": [
    "# Xóa bất cứ cột nào mà có ít nhất từ 1 NA trở lên: \n",
    "df.dropna(how = \"any\", axis = 1)"
   ]
  },
  {
   "cell_type": "code",
   "execution_count": 123,
   "metadata": {},
   "outputs": [
    {
     "data": {
      "text/html": [
       "<div>\n",
       "<style scoped>\n",
       "    .dataframe tbody tr th:only-of-type {\n",
       "        vertical-align: middle;\n",
       "    }\n",
       "\n",
       "    .dataframe tbody tr th {\n",
       "        vertical-align: top;\n",
       "    }\n",
       "\n",
       "    .dataframe thead th {\n",
       "        text-align: right;\n",
       "    }\n",
       "</style>\n",
       "<table border=\"1\" class=\"dataframe\">\n",
       "  <thead>\n",
       "    <tr style=\"text-align: right;\">\n",
       "      <th></th>\n",
       "      <th>A</th>\n",
       "      <th>B</th>\n",
       "      <th>C</th>\n",
       "      <th>D</th>\n",
       "      <th>E</th>\n",
       "    </tr>\n",
       "  </thead>\n",
       "  <tbody>\n",
       "  </tbody>\n",
       "</table>\n",
       "</div>"
      ],
      "text/plain": [
       "Empty DataFrame\n",
       "Columns: [A, B, C, D, E]\n",
       "Index: []"
      ]
     },
     "execution_count": 123,
     "metadata": {},
     "output_type": "execute_result"
    }
   ],
   "source": [
    "# Xóa đi dòng nào có ít nhất một NA: \n",
    "df.dropna(axis = 0, how = \"any\")"
   ]
  },
  {
   "cell_type": "code",
   "execution_count": 126,
   "metadata": {},
   "outputs": [
    {
     "data": {
      "text/html": [
       "<div>\n",
       "<style scoped>\n",
       "    .dataframe tbody tr th:only-of-type {\n",
       "        vertical-align: middle;\n",
       "    }\n",
       "\n",
       "    .dataframe tbody tr th {\n",
       "        vertical-align: top;\n",
       "    }\n",
       "\n",
       "    .dataframe thead th {\n",
       "        text-align: right;\n",
       "    }\n",
       "</style>\n",
       "<table border=\"1\" class=\"dataframe\">\n",
       "  <thead>\n",
       "    <tr style=\"text-align: right;\">\n",
       "      <th></th>\n",
       "      <th>A</th>\n",
       "      <th>B</th>\n",
       "      <th>C</th>\n",
       "      <th>D</th>\n",
       "      <th>E</th>\n",
       "    </tr>\n",
       "  </thead>\n",
       "  <tbody>\n",
       "    <tr>\n",
       "      <th>0</th>\n",
       "      <td>NaN</td>\n",
       "      <td>2.0</td>\n",
       "      <td>NaN</td>\n",
       "      <td>0</td>\n",
       "      <td>3</td>\n",
       "    </tr>\n",
       "    <tr>\n",
       "      <th>1</th>\n",
       "      <td>3.0</td>\n",
       "      <td>4.0</td>\n",
       "      <td>NaN</td>\n",
       "      <td>1</td>\n",
       "      <td>2</td>\n",
       "    </tr>\n",
       "    <tr>\n",
       "      <th>2</th>\n",
       "      <td>2.0</td>\n",
       "      <td>3.0</td>\n",
       "      <td>NaN</td>\n",
       "      <td>2</td>\n",
       "      <td>1</td>\n",
       "    </tr>\n",
       "  </tbody>\n",
       "</table>\n",
       "</div>"
      ],
      "text/plain": [
       "     A    B   C  D  E\n",
       "0  NaN  2.0 NaN  0  3\n",
       "1  3.0  4.0 NaN  1  2\n",
       "2  2.0  3.0 NaN  2  1"
      ]
     },
     "execution_count": 126,
     "metadata": {},
     "output_type": "execute_result"
    }
   ],
   "source": [
    "# Giữ lại những dòng nào có từ 3 điểm dữ liệu không trống trở lên: \n",
    "df.dropna(thresh = 3)"
   ]
  },
  {
   "cell_type": "markdown",
   "metadata": {},
   "source": [
    "#### 3.6 Sắp xếp lại dữ DF theo chiều tăng - giảm"
   ]
  },
  {
   "cell_type": "code",
   "execution_count": 74,
   "metadata": {},
   "outputs": [
    {
     "data": {
      "text/html": [
       "<div>\n",
       "<style scoped>\n",
       "    .dataframe tbody tr th:only-of-type {\n",
       "        vertical-align: middle;\n",
       "    }\n",
       "\n",
       "    .dataframe tbody tr th {\n",
       "        vertical-align: top;\n",
       "    }\n",
       "\n",
       "    .dataframe thead th {\n",
       "        text-align: right;\n",
       "    }\n",
       "</style>\n",
       "<table border=\"1\" class=\"dataframe\">\n",
       "  <thead>\n",
       "    <tr style=\"text-align: right;\">\n",
       "      <th></th>\n",
       "      <th>TIME</th>\n",
       "      <th>GEO</th>\n",
       "      <th>Value</th>\n",
       "    </tr>\n",
       "  </thead>\n",
       "  <tbody>\n",
       "    <tr>\n",
       "      <th>130</th>\n",
       "      <td>2010</td>\n",
       "      <td>Denmark</td>\n",
       "      <td>8.81</td>\n",
       "    </tr>\n",
       "    <tr>\n",
       "      <th>131</th>\n",
       "      <td>2011</td>\n",
       "      <td>Denmark</td>\n",
       "      <td>8.75</td>\n",
       "    </tr>\n",
       "    <tr>\n",
       "      <th>129</th>\n",
       "      <td>2009</td>\n",
       "      <td>Denmark</td>\n",
       "      <td>8.74</td>\n",
       "    </tr>\n",
       "    <tr>\n",
       "      <th>121</th>\n",
       "      <td>2001</td>\n",
       "      <td>Denmark</td>\n",
       "      <td>8.44</td>\n",
       "    </tr>\n",
       "    <tr>\n",
       "      <th>122</th>\n",
       "      <td>2002</td>\n",
       "      <td>Denmark</td>\n",
       "      <td>8.44</td>\n",
       "    </tr>\n",
       "  </tbody>\n",
       "</table>\n",
       "</div>"
      ],
      "text/plain": [
       "     TIME      GEO  Value\n",
       "130  2010  Denmark   8.81\n",
       "131  2011  Denmark   8.75\n",
       "129  2009  Denmark   8.74\n",
       "121  2001  Denmark   8.44\n",
       "122  2002  Denmark   8.44"
      ]
     },
     "execution_count": 74,
     "metadata": {},
     "output_type": "execute_result"
    }
   ],
   "source": [
    "# Sắp xếp theo chiều giảm dần của cột Value: \n",
    "df_giam = edu.sort_values(by = \"Value\", ascending = False)\n",
    "df_giam.head()"
   ]
  },
  {
   "cell_type": "code",
   "execution_count": 75,
   "metadata": {},
   "outputs": [
    {
     "data": {
      "text/html": [
       "<div>\n",
       "<style scoped>\n",
       "    .dataframe tbody tr th:only-of-type {\n",
       "        vertical-align: middle;\n",
       "    }\n",
       "\n",
       "    .dataframe tbody tr th {\n",
       "        vertical-align: top;\n",
       "    }\n",
       "\n",
       "    .dataframe thead th {\n",
       "        text-align: right;\n",
       "    }\n",
       "</style>\n",
       "<table border=\"1\" class=\"dataframe\">\n",
       "  <thead>\n",
       "    <tr style=\"text-align: right;\">\n",
       "      <th></th>\n",
       "      <th>TIME</th>\n",
       "      <th>GEO</th>\n",
       "      <th>Value</th>\n",
       "    </tr>\n",
       "  </thead>\n",
       "  <tbody>\n",
       "    <tr>\n",
       "      <th>300</th>\n",
       "      <td>2000</td>\n",
       "      <td>Austria</td>\n",
       "      <td>5.66</td>\n",
       "    </tr>\n",
       "    <tr>\n",
       "      <th>309</th>\n",
       "      <td>2009</td>\n",
       "      <td>Austria</td>\n",
       "      <td>5.98</td>\n",
       "    </tr>\n",
       "    <tr>\n",
       "      <th>308</th>\n",
       "      <td>2008</td>\n",
       "      <td>Austria</td>\n",
       "      <td>5.47</td>\n",
       "    </tr>\n",
       "    <tr>\n",
       "      <th>307</th>\n",
       "      <td>2007</td>\n",
       "      <td>Austria</td>\n",
       "      <td>5.33</td>\n",
       "    </tr>\n",
       "    <tr>\n",
       "      <th>306</th>\n",
       "      <td>2006</td>\n",
       "      <td>Austria</td>\n",
       "      <td>5.40</td>\n",
       "    </tr>\n",
       "    <tr>\n",
       "      <th>305</th>\n",
       "      <td>2005</td>\n",
       "      <td>Austria</td>\n",
       "      <td>5.44</td>\n",
       "    </tr>\n",
       "    <tr>\n",
       "      <th>304</th>\n",
       "      <td>2004</td>\n",
       "      <td>Austria</td>\n",
       "      <td>5.48</td>\n",
       "    </tr>\n",
       "    <tr>\n",
       "      <th>303</th>\n",
       "      <td>2003</td>\n",
       "      <td>Austria</td>\n",
       "      <td>5.53</td>\n",
       "    </tr>\n",
       "    <tr>\n",
       "      <th>302</th>\n",
       "      <td>2002</td>\n",
       "      <td>Austria</td>\n",
       "      <td>5.68</td>\n",
       "    </tr>\n",
       "    <tr>\n",
       "      <th>301</th>\n",
       "      <td>2001</td>\n",
       "      <td>Austria</td>\n",
       "      <td>5.74</td>\n",
       "    </tr>\n",
       "  </tbody>\n",
       "</table>\n",
       "</div>"
      ],
      "text/plain": [
       "     TIME      GEO  Value\n",
       "300  2000  Austria   5.66\n",
       "309  2009  Austria   5.98\n",
       "308  2008  Austria   5.47\n",
       "307  2007  Austria   5.33\n",
       "306  2006  Austria   5.40\n",
       "305  2005  Austria   5.44\n",
       "304  2004  Austria   5.48\n",
       "303  2003  Austria   5.53\n",
       "302  2002  Austria   5.68\n",
       "301  2001  Austria   5.74"
      ]
     },
     "execution_count": 75,
     "metadata": {},
     "output_type": "execute_result"
    }
   ],
   "source": [
    "# Nếu là biến định tính, character thì sẽ sắp xếp thứ tự của bảng chữ cái: \n",
    "by_nation = edu.sort_values(by = \"GEO\")\n",
    "by_nation.head(10)"
   ]
  },
  {
   "cell_type": "markdown",
   "metadata": {},
   "source": [
    "### 5. Hàm tính toán  một  số thống kê chủ yếu\n",
    "\n",
    "Dưới đây là một số hàm tính toán các thống kê thường sử dụng khi phân tích dữ liệu: \n",
    "\n",
    "| Hàm  | Chức năng | \n",
    "|-----------|-------------|\n",
    "| count()   |Number of non-null observations|  \n",
    "| sum()     |Sum of values|\n",
    "| mean()    |Mean of values            | \n",
    "| median()  |Arithmetic median of values             |\n",
    "| min()     |Minimum|\n",
    "| max()     |Maximum|\n",
    "| prod()    |Product of values|\n",
    "| std()     |Unbiased standard deviation|\n",
    "| var()     | Unbiased variance|\n",
    "\n",
    "\n",
    "Lưu ý rằng các hàm của pandas sẽ mặc định **loại bỏ bất kì NA nào trước khi tính toán** như chúng ta có thể kiểm tra: \n",
    "\n"
   ]
  },
  {
   "cell_type": "code",
   "execution_count": 76,
   "metadata": {},
   "outputs": [
    {
     "data": {
      "text/plain": [
       "8.8100000000000005"
      ]
     },
     "execution_count": 76,
     "metadata": {},
     "output_type": "execute_result"
    }
   ],
   "source": [
    "# Sử dụng hàm của pandas tính max:\n",
    "edu[\"Value\"].max()"
   ]
  },
  {
   "cell_type": "code",
   "execution_count": 77,
   "metadata": {},
   "outputs": [
    {
     "data": {
      "text/plain": [
       "nan"
      ]
     },
     "execution_count": 77,
     "metadata": {},
     "output_type": "execute_result"
    }
   ],
   "source": [
    "# Nhưng nếu dùng hàm mean() mặc định thì kết quả là không xác định (nan): \n",
    "max(edu[\"Value\"])"
   ]
  },
  {
   "cell_type": "code",
   "execution_count": 78,
   "metadata": {},
   "outputs": [
    {
     "data": {
      "text/plain": [
       "5.203988919667592"
      ]
     },
     "execution_count": 78,
     "metadata": {},
     "output_type": "execute_result"
    }
   ],
   "source": [
    "# Tính mean: \n",
    "edu[\"Value\"].mean()"
   ]
  },
  {
   "cell_type": "code",
   "execution_count": 79,
   "metadata": {},
   "outputs": [
    {
     "data": {
      "text/plain": [
       "TIME     2005.500000\n",
       "Value       5.203989\n",
       "dtype: float64"
      ]
     },
     "execution_count": 79,
     "metadata": {},
     "output_type": "execute_result"
    }
   ],
   "source": [
    "# Không những thế các hàm của pandas còn áp dụng cho các cột biến định lượng: \n",
    "edu.mean()"
   ]
  },
  {
   "cell_type": "code",
   "execution_count": 12,
   "metadata": {},
   "outputs": [
    {
     "data": {
      "text/html": [
       "<div>\n",
       "<style scoped>\n",
       "    .dataframe tbody tr th:only-of-type {\n",
       "        vertical-align: middle;\n",
       "    }\n",
       "\n",
       "    .dataframe tbody tr th {\n",
       "        vertical-align: top;\n",
       "    }\n",
       "\n",
       "    .dataframe thead th {\n",
       "        text-align: right;\n",
       "    }\n",
       "</style>\n",
       "<table border=\"1\" class=\"dataframe\">\n",
       "  <thead>\n",
       "    <tr style=\"text-align: right;\">\n",
       "      <th></th>\n",
       "      <th>TIME</th>\n",
       "      <th>Value</th>\n",
       "    </tr>\n",
       "  </thead>\n",
       "  <tbody>\n",
       "    <tr>\n",
       "      <th>count</th>\n",
       "      <td>384.000000</td>\n",
       "      <td>361.000000</td>\n",
       "    </tr>\n",
       "    <tr>\n",
       "      <th>mean</th>\n",
       "      <td>2005.500000</td>\n",
       "      <td>5.203989</td>\n",
       "    </tr>\n",
       "    <tr>\n",
       "      <th>std</th>\n",
       "      <td>3.456556</td>\n",
       "      <td>1.021694</td>\n",
       "    </tr>\n",
       "    <tr>\n",
       "      <th>min</th>\n",
       "      <td>2000.000000</td>\n",
       "      <td>2.880000</td>\n",
       "    </tr>\n",
       "    <tr>\n",
       "      <th>25%</th>\n",
       "      <td>2002.750000</td>\n",
       "      <td>4.620000</td>\n",
       "    </tr>\n",
       "    <tr>\n",
       "      <th>50%</th>\n",
       "      <td>2005.500000</td>\n",
       "      <td>5.060000</td>\n",
       "    </tr>\n",
       "    <tr>\n",
       "      <th>75%</th>\n",
       "      <td>2008.250000</td>\n",
       "      <td>5.660000</td>\n",
       "    </tr>\n",
       "    <tr>\n",
       "      <th>max</th>\n",
       "      <td>2011.000000</td>\n",
       "      <td>8.810000</td>\n",
       "    </tr>\n",
       "  </tbody>\n",
       "</table>\n",
       "</div>"
      ],
      "text/plain": [
       "              TIME       Value\n",
       "count   384.000000  361.000000\n",
       "mean   2005.500000    5.203989\n",
       "std       3.456556    1.021694\n",
       "min    2000.000000    2.880000\n",
       "25%    2002.750000    4.620000\n",
       "50%    2005.500000    5.060000\n",
       "75%    2008.250000    5.660000\n",
       "max    2011.000000    8.810000"
      ]
     },
     "execution_count": 12,
     "metadata": {},
     "output_type": "execute_result"
    }
   ],
   "source": [
    "# Tính toán các thống kê thường gặp: \n",
    "edu.describe()"
   ]
  },
  {
   "cell_type": "markdown",
   "metadata": {},
   "source": [
    "### 6. Tính  toán  các thống  kê theo nhóm"
   ]
  },
  {
   "cell_type": "code",
   "execution_count": 14,
   "metadata": {},
   "outputs": [
    {
     "data": {
      "text/html": [
       "<div>\n",
       "<style scoped>\n",
       "    .dataframe tbody tr th:only-of-type {\n",
       "        vertical-align: middle;\n",
       "    }\n",
       "\n",
       "    .dataframe tbody tr th {\n",
       "        vertical-align: top;\n",
       "    }\n",
       "\n",
       "    .dataframe thead tr th {\n",
       "        text-align: left;\n",
       "    }\n",
       "\n",
       "    .dataframe thead tr:last-of-type th {\n",
       "        text-align: right;\n",
       "    }\n",
       "</style>\n",
       "<table border=\"1\" class=\"dataframe\">\n",
       "  <thead>\n",
       "    <tr>\n",
       "      <th></th>\n",
       "      <th colspan=\"8\" halign=\"left\">Value</th>\n",
       "    </tr>\n",
       "    <tr>\n",
       "      <th></th>\n",
       "      <th>count</th>\n",
       "      <th>mean</th>\n",
       "      <th>std</th>\n",
       "      <th>min</th>\n",
       "      <th>25%</th>\n",
       "      <th>50%</th>\n",
       "      <th>75%</th>\n",
       "      <th>max</th>\n",
       "    </tr>\n",
       "    <tr>\n",
       "      <th>GEO</th>\n",
       "      <th></th>\n",
       "      <th></th>\n",
       "      <th></th>\n",
       "      <th></th>\n",
       "      <th></th>\n",
       "      <th></th>\n",
       "      <th></th>\n",
       "      <th></th>\n",
       "    </tr>\n",
       "  </thead>\n",
       "  <tbody>\n",
       "    <tr>\n",
       "      <th>Austria</th>\n",
       "      <td>12.0</td>\n",
       "      <td>5.618333</td>\n",
       "      <td>0.209060</td>\n",
       "      <td>5.33</td>\n",
       "      <td>5.4625</td>\n",
       "      <td>5.595</td>\n",
       "      <td>5.7550</td>\n",
       "      <td>5.98</td>\n",
       "    </tr>\n",
       "    <tr>\n",
       "      <th>Belgium</th>\n",
       "      <td>11.0</td>\n",
       "      <td>6.189091</td>\n",
       "      <td>0.278081</td>\n",
       "      <td>5.92</td>\n",
       "      <td>5.9850</td>\n",
       "      <td>6.020</td>\n",
       "      <td>6.4900</td>\n",
       "      <td>6.58</td>\n",
       "    </tr>\n",
       "    <tr>\n",
       "      <th>Bulgaria</th>\n",
       "      <td>12.0</td>\n",
       "      <td>4.093333</td>\n",
       "      <td>0.273440</td>\n",
       "      <td>3.70</td>\n",
       "      <td>3.8800</td>\n",
       "      <td>4.065</td>\n",
       "      <td>4.2875</td>\n",
       "      <td>4.58</td>\n",
       "    </tr>\n",
       "    <tr>\n",
       "      <th>Cyprus</th>\n",
       "      <td>12.0</td>\n",
       "      <td>7.023333</td>\n",
       "      <td>0.777623</td>\n",
       "      <td>5.42</td>\n",
       "      <td>6.7275</td>\n",
       "      <td>6.985</td>\n",
       "      <td>7.5550</td>\n",
       "      <td>7.98</td>\n",
       "    </tr>\n",
       "    <tr>\n",
       "      <th>Czech Republic</th>\n",
       "      <td>12.0</td>\n",
       "      <td>4.168333</td>\n",
       "      <td>0.213747</td>\n",
       "      <td>3.83</td>\n",
       "      <td>4.0200</td>\n",
       "      <td>4.175</td>\n",
       "      <td>4.3300</td>\n",
       "      <td>4.51</td>\n",
       "    </tr>\n",
       "  </tbody>\n",
       "</table>\n",
       "</div>"
      ],
      "text/plain": [
       "               Value                                                       \n",
       "               count      mean       std   min     25%    50%     75%   max\n",
       "GEO                                                                        \n",
       "Austria         12.0  5.618333  0.209060  5.33  5.4625  5.595  5.7550  5.98\n",
       "Belgium         11.0  6.189091  0.278081  5.92  5.9850  6.020  6.4900  6.58\n",
       "Bulgaria        12.0  4.093333  0.273440  3.70  3.8800  4.065  4.2875  4.58\n",
       "Cyprus          12.0  7.023333  0.777623  5.42  6.7275  6.985  7.5550  7.98\n",
       "Czech Republic  12.0  4.168333  0.213747  3.83  4.0200  4.175  4.3300  4.51"
      ]
     },
     "execution_count": 14,
     "metadata": {},
     "output_type": "execute_result"
    }
   ],
   "source": [
    "# Tính những thống kê thường gặp theo nhóm và xem 5 quan sát đầu: \n",
    "edu[[\"GEO\", \"Value\"]].groupby(\"GEO\").describe().head()"
   ]
  },
  {
   "cell_type": "code",
   "execution_count": 24,
   "metadata": {},
   "outputs": [
    {
     "data": {
      "text/html": [
       "<div>\n",
       "<style scoped>\n",
       "    .dataframe tbody tr th:only-of-type {\n",
       "        vertical-align: middle;\n",
       "    }\n",
       "\n",
       "    .dataframe tbody tr th {\n",
       "        vertical-align: top;\n",
       "    }\n",
       "\n",
       "    .dataframe thead th {\n",
       "        text-align: right;\n",
       "    }\n",
       "</style>\n",
       "<table border=\"1\" class=\"dataframe\">\n",
       "  <thead>\n",
       "    <tr style=\"text-align: right;\">\n",
       "      <th></th>\n",
       "      <th>TIME</th>\n",
       "      <th>Value</th>\n",
       "    </tr>\n",
       "  </thead>\n",
       "  <tbody>\n",
       "    <tr>\n",
       "      <th>count</th>\n",
       "      <td>384.000000</td>\n",
       "      <td>361.000000</td>\n",
       "    </tr>\n",
       "    <tr>\n",
       "      <th>mean</th>\n",
       "      <td>2005.500000</td>\n",
       "      <td>5.203989</td>\n",
       "    </tr>\n",
       "    <tr>\n",
       "      <th>std</th>\n",
       "      <td>3.456556</td>\n",
       "      <td>1.021694</td>\n",
       "    </tr>\n",
       "    <tr>\n",
       "      <th>min</th>\n",
       "      <td>2000.000000</td>\n",
       "      <td>2.880000</td>\n",
       "    </tr>\n",
       "    <tr>\n",
       "      <th>25%</th>\n",
       "      <td>2002.750000</td>\n",
       "      <td>4.620000</td>\n",
       "    </tr>\n",
       "    <tr>\n",
       "      <th>50%</th>\n",
       "      <td>2005.500000</td>\n",
       "      <td>5.060000</td>\n",
       "    </tr>\n",
       "    <tr>\n",
       "      <th>75%</th>\n",
       "      <td>2008.250000</td>\n",
       "      <td>5.660000</td>\n",
       "    </tr>\n",
       "    <tr>\n",
       "      <th>max</th>\n",
       "      <td>2011.000000</td>\n",
       "      <td>8.810000</td>\n",
       "    </tr>\n",
       "  </tbody>\n",
       "</table>\n",
       "</div>"
      ],
      "text/plain": [
       "              TIME       Value\n",
       "count   384.000000  361.000000\n",
       "mean   2005.500000    5.203989\n",
       "std       3.456556    1.021694\n",
       "min    2000.000000    2.880000\n",
       "25%    2002.750000    4.620000\n",
       "50%    2005.500000    5.060000\n",
       "75%    2008.250000    5.660000\n",
       "max    2011.000000    8.810000"
      ]
     },
     "execution_count": 24,
     "metadata": {},
     "output_type": "execute_result"
    }
   ],
   "source": [
    "# Tính các thống kê thường gặp áp dụng cho cột: \n",
    "edu.describe()"
   ]
  },
  {
   "cell_type": "code",
   "execution_count": 80,
   "metadata": {},
   "outputs": [
    {
     "data": {
      "text/plain": [
       "(32, 1)"
      ]
     },
     "execution_count": 80,
     "metadata": {},
     "output_type": "execute_result"
    }
   ],
   "source": [
    "# Tính mean theo nhóm GEO. Chú ý kết quả là một DF:  \n",
    "df_by_mean = edu[[\"GEO\", \"Value\"]].groupby(\"GEO\").mean()\n",
    "\n",
    "# Xem qua DF này: \n",
    "df_by_mean.shape\n"
   ]
  },
  {
   "cell_type": "code",
   "execution_count": 81,
   "metadata": {},
   "outputs": [
    {
     "data": {
      "text/html": [
       "<div>\n",
       "<style scoped>\n",
       "    .dataframe tbody tr th:only-of-type {\n",
       "        vertical-align: middle;\n",
       "    }\n",
       "\n",
       "    .dataframe tbody tr th {\n",
       "        vertical-align: top;\n",
       "    }\n",
       "\n",
       "    .dataframe thead th {\n",
       "        text-align: right;\n",
       "    }\n",
       "</style>\n",
       "<table border=\"1\" class=\"dataframe\">\n",
       "  <thead>\n",
       "    <tr style=\"text-align: right;\">\n",
       "      <th></th>\n",
       "      <th>Value</th>\n",
       "    </tr>\n",
       "    <tr>\n",
       "      <th>GEO</th>\n",
       "      <th></th>\n",
       "    </tr>\n",
       "  </thead>\n",
       "  <tbody>\n",
       "    <tr>\n",
       "      <th>Austria</th>\n",
       "      <td>5.618333</td>\n",
       "    </tr>\n",
       "    <tr>\n",
       "      <th>Belgium</th>\n",
       "      <td>6.189091</td>\n",
       "    </tr>\n",
       "    <tr>\n",
       "      <th>Bulgaria</th>\n",
       "      <td>4.093333</td>\n",
       "    </tr>\n",
       "    <tr>\n",
       "      <th>Cyprus</th>\n",
       "      <td>7.023333</td>\n",
       "    </tr>\n",
       "    <tr>\n",
       "      <th>Czech Republic</th>\n",
       "      <td>4.168333</td>\n",
       "    </tr>\n",
       "  </tbody>\n",
       "</table>\n",
       "</div>"
      ],
      "text/plain": [
       "                   Value\n",
       "GEO                     \n",
       "Austria         5.618333\n",
       "Belgium         6.189091\n",
       "Bulgaria        4.093333\n",
       "Cyprus          7.023333\n",
       "Czech Republic  4.168333"
      ]
     },
     "execution_count": 81,
     "metadata": {},
     "output_type": "execute_result"
    }
   ],
   "source": [
    "# Một số quan sát đầu: \n",
    "df_by_mean.head()"
   ]
  },
  {
   "cell_type": "code",
   "execution_count": 82,
   "metadata": {},
   "outputs": [
    {
     "data": {
      "text/html": [
       "<div>\n",
       "<style scoped>\n",
       "    .dataframe tbody tr th:only-of-type {\n",
       "        vertical-align: middle;\n",
       "    }\n",
       "\n",
       "    .dataframe tbody tr th {\n",
       "        vertical-align: top;\n",
       "    }\n",
       "\n",
       "    .dataframe thead th {\n",
       "        text-align: right;\n",
       "    }\n",
       "</style>\n",
       "<table border=\"1\" class=\"dataframe\">\n",
       "  <thead>\n",
       "    <tr style=\"text-align: right;\">\n",
       "      <th></th>\n",
       "      <th>Value</th>\n",
       "    </tr>\n",
       "    <tr>\n",
       "      <th>GEO</th>\n",
       "      <th></th>\n",
       "    </tr>\n",
       "  </thead>\n",
       "  <tbody>\n",
       "    <tr>\n",
       "      <th>Austria</th>\n",
       "      <td>5.595</td>\n",
       "    </tr>\n",
       "    <tr>\n",
       "      <th>Belgium</th>\n",
       "      <td>6.020</td>\n",
       "    </tr>\n",
       "    <tr>\n",
       "      <th>Bulgaria</th>\n",
       "      <td>4.065</td>\n",
       "    </tr>\n",
       "    <tr>\n",
       "      <th>Cyprus</th>\n",
       "      <td>6.985</td>\n",
       "    </tr>\n",
       "    <tr>\n",
       "      <th>Czech Republic</th>\n",
       "      <td>4.175</td>\n",
       "    </tr>\n",
       "  </tbody>\n",
       "</table>\n",
       "</div>"
      ],
      "text/plain": [
       "                Value\n",
       "GEO                  \n",
       "Austria         5.595\n",
       "Belgium         6.020\n",
       "Bulgaria        4.065\n",
       "Cyprus          6.985\n",
       "Czech Republic  4.175"
      ]
     },
     "execution_count": 82,
     "metadata": {},
     "output_type": "execute_result"
    }
   ],
   "source": [
    "# Hay tính median: \n",
    "edu[[\"Value\", \"GEO\"]].groupby(\"GEO\").median().head()"
   ]
  },
  {
   "cell_type": "code",
   "execution_count": 22,
   "metadata": {},
   "outputs": [
    {
     "data": {
      "text/plain": [
       "pandas.core.frame.DataFrame"
      ]
     },
     "execution_count": 22,
     "metadata": {},
     "output_type": "execute_result"
    }
   ],
   "source": [
    "# Tính mean theo nhóm quốc gia cho Value: \n",
    "df10 = edu[[\"Value\", \"GEO\"]].groupby(\"GEO\").mean()\n",
    "# Sản phẩm trả về là một DF nên chúng ta lại có thể sử dụng các hàm của pandas cho DF này: \n",
    "type(df10)"
   ]
  },
  {
   "cell_type": "code",
   "execution_count": 23,
   "metadata": {},
   "outputs": [
    {
     "data": {
      "text/html": [
       "<div>\n",
       "<style scoped>\n",
       "    .dataframe tbody tr th:only-of-type {\n",
       "        vertical-align: middle;\n",
       "    }\n",
       "\n",
       "    .dataframe tbody tr th {\n",
       "        vertical-align: top;\n",
       "    }\n",
       "\n",
       "    .dataframe thead th {\n",
       "        text-align: right;\n",
       "    }\n",
       "</style>\n",
       "<table border=\"1\" class=\"dataframe\">\n",
       "  <thead>\n",
       "    <tr style=\"text-align: right;\">\n",
       "      <th></th>\n",
       "      <th>Value</th>\n",
       "    </tr>\n",
       "    <tr>\n",
       "      <th>GEO</th>\n",
       "      <th></th>\n",
       "    </tr>\n",
       "  </thead>\n",
       "  <tbody>\n",
       "    <tr>\n",
       "      <th>Austria</th>\n",
       "      <td>5.618333</td>\n",
       "    </tr>\n",
       "    <tr>\n",
       "      <th>Belgium</th>\n",
       "      <td>6.189091</td>\n",
       "    </tr>\n",
       "    <tr>\n",
       "      <th>Bulgaria</th>\n",
       "      <td>4.093333</td>\n",
       "    </tr>\n",
       "    <tr>\n",
       "      <th>Cyprus</th>\n",
       "      <td>7.023333</td>\n",
       "    </tr>\n",
       "    <tr>\n",
       "      <th>Czech Republic</th>\n",
       "      <td>4.168333</td>\n",
       "    </tr>\n",
       "  </tbody>\n",
       "</table>\n",
       "</div>"
      ],
      "text/plain": [
       "                   Value\n",
       "GEO                     \n",
       "Austria         5.618333\n",
       "Belgium         6.189091\n",
       "Bulgaria        4.093333\n",
       "Cyprus          7.023333\n",
       "Czech Republic  4.168333"
      ]
     },
     "execution_count": 23,
     "metadata": {},
     "output_type": "execute_result"
    }
   ],
   "source": [
    "# Và xem một số quan sát đầu của df10:  \n",
    "df10.head()"
   ]
  },
  {
   "cell_type": "code",
   "execution_count": 84,
   "metadata": {},
   "outputs": [
    {
     "data": {
      "text/plain": [
       "0       NaN\n",
       "1       NaN\n",
       "2    0.0500\n",
       "3    0.0503\n",
       "4    0.0495\n",
       "Name: Value, dtype: float64"
      ]
     },
     "execution_count": 84,
     "metadata": {},
     "output_type": "execute_result"
    }
   ],
   "source": [
    "# Lấy một cột ra và chia cho 100: \n",
    "s = edu[\"Value\"] / 100\n",
    "s.head()"
   ]
  },
  {
   "cell_type": "markdown",
   "metadata": {},
   "source": [
    "Áp dụng hàm tính căn bậc 2 cho từng phần tử của cột Value: "
   ]
  },
  {
   "cell_type": "code",
   "execution_count": 85,
   "metadata": {},
   "outputs": [
    {
     "data": {
      "text/plain": [
       "0         NaN\n",
       "1         NaN\n",
       "2    2.236068\n",
       "3    2.242766\n",
       "4    2.224860\n",
       "Name: Value, dtype: float64"
      ]
     },
     "execution_count": 85,
     "metadata": {},
     "output_type": "execute_result"
    }
   ],
   "source": [
    "# Gọi gói numpy: \n",
    "import numpy as np\n",
    "s = edu[\"Value\"].apply(np.sqrt)\n",
    "s.head()"
   ]
  },
  {
   "cell_type": "markdown",
   "metadata": {},
   "source": [
    "\n",
    "\n",
    "Nếu cần áp dụng  một hàm vô danh (in-line function) - còn  gọi  là $\\lambda$-function thì: "
   ]
  },
  {
   "cell_type": "code",
   "execution_count": 86,
   "metadata": {},
   "outputs": [
    {
     "data": {
      "text/plain": [
       "0        NaN\n",
       "1        NaN\n",
       "2    24.0000\n",
       "3    24.3009\n",
       "4    23.5025\n",
       "Name: Value, dtype: float64"
      ]
     },
     "execution_count": 86,
     "metadata": {},
     "output_type": "execute_result"
    }
   ],
   "source": [
    "s = edu[\"Value\"].apply(lambda x: x**2 - 1)\n",
    "s.head()"
   ]
  },
  {
   "cell_type": "markdown",
   "metadata": {},
   "source": [
    "### 7. Thêm - bớt dòng / cột cho DF đã có"
   ]
  },
  {
   "cell_type": "markdown",
   "metadata": {},
   "source": [
    "\n",
    "\n",
    "Tạo một cột biến mới có tên **ValueNorm** theo cách thức lấy từng phần tử của cột Value chia cho giá trị lớn nhất của series này:  "
   ]
  },
  {
   "cell_type": "code",
   "execution_count": 87,
   "metadata": {},
   "outputs": [
    {
     "data": {
      "text/html": [
       "<div>\n",
       "<style scoped>\n",
       "    .dataframe tbody tr th:only-of-type {\n",
       "        vertical-align: middle;\n",
       "    }\n",
       "\n",
       "    .dataframe tbody tr th {\n",
       "        vertical-align: top;\n",
       "    }\n",
       "\n",
       "    .dataframe thead th {\n",
       "        text-align: right;\n",
       "    }\n",
       "</style>\n",
       "<table border=\"1\" class=\"dataframe\">\n",
       "  <thead>\n",
       "    <tr style=\"text-align: right;\">\n",
       "      <th></th>\n",
       "      <th>TIME</th>\n",
       "      <th>GEO</th>\n",
       "      <th>Value</th>\n",
       "      <th>ValueNorm</th>\n",
       "    </tr>\n",
       "  </thead>\n",
       "  <tbody>\n",
       "    <tr>\n",
       "      <th>379</th>\n",
       "      <td>2007</td>\n",
       "      <td>Finland</td>\n",
       "      <td>5.90</td>\n",
       "      <td>0.669694</td>\n",
       "    </tr>\n",
       "    <tr>\n",
       "      <th>380</th>\n",
       "      <td>2008</td>\n",
       "      <td>Finland</td>\n",
       "      <td>6.10</td>\n",
       "      <td>0.692395</td>\n",
       "    </tr>\n",
       "    <tr>\n",
       "      <th>381</th>\n",
       "      <td>2009</td>\n",
       "      <td>Finland</td>\n",
       "      <td>6.81</td>\n",
       "      <td>0.772985</td>\n",
       "    </tr>\n",
       "    <tr>\n",
       "      <th>382</th>\n",
       "      <td>2010</td>\n",
       "      <td>Finland</td>\n",
       "      <td>6.85</td>\n",
       "      <td>0.777526</td>\n",
       "    </tr>\n",
       "    <tr>\n",
       "      <th>383</th>\n",
       "      <td>2011</td>\n",
       "      <td>Finland</td>\n",
       "      <td>6.76</td>\n",
       "      <td>0.767310</td>\n",
       "    </tr>\n",
       "  </tbody>\n",
       "</table>\n",
       "</div>"
      ],
      "text/plain": [
       "     TIME      GEO  Value  ValueNorm\n",
       "379  2007  Finland   5.90   0.669694\n",
       "380  2008  Finland   6.10   0.692395\n",
       "381  2009  Finland   6.81   0.772985\n",
       "382  2010  Finland   6.85   0.777526\n",
       "383  2011  Finland   6.76   0.767310"
      ]
     },
     "execution_count": 87,
     "metadata": {},
     "output_type": "execute_result"
    }
   ],
   "source": [
    "edu[\"ValueNorm\"] = edu[\"Value\"] / edu[\"Value\"].max()\n",
    "edu.tail()"
   ]
  },
  {
   "cell_type": "markdown",
   "metadata": {},
   "source": [
    "Xóa cột biến vừa  tạo ra và không tạo một bản sao mới của edu với lựa chọn **inplace = True**: "
   ]
  },
  {
   "cell_type": "code",
   "execution_count": 88,
   "metadata": {},
   "outputs": [
    {
     "data": {
      "text/html": [
       "<div>\n",
       "<style scoped>\n",
       "    .dataframe tbody tr th:only-of-type {\n",
       "        vertical-align: middle;\n",
       "    }\n",
       "\n",
       "    .dataframe tbody tr th {\n",
       "        vertical-align: top;\n",
       "    }\n",
       "\n",
       "    .dataframe thead th {\n",
       "        text-align: right;\n",
       "    }\n",
       "</style>\n",
       "<table border=\"1\" class=\"dataframe\">\n",
       "  <thead>\n",
       "    <tr style=\"text-align: right;\">\n",
       "      <th></th>\n",
       "      <th>TIME</th>\n",
       "      <th>GEO</th>\n",
       "      <th>Value</th>\n",
       "    </tr>\n",
       "  </thead>\n",
       "  <tbody>\n",
       "    <tr>\n",
       "      <th>0</th>\n",
       "      <td>2000</td>\n",
       "      <td>European Union (28 countries)</td>\n",
       "      <td>NaN</td>\n",
       "    </tr>\n",
       "    <tr>\n",
       "      <th>1</th>\n",
       "      <td>2001</td>\n",
       "      <td>European Union (28 countries)</td>\n",
       "      <td>NaN</td>\n",
       "    </tr>\n",
       "    <tr>\n",
       "      <th>2</th>\n",
       "      <td>2002</td>\n",
       "      <td>European Union (28 countries)</td>\n",
       "      <td>5.00</td>\n",
       "    </tr>\n",
       "    <tr>\n",
       "      <th>3</th>\n",
       "      <td>2003</td>\n",
       "      <td>European Union (28 countries)</td>\n",
       "      <td>5.03</td>\n",
       "    </tr>\n",
       "    <tr>\n",
       "      <th>4</th>\n",
       "      <td>2004</td>\n",
       "      <td>European Union (28 countries)</td>\n",
       "      <td>4.95</td>\n",
       "    </tr>\n",
       "  </tbody>\n",
       "</table>\n",
       "</div>"
      ],
      "text/plain": [
       "   TIME                            GEO  Value\n",
       "0  2000  European Union (28 countries)    NaN\n",
       "1  2001  European Union (28 countries)    NaN\n",
       "2  2002  European Union (28 countries)   5.00\n",
       "3  2003  European Union (28 countries)   5.03\n",
       "4  2004  European Union (28 countries)   4.95"
      ]
     },
     "execution_count": 88,
     "metadata": {},
     "output_type": "execute_result"
    }
   ],
   "source": [
    "edu.drop(\"ValueNorm\", axis = 1, inplace = True)\n",
    "edu.head()"
   ]
  },
  {
   "cell_type": "markdown",
   "metadata": {},
   "source": [
    "Bổ sung thêm một quan sát vào dòng cuối cùng (thứ 383) là Việt Nam chẳng hạn:  "
   ]
  },
  {
   "cell_type": "code",
   "execution_count": 89,
   "metadata": {},
   "outputs": [
    {
     "data": {
      "text/html": [
       "<div>\n",
       "<style scoped>\n",
       "    .dataframe tbody tr th:only-of-type {\n",
       "        vertical-align: middle;\n",
       "    }\n",
       "\n",
       "    .dataframe tbody tr th {\n",
       "        vertical-align: top;\n",
       "    }\n",
       "\n",
       "    .dataframe thead th {\n",
       "        text-align: right;\n",
       "    }\n",
       "</style>\n",
       "<table border=\"1\" class=\"dataframe\">\n",
       "  <thead>\n",
       "    <tr style=\"text-align: right;\">\n",
       "      <th></th>\n",
       "      <th>TIME</th>\n",
       "      <th>GEO</th>\n",
       "      <th>Value</th>\n",
       "    </tr>\n",
       "  </thead>\n",
       "  <tbody>\n",
       "    <tr>\n",
       "      <th>380</th>\n",
       "      <td>2008</td>\n",
       "      <td>Finland</td>\n",
       "      <td>6.10</td>\n",
       "    </tr>\n",
       "    <tr>\n",
       "      <th>381</th>\n",
       "      <td>2009</td>\n",
       "      <td>Finland</td>\n",
       "      <td>6.81</td>\n",
       "    </tr>\n",
       "    <tr>\n",
       "      <th>382</th>\n",
       "      <td>2010</td>\n",
       "      <td>Finland</td>\n",
       "      <td>6.85</td>\n",
       "    </tr>\n",
       "    <tr>\n",
       "      <th>383</th>\n",
       "      <td>2011</td>\n",
       "      <td>Finland</td>\n",
       "      <td>6.76</td>\n",
       "    </tr>\n",
       "    <tr>\n",
       "      <th>384</th>\n",
       "      <td>2000</td>\n",
       "      <td>Vietnam</td>\n",
       "      <td>5.00</td>\n",
       "    </tr>\n",
       "  </tbody>\n",
       "</table>\n",
       "</div>"
      ],
      "text/plain": [
       "     TIME      GEO  Value\n",
       "380  2008  Finland   6.10\n",
       "381  2009  Finland   6.81\n",
       "382  2010  Finland   6.85\n",
       "383  2011  Finland   6.76\n",
       "384  2000  Vietnam   5.00"
      ]
     },
     "execution_count": 89,
     "metadata": {},
     "output_type": "execute_result"
    }
   ],
   "source": [
    "edu = edu.append({\"TIME\": 2000, \n",
    "                  \"Value\": 5, \n",
    "                  \"GEO\": \"Vietnam\"}, ignore_index = True)\n",
    "edu.tail()"
   ]
  },
  {
   "cell_type": "markdown",
   "metadata": {},
   "source": [
    "Muốn xóa quan sát vừa bổ sung này: "
   ]
  },
  {
   "cell_type": "code",
   "execution_count": 90,
   "metadata": {},
   "outputs": [
    {
     "data": {
      "text/html": [
       "<div>\n",
       "<style scoped>\n",
       "    .dataframe tbody tr th:only-of-type {\n",
       "        vertical-align: middle;\n",
       "    }\n",
       "\n",
       "    .dataframe tbody tr th {\n",
       "        vertical-align: top;\n",
       "    }\n",
       "\n",
       "    .dataframe thead th {\n",
       "        text-align: right;\n",
       "    }\n",
       "</style>\n",
       "<table border=\"1\" class=\"dataframe\">\n",
       "  <thead>\n",
       "    <tr style=\"text-align: right;\">\n",
       "      <th></th>\n",
       "      <th>TIME</th>\n",
       "      <th>GEO</th>\n",
       "      <th>Value</th>\n",
       "    </tr>\n",
       "  </thead>\n",
       "  <tbody>\n",
       "    <tr>\n",
       "      <th>379</th>\n",
       "      <td>2007</td>\n",
       "      <td>Finland</td>\n",
       "      <td>5.90</td>\n",
       "    </tr>\n",
       "    <tr>\n",
       "      <th>380</th>\n",
       "      <td>2008</td>\n",
       "      <td>Finland</td>\n",
       "      <td>6.10</td>\n",
       "    </tr>\n",
       "    <tr>\n",
       "      <th>381</th>\n",
       "      <td>2009</td>\n",
       "      <td>Finland</td>\n",
       "      <td>6.81</td>\n",
       "    </tr>\n",
       "    <tr>\n",
       "      <th>382</th>\n",
       "      <td>2010</td>\n",
       "      <td>Finland</td>\n",
       "      <td>6.85</td>\n",
       "    </tr>\n",
       "    <tr>\n",
       "      <th>383</th>\n",
       "      <td>2011</td>\n",
       "      <td>Finland</td>\n",
       "      <td>6.76</td>\n",
       "    </tr>\n",
       "  </tbody>\n",
       "</table>\n",
       "</div>"
      ],
      "text/plain": [
       "     TIME      GEO  Value\n",
       "379  2007  Finland   5.90\n",
       "380  2008  Finland   6.10\n",
       "381  2009  Finland   6.81\n",
       "382  2010  Finland   6.85\n",
       "383  2011  Finland   6.76"
      ]
     },
     "execution_count": 90,
     "metadata": {},
     "output_type": "execute_result"
    }
   ],
   "source": [
    "edu.drop(max(edu.index), axis = 0, inplace = True)\n",
    "edu.tail()"
   ]
  },
  {
   "cell_type": "markdown",
   "metadata": {},
   "source": [
    "Thay thế các NA bằng 0  chẳng hạn: "
   ]
  },
  {
   "cell_type": "code",
   "execution_count": 91,
   "metadata": {},
   "outputs": [
    {
     "data": {
      "text/html": [
       "<div>\n",
       "<style scoped>\n",
       "    .dataframe tbody tr th:only-of-type {\n",
       "        vertical-align: middle;\n",
       "    }\n",
       "\n",
       "    .dataframe tbody tr th {\n",
       "        vertical-align: top;\n",
       "    }\n",
       "\n",
       "    .dataframe thead th {\n",
       "        text-align: right;\n",
       "    }\n",
       "</style>\n",
       "<table border=\"1\" class=\"dataframe\">\n",
       "  <thead>\n",
       "    <tr style=\"text-align: right;\">\n",
       "      <th></th>\n",
       "      <th>TIME</th>\n",
       "      <th>GEO</th>\n",
       "      <th>Value</th>\n",
       "    </tr>\n",
       "  </thead>\n",
       "  <tbody>\n",
       "    <tr>\n",
       "      <th>0</th>\n",
       "      <td>2000</td>\n",
       "      <td>European Union (28 countries)</td>\n",
       "      <td>0.00</td>\n",
       "    </tr>\n",
       "    <tr>\n",
       "      <th>1</th>\n",
       "      <td>2001</td>\n",
       "      <td>European Union (28 countries)</td>\n",
       "      <td>0.00</td>\n",
       "    </tr>\n",
       "    <tr>\n",
       "      <th>2</th>\n",
       "      <td>2002</td>\n",
       "      <td>European Union (28 countries)</td>\n",
       "      <td>5.00</td>\n",
       "    </tr>\n",
       "    <tr>\n",
       "      <th>3</th>\n",
       "      <td>2003</td>\n",
       "      <td>European Union (28 countries)</td>\n",
       "      <td>5.03</td>\n",
       "    </tr>\n",
       "    <tr>\n",
       "      <th>4</th>\n",
       "      <td>2004</td>\n",
       "      <td>European Union (28 countries)</td>\n",
       "      <td>4.95</td>\n",
       "    </tr>\n",
       "  </tbody>\n",
       "</table>\n",
       "</div>"
      ],
      "text/plain": [
       "   TIME                            GEO  Value\n",
       "0  2000  European Union (28 countries)   0.00\n",
       "1  2001  European Union (28 countries)   0.00\n",
       "2  2002  European Union (28 countries)   5.00\n",
       "3  2003  European Union (28 countries)   5.03\n",
       "4  2004  European Union (28 countries)   4.95"
      ]
     },
     "execution_count": 91,
     "metadata": {},
     "output_type": "execute_result"
    }
   ],
   "source": [
    "eduFilled = edu.fillna(value={\"Value\": 0})\n",
    "eduFilled.head()"
   ]
  },
  {
   "cell_type": "markdown",
   "metadata": {},
   "source": [
    "### 8. Tái bố  trí lại dữ  liệu\n"
   ]
  },
  {
   "cell_type": "markdown",
   "metadata": {},
   "source": [
    "Chúng ta có thể tái bố trí lại dữ liệu đã có ở một dạng thường gặp khác là bảng Pivot với hàm **pivot_tabel()**: "
   ]
  },
  {
   "cell_type": "code",
   "execution_count": 92,
   "metadata": {},
   "outputs": [
    {
     "data": {
      "text/html": [
       "<div>\n",
       "<style scoped>\n",
       "    .dataframe tbody tr th:only-of-type {\n",
       "        vertical-align: middle;\n",
       "    }\n",
       "\n",
       "    .dataframe tbody tr th {\n",
       "        vertical-align: top;\n",
       "    }\n",
       "\n",
       "    .dataframe thead th {\n",
       "        text-align: right;\n",
       "    }\n",
       "</style>\n",
       "<table border=\"1\" class=\"dataframe\">\n",
       "  <thead>\n",
       "    <tr style=\"text-align: right;\">\n",
       "      <th>TIME</th>\n",
       "      <th>2006</th>\n",
       "      <th>2007</th>\n",
       "      <th>2008</th>\n",
       "      <th>2009</th>\n",
       "      <th>2010</th>\n",
       "      <th>2011</th>\n",
       "    </tr>\n",
       "    <tr>\n",
       "      <th>GEO</th>\n",
       "      <th></th>\n",
       "      <th></th>\n",
       "      <th></th>\n",
       "      <th></th>\n",
       "      <th></th>\n",
       "      <th></th>\n",
       "    </tr>\n",
       "  </thead>\n",
       "  <tbody>\n",
       "    <tr>\n",
       "      <th>Austria</th>\n",
       "      <td>5.40</td>\n",
       "      <td>5.33</td>\n",
       "      <td>5.47</td>\n",
       "      <td>5.98</td>\n",
       "      <td>5.91</td>\n",
       "      <td>5.80</td>\n",
       "    </tr>\n",
       "    <tr>\n",
       "      <th>Belgium</th>\n",
       "      <td>5.98</td>\n",
       "      <td>6.00</td>\n",
       "      <td>6.43</td>\n",
       "      <td>6.57</td>\n",
       "      <td>6.58</td>\n",
       "      <td>6.55</td>\n",
       "    </tr>\n",
       "    <tr>\n",
       "      <th>Bulgaria</th>\n",
       "      <td>4.04</td>\n",
       "      <td>3.88</td>\n",
       "      <td>4.44</td>\n",
       "      <td>4.58</td>\n",
       "      <td>4.10</td>\n",
       "      <td>3.82</td>\n",
       "    </tr>\n",
       "    <tr>\n",
       "      <th>Cyprus</th>\n",
       "      <td>7.02</td>\n",
       "      <td>6.95</td>\n",
       "      <td>7.45</td>\n",
       "      <td>7.98</td>\n",
       "      <td>7.92</td>\n",
       "      <td>7.87</td>\n",
       "    </tr>\n",
       "    <tr>\n",
       "      <th>Czech Republic</th>\n",
       "      <td>4.42</td>\n",
       "      <td>4.05</td>\n",
       "      <td>3.92</td>\n",
       "      <td>4.36</td>\n",
       "      <td>4.25</td>\n",
       "      <td>4.51</td>\n",
       "    </tr>\n",
       "  </tbody>\n",
       "</table>\n",
       "</div>"
      ],
      "text/plain": [
       "TIME            2006  2007  2008  2009  2010  2011\n",
       "GEO                                               \n",
       "Austria         5.40  5.33  5.47  5.98  5.91  5.80\n",
       "Belgium         5.98  6.00  6.43  6.57  6.58  6.55\n",
       "Bulgaria        4.04  3.88  4.44  4.58  4.10  3.82\n",
       "Cyprus          7.02  6.95  7.45  7.98  7.92  7.87\n",
       "Czech Republic  4.42  4.05  3.92  4.36  4.25  4.51"
      ]
     },
     "execution_count": 92,
     "metadata": {},
     "output_type": "execute_result"
    }
   ],
   "source": [
    "# Lọc ra các quan sát từ năm 2006 trở đi: \n",
    "filtered_data = edu[edu[\"TIME\"] > 2005]\n",
    "# Tạo Pivot table: \n",
    "pivedu = pd.pivot_table(filtered_data, \n",
    "                        values = \"Value\",\n",
    "                        index = [\"GEO\"], \n",
    "                        columns = [\"TIME\"])\n",
    "pivedu.head()"
   ]
  },
  {
   "cell_type": "code",
   "execution_count": 93,
   "metadata": {},
   "outputs": [
    {
     "data": {
      "text/plain": [
       "pandas.core.frame.DataFrame"
      ]
     },
     "execution_count": 93,
     "metadata": {},
     "output_type": "execute_result"
    }
   ],
   "source": [
    "# Chú ý rằng pivotedu vẫn là DF: \n",
    "type(pivedu)"
   ]
  },
  {
   "cell_type": "markdown",
   "metadata": {},
   "source": [
    "Nên chúng ta lại có thể áp dụng các hàm đã biết cho DF này: "
   ]
  },
  {
   "cell_type": "code",
   "execution_count": 95,
   "metadata": {},
   "outputs": [
    {
     "data": {
      "text/html": [
       "<div>\n",
       "<style scoped>\n",
       "    .dataframe tbody tr th:only-of-type {\n",
       "        vertical-align: middle;\n",
       "    }\n",
       "\n",
       "    .dataframe tbody tr th {\n",
       "        vertical-align: top;\n",
       "    }\n",
       "\n",
       "    .dataframe thead th {\n",
       "        text-align: right;\n",
       "    }\n",
       "</style>\n",
       "<table border=\"1\" class=\"dataframe\">\n",
       "  <thead>\n",
       "    <tr style=\"text-align: right;\">\n",
       "      <th>TIME</th>\n",
       "      <th>2006</th>\n",
       "      <th>2011</th>\n",
       "    </tr>\n",
       "    <tr>\n",
       "      <th>GEO</th>\n",
       "      <th></th>\n",
       "      <th></th>\n",
       "    </tr>\n",
       "  </thead>\n",
       "  <tbody>\n",
       "    <tr>\n",
       "      <th>Spain</th>\n",
       "      <td>4.26</td>\n",
       "      <td>4.82</td>\n",
       "    </tr>\n",
       "    <tr>\n",
       "      <th>France</th>\n",
       "      <td>5.61</td>\n",
       "      <td>5.68</td>\n",
       "    </tr>\n",
       "  </tbody>\n",
       "</table>\n",
       "</div>"
      ],
      "text/plain": [
       "TIME    2006  2011\n",
       "GEO               \n",
       "Spain   4.26  4.82\n",
       "France  5.61  5.68"
      ]
     },
     "execution_count": 95,
     "metadata": {},
     "output_type": "execute_result"
    }
   ],
   "source": [
    "pivedu.ix[[\"Spain\", \"France\"], [2006, 2011]]"
   ]
  },
  {
   "cell_type": "markdown",
   "metadata": {},
   "source": [
    "### 9. Xếp hạng"
   ]
  },
  {
   "cell_type": "markdown",
   "metadata": {},
   "source": [
    "Để loại bỏ một số quan sát sử dụng hàm **drop()**, để đổi nhãn cho một quan sát dùng hàm **rename()**, để loại bỏ bất kì dòng nào có NA sử dụng hàm **dropna()**: "
   ]
  },
  {
   "cell_type": "code",
   "execution_count": 96,
   "metadata": {},
   "outputs": [
    {
     "data": {
      "text/html": [
       "<div>\n",
       "<style scoped>\n",
       "    .dataframe tbody tr th:only-of-type {\n",
       "        vertical-align: middle;\n",
       "    }\n",
       "\n",
       "    .dataframe tbody tr th {\n",
       "        vertical-align: top;\n",
       "    }\n",
       "\n",
       "    .dataframe thead th {\n",
       "        text-align: right;\n",
       "    }\n",
       "</style>\n",
       "<table border=\"1\" class=\"dataframe\">\n",
       "  <thead>\n",
       "    <tr style=\"text-align: right;\">\n",
       "      <th>TIME</th>\n",
       "      <th>2006</th>\n",
       "      <th>2007</th>\n",
       "      <th>2008</th>\n",
       "      <th>2009</th>\n",
       "      <th>2010</th>\n",
       "      <th>2011</th>\n",
       "    </tr>\n",
       "    <tr>\n",
       "      <th>GEO</th>\n",
       "      <th></th>\n",
       "      <th></th>\n",
       "      <th></th>\n",
       "      <th></th>\n",
       "      <th></th>\n",
       "      <th></th>\n",
       "    </tr>\n",
       "  </thead>\n",
       "  <tbody>\n",
       "    <tr>\n",
       "      <th>Austria</th>\n",
       "      <td>5.40</td>\n",
       "      <td>5.33</td>\n",
       "      <td>5.47</td>\n",
       "      <td>5.98</td>\n",
       "      <td>5.91</td>\n",
       "      <td>5.80</td>\n",
       "    </tr>\n",
       "    <tr>\n",
       "      <th>Belgium</th>\n",
       "      <td>5.98</td>\n",
       "      <td>6.00</td>\n",
       "      <td>6.43</td>\n",
       "      <td>6.57</td>\n",
       "      <td>6.58</td>\n",
       "      <td>6.55</td>\n",
       "    </tr>\n",
       "    <tr>\n",
       "      <th>Bulgaria</th>\n",
       "      <td>4.04</td>\n",
       "      <td>3.88</td>\n",
       "      <td>4.44</td>\n",
       "      <td>4.58</td>\n",
       "      <td>4.10</td>\n",
       "      <td>3.82</td>\n",
       "    </tr>\n",
       "    <tr>\n",
       "      <th>Cyprus</th>\n",
       "      <td>7.02</td>\n",
       "      <td>6.95</td>\n",
       "      <td>7.45</td>\n",
       "      <td>7.98</td>\n",
       "      <td>7.92</td>\n",
       "      <td>7.87</td>\n",
       "    </tr>\n",
       "    <tr>\n",
       "      <th>Czech Republic</th>\n",
       "      <td>4.42</td>\n",
       "      <td>4.05</td>\n",
       "      <td>3.92</td>\n",
       "      <td>4.36</td>\n",
       "      <td>4.25</td>\n",
       "      <td>4.51</td>\n",
       "    </tr>\n",
       "  </tbody>\n",
       "</table>\n",
       "</div>"
      ],
      "text/plain": [
       "TIME            2006  2007  2008  2009  2010  2011\n",
       "GEO                                               \n",
       "Austria         5.40  5.33  5.47  5.98  5.91  5.80\n",
       "Belgium         5.98  6.00  6.43  6.57  6.58  6.55\n",
       "Bulgaria        4.04  3.88  4.44  4.58  4.10  3.82\n",
       "Cyprus          7.02  6.95  7.45  7.98  7.92  7.87\n",
       "Czech Republic  4.42  4.05  3.92  4.36  4.25  4.51"
      ]
     },
     "execution_count": 96,
     "metadata": {},
     "output_type": "execute_result"
    }
   ],
   "source": [
    "# Loại bỏ một số giả quốc gia: \n",
    "pivedu = pivedu.drop([\"Euro area (13 countries)\",\n",
    "                      \"Euro area (15 countries)\",\n",
    "                      \"Euro area (17 countries)\",\n",
    "                      \"Euro area (18 countries)\",\n",
    "                      \"European Union (25 countries)\",\n",
    "                      \"European Union (27 countries)\",\n",
    "                      \"European Union (28 countries)\"], axis = 0)\n",
    "# Đổi tên cho ông Germany (until 1990 former territory of the FRG: \n",
    "pivedu = pivedu.rename(index = {\"Germany (until 1990 former territory of the FRG)\": \"Germany\"})\n",
    "\n",
    "# Loại bỏ bất kì dòng nào có NA: \n",
    "pivedu = pivedu.dropna()\n",
    "# Rồi liệt kê 5 quan sát đầu: \n",
    "pivedu.head()"
   ]
  },
  {
   "cell_type": "markdown",
   "metadata": {},
   "source": [
    "Nếu chúng ta muốn xếp hạng tổng dựa theo tổng của Value (chi cho giáo dục) theo năm đồng thời xếp hạng cho quốc gia theo giá trị giảm dần đầu tiên sử dụng hàm **sum()** rồi hàm **rank()** để xếp hạng: "
   ]
  },
  {
   "cell_type": "code",
   "execution_count": 386,
   "metadata": {},
   "outputs": [
    {
     "data": {
      "text/plain": [
       "GEO\n",
       "Denmark    1.0\n",
       "Cyprus     2.0\n",
       "Finland    3.0\n",
       "Malta      4.0\n",
       "Belgium    5.0\n",
       "dtype: float64"
      ]
     },
     "execution_count": 386,
     "metadata": {},
     "output_type": "execute_result"
    }
   ],
   "source": [
    "totalSum = pivedu.sum(axis = 1)\n",
    "totalSum.rank(ascending = False, method = \"dense\").sort_values().head()"
   ]
  },
  {
   "cell_type": "markdown",
   "metadata": {},
   "source": [
    "Như vậy Đan  Mạch là quốc gia đứng đầu bảng. "
   ]
  },
  {
   "cell_type": "markdown",
   "metadata": {},
   "source": [
    "###  10. Hình ảnh hóa cho DF "
   ]
  },
  {
   "cell_type": "markdown",
   "metadata": {},
   "source": [
    "DF và Series của pandas có thể được hình ảnh hóa với hàm **plot()** của gói chuyên cho đồ họa là **matplotlib** theo kiểu của phần mềm Matlab. Với Rusers thì những lệnh  dưới đây là quen thuộc và dễ hiểu: "
   ]
  },
  {
   "cell_type": "code",
   "execution_count": 100,
   "metadata": {},
   "outputs": [
    {
     "data": {
      "image/png": "[encoded data removed]",
      "text/plain": [
       "<matplotlib.figure.Figure at 0x2be2b9f4ef0>"
      ]
     },
     "metadata": {},
     "output_type": "display_data"
    }
   ],
   "source": [
    "#  Load gói matplotlib: \n",
    "import matplotlib.pyplot as plt\n",
    "\n",
    "# Chọn kích thước cho plot: \n",
    "fig = plt.figure(figsize = (8, 5))\n",
    "\n",
    "# Và vẽ: \n",
    "totalSum = pivedu.sum(axis = 1).sort_values(ascending = False)\n",
    "totalSum.plot(kind = \"bar\", \n",
    "              style = \"b\", \n",
    "              alpha = 0.8,\n",
    "              title = \"Total Values for Country\")\n",
    "\n",
    "# Hiển thị: \n",
    "plt.show()"
   ]
  },
  {
   "cell_type": "markdown",
   "metadata": {},
   "source": [
    "Hoặc một kiểu Barplot phổ biến kiểu chồng lên nhau (stacked): "
   ]
  },
  {
   "cell_type": "code",
   "execution_count": 101,
   "metadata": {},
   "outputs": [
    {
     "data": {
      "image/png": "[encoded data removed]",
      "text/plain": [
       "<matplotlib.figure.Figure at 0x2be2cf2d080>"
      ]
     },
     "metadata": {},
     "output_type": "display_data"
    }
   ],
   "source": [
    "# Chọn màu: \n",
    "my_colors = [\"b\", \"r\", \"g\", \"y\", \"m\", \"c\"]\n",
    "# Vẽ thôi: \n",
    "ax = pivedu.plot(kind = \"barh\", \n",
    "                 stacked = True, \n",
    "                 color = my_colors, \n",
    "                 figsize = (12, 6), \n",
    "                 alpha = 0.7)\n",
    "ax.legend(loc = \"center left\", bbox_to_anchor = (1, 0.5))\n",
    "plt.show()"
   ]
  },
  {
   "cell_type": "markdown",
   "metadata": {},
   "source": [
    "## Nguồn tham khảo thêm về pandas\n",
    "\n",
    "Trong hầu hết các công việc thực tế thì chỉ cần master một số nhóm nhỏ các hàm cho manipulation / wrangling là đủ. Nếu bạn muốn nhiều hơn thế thì  tham khảo ở đây: \n",
    "\n",
    "http://pandas.pydata.org/pandas-docs/stable/"
   ]
  },
  {
   "cell_type": "markdown",
   "metadata": {},
   "source": [
    "## Mini Project: Bộ dữ liệu hmeq.csv\n",
    "\n",
    "Đây là bộ dữ liệu sử dụng cho phân các mô hình phân loại hồ sơ xin vay của khách hàng ở một tổ chức tài chính. Thông tin về bộ dữ liệu này được mô tả chi tiết (và cũng có thể download) [ở đây](http://www.creditriskanalytics.net/datasets-private.html). "
   ]
  },
  {
   "cell_type": "code",
   "execution_count": 2,
   "metadata": {},
   "outputs": [
    {
     "data": {
      "text/html": [
       "<div>\n",
       "<style scoped>\n",
       "    .dataframe tbody tr th:only-of-type {\n",
       "        vertical-align: middle;\n",
       "    }\n",
       "\n",
       "    .dataframe tbody tr th {\n",
       "        vertical-align: top;\n",
       "    }\n",
       "\n",
       "    .dataframe thead th {\n",
       "        text-align: right;\n",
       "    }\n",
       "</style>\n",
       "<table border=\"1\" class=\"dataframe\">\n",
       "  <thead>\n",
       "    <tr style=\"text-align: right;\">\n",
       "      <th></th>\n",
       "      <th>BAD</th>\n",
       "      <th>LOAN</th>\n",
       "      <th>MORTDUE</th>\n",
       "      <th>VALUE</th>\n",
       "      <th>REASON</th>\n",
       "      <th>JOB</th>\n",
       "      <th>YOJ</th>\n",
       "      <th>DEROG</th>\n",
       "      <th>DELINQ</th>\n",
       "      <th>CLAGE</th>\n",
       "      <th>NINQ</th>\n",
       "      <th>CLNO</th>\n",
       "      <th>DEBTINC</th>\n",
       "    </tr>\n",
       "  </thead>\n",
       "  <tbody>\n",
       "    <tr>\n",
       "      <th>0</th>\n",
       "      <td>1</td>\n",
       "      <td>1100</td>\n",
       "      <td>25860.0</td>\n",
       "      <td>39025.0</td>\n",
       "      <td>HomeImp</td>\n",
       "      <td>Other</td>\n",
       "      <td>10.5</td>\n",
       "      <td>0.0</td>\n",
       "      <td>0.0</td>\n",
       "      <td>94.366667</td>\n",
       "      <td>1.0</td>\n",
       "      <td>9.0</td>\n",
       "      <td>NaN</td>\n",
       "    </tr>\n",
       "    <tr>\n",
       "      <th>1</th>\n",
       "      <td>1</td>\n",
       "      <td>1300</td>\n",
       "      <td>70053.0</td>\n",
       "      <td>68400.0</td>\n",
       "      <td>HomeImp</td>\n",
       "      <td>Other</td>\n",
       "      <td>7.0</td>\n",
       "      <td>0.0</td>\n",
       "      <td>2.0</td>\n",
       "      <td>121.833333</td>\n",
       "      <td>0.0</td>\n",
       "      <td>14.0</td>\n",
       "      <td>NaN</td>\n",
       "    </tr>\n",
       "    <tr>\n",
       "      <th>2</th>\n",
       "      <td>1</td>\n",
       "      <td>1500</td>\n",
       "      <td>13500.0</td>\n",
       "      <td>16700.0</td>\n",
       "      <td>HomeImp</td>\n",
       "      <td>Other</td>\n",
       "      <td>4.0</td>\n",
       "      <td>0.0</td>\n",
       "      <td>0.0</td>\n",
       "      <td>149.466667</td>\n",
       "      <td>1.0</td>\n",
       "      <td>10.0</td>\n",
       "      <td>NaN</td>\n",
       "    </tr>\n",
       "    <tr>\n",
       "      <th>3</th>\n",
       "      <td>1</td>\n",
       "      <td>1500</td>\n",
       "      <td>NaN</td>\n",
       "      <td>NaN</td>\n",
       "      <td>NaN</td>\n",
       "      <td>NaN</td>\n",
       "      <td>NaN</td>\n",
       "      <td>NaN</td>\n",
       "      <td>NaN</td>\n",
       "      <td>NaN</td>\n",
       "      <td>NaN</td>\n",
       "      <td>NaN</td>\n",
       "      <td>NaN</td>\n",
       "    </tr>\n",
       "    <tr>\n",
       "      <th>4</th>\n",
       "      <td>0</td>\n",
       "      <td>1700</td>\n",
       "      <td>97800.0</td>\n",
       "      <td>112000.0</td>\n",
       "      <td>HomeImp</td>\n",
       "      <td>Office</td>\n",
       "      <td>3.0</td>\n",
       "      <td>0.0</td>\n",
       "      <td>0.0</td>\n",
       "      <td>93.333333</td>\n",
       "      <td>0.0</td>\n",
       "      <td>14.0</td>\n",
       "      <td>NaN</td>\n",
       "    </tr>\n",
       "  </tbody>\n",
       "</table>\n",
       "</div>"
      ],
      "text/plain": [
       "   BAD  LOAN  MORTDUE     VALUE   REASON     JOB   YOJ  DEROG  DELINQ  \\\n",
       "0    1  1100  25860.0   39025.0  HomeImp   Other  10.5    0.0     0.0   \n",
       "1    1  1300  70053.0   68400.0  HomeImp   Other   7.0    0.0     2.0   \n",
       "2    1  1500  13500.0   16700.0  HomeImp   Other   4.0    0.0     0.0   \n",
       "3    1  1500      NaN       NaN      NaN     NaN   NaN    NaN     NaN   \n",
       "4    0  1700  97800.0  112000.0  HomeImp  Office   3.0    0.0     0.0   \n",
       "\n",
       "        CLAGE  NINQ  CLNO  DEBTINC  \n",
       "0   94.366667   1.0   9.0      NaN  \n",
       "1  121.833333   0.0  14.0      NaN  \n",
       "2  149.466667   1.0  10.0      NaN  \n",
       "3         NaN   NaN   NaN      NaN  \n",
       "4   93.333333   0.0  14.0      NaN  "
      ]
     },
     "execution_count": 2,
     "metadata": {},
     "output_type": "execute_result"
    }
   ],
   "source": [
    "# Đọc vào bộ dữ liệu  này với tên credit: \n",
    "credit = pd.read_csv(\"F:/Python_project/python_mini_project/hmeq.csv\")\n",
    "# Và xem qua dữ liệu: \n",
    "credit.head()"
   ]
  },
  {
   "cell_type": "code",
   "execution_count": 3,
   "metadata": {},
   "outputs": [
    {
     "data": {
      "text/plain": [
       "BAD           0\n",
       "LOAN          0\n",
       "MORTDUE     518\n",
       "VALUE       112\n",
       "REASON      252\n",
       "JOB         279\n",
       "YOJ         515\n",
       "DEROG       708\n",
       "DELINQ      580\n",
       "CLAGE       308\n",
       "NINQ        510\n",
       "CLNO        222\n",
       "DEBTINC    1267\n",
       "dtype: int64"
      ]
     },
     "execution_count": 3,
     "metadata": {},
     "output_type": "execute_result"
    }
   ],
   "source": [
    "# Đánh giá số lượng dữ liệu thiếu ở từng cột dữ liệu: \n",
    "credit.isnull().sum()"
   ]
  },
  {
   "cell_type": "code",
   "execution_count": 4,
   "metadata": {},
   "outputs": [
    {
     "data": {
      "text/plain": [
       "BAD         0.000000\n",
       "LOAN        0.000000\n",
       "MORTDUE     8.691275\n",
       "VALUE       1.879195\n",
       "REASON      4.228188\n",
       "JOB         4.681208\n",
       "YOJ         8.640940\n",
       "DEROG      11.879195\n",
       "DELINQ      9.731544\n",
       "CLAGE       5.167785\n",
       "NINQ        8.557047\n",
       "CLNO        3.724832\n",
       "DEBTINC    21.258389\n",
       "dtype: float64"
      ]
     },
     "execution_count": 4,
     "metadata": {},
     "output_type": "execute_result"
    }
   ],
   "source": [
    "# Sẽ hợp lí hơn nếu chúng ta xem tỉ lệ % dữ liệu thiếu: \n",
    "100*credit.isnull().sum() / len(credit.index)"
   ]
  },
  {
   "cell_type": "code",
   "execution_count": 5,
   "metadata": {},
   "outputs": [
    {
     "data": {
      "text/plain": [
       "BAD         0.000000\n",
       "LOAN        0.000000\n",
       "MORTDUE     8.691275\n",
       "VALUE       1.879195\n",
       "REASON      4.228188\n",
       "JOB         4.681208\n",
       "YOJ         8.640940\n",
       "DEROG      11.879195\n",
       "DELINQ      9.731544\n",
       "CLAGE       5.167785\n",
       "NINQ        8.557047\n",
       "CLNO        3.724832\n",
       "DEBTINC    21.258389\n",
       "dtype: float64"
      ]
     },
     "execution_count": 5,
     "metadata": {},
     "output_type": "execute_result"
    }
   ],
   "source": [
    "# Hoặc một cách khác: \n",
    "100*(1 - credit.count() / len(credit.index))"
   ]
  },
  {
   "cell_type": "code",
   "execution_count": 6,
   "metadata": {},
   "outputs": [
    {
     "data": {
      "text/plain": [
       "13"
      ]
     },
     "execution_count": 6,
     "metadata": {},
     "output_type": "execute_result"
    }
   ],
   "source": [
    "# Số cột biến: \n",
    "len(credit.columns)"
   ]
  },
  {
   "cell_type": "code",
   "execution_count": 7,
   "metadata": {},
   "outputs": [
    {
     "data": {
      "text/plain": [
       "BAD\n",
       "0    4771\n",
       "1    1189\n",
       "Name: LOAN, dtype: int64"
      ]
     },
     "execution_count": 7,
     "metadata": {},
     "output_type": "execute_result"
    }
   ],
   "source": [
    "# Tỉ lệ các loại hồ sơ (cách 1):\n",
    "u = credit.groupby(\"BAD\").count()\n",
    "u[\"LOAN\"]"
   ]
  },
  {
   "cell_type": "code",
   "execution_count": 8,
   "metadata": {},
   "outputs": [
    {
     "data": {
      "text/plain": [
       "19.949664429530202"
      ]
     },
     "execution_count": 8,
     "metadata": {},
     "output_type": "execute_result"
    }
   ],
   "source": [
    "# Tỉ lệ hồ sơ xấu (cách 2): \n",
    "100*sum(credit[\"BAD\"] == 1) / len(credit.index)"
   ]
  },
  {
   "cell_type": "code",
   "execution_count": 9,
   "metadata": {},
   "outputs": [
    {
     "data": {
      "text/plain": [
       "0    80.050336\n",
       "1    19.949664\n",
       "Name: BAD, dtype: float64"
      ]
     },
     "execution_count": 9,
     "metadata": {},
     "output_type": "execute_result"
    }
   ],
   "source": [
    "# Tỉ lệ hồ sơ xấu (cách 3): \n",
    "100*pd.value_counts(credit[\"BAD\"], sort = True) / len(credit.index)"
   ]
  },
  {
   "cell_type": "code",
   "execution_count": 10,
   "metadata": {},
   "outputs": [
    {
     "data": {
      "text/plain": [
       "array(['HomeImp', nan, 'DebtCon'], dtype=object)"
      ]
     },
     "execution_count": 10,
     "metadata": {},
     "output_type": "execute_result"
    }
   ],
   "source": [
    "# Lí do vay: \n",
    "credit[\"REASON\"].unique()"
   ]
  },
  {
   "cell_type": "code",
   "execution_count": 11,
   "metadata": {},
   "outputs": [
    {
     "data": {
      "text/plain": [
       "array([  1.,   0.,  nan,   2.,   3.,   5.,  14.,  10.,   4.,   9.,   8.,\n",
       "         6.,   7.,  11.,  12.,  17.,  13.])"
      ]
     },
     "execution_count": 11,
     "metadata": {},
     "output_type": "execute_result"
    }
   ],
   "source": [
    "# Số lần xin cấp tín dụng: \n",
    "credit[\"NINQ\"].unique()"
   ]
  },
  {
   "cell_type": "code",
   "execution_count": 12,
   "metadata": {},
   "outputs": [
    {
     "data": {
      "text/plain": [
       "0.0     2531\n",
       "1.0     1339\n",
       "2.0      780\n",
       "3.0      392\n",
       "4.0      156\n",
       "5.0       75\n",
       "6.0       56\n",
       "7.0       44\n",
       "10.0      28\n",
       "8.0       22\n",
       "9.0       11\n",
       "11.0      10\n",
       "13.0       2\n",
       "12.0       2\n",
       "17.0       1\n",
       "14.0       1\n",
       "Name: NINQ, dtype: int64"
      ]
     },
     "execution_count": 12,
     "metadata": {},
     "output_type": "execute_result"
    }
   ],
   "source": [
    "# Tương tự lệnh table() của R: \n",
    "pd.value_counts(credit[\"NINQ\"])"
   ]
  },
  {
   "cell_type": "code",
   "execution_count": 13,
   "metadata": {},
   "outputs": [
    {
     "data": {
      "text/plain": [
       "pandas.core.series.Series"
      ]
     },
     "execution_count": 13,
     "metadata": {},
     "output_type": "execute_result"
    }
   ],
   "source": [
    "# Nên điều tra kĩ hơn về cấu trúc dữ liệu: \n",
    "type(pd.value_counts(credit[\"NINQ\"]))"
   ]
  },
  {
   "cell_type": "code",
   "execution_count": 14,
   "metadata": {},
   "outputs": [
    {
     "data": {
      "text/plain": [
       "array(['Other', nan, 'Office', 'Sales', 'Mgr', 'ProfExe', 'Self'], dtype=object)"
      ]
     },
     "execution_count": 14,
     "metadata": {},
     "output_type": "execute_result"
    }
   ],
   "source": [
    "# Nghề nghiệp: \n",
    "credit[\"JOB\"].unique()"
   ]
  },
  {
   "cell_type": "code",
   "execution_count": 15,
   "metadata": {},
   "outputs": [
    {
     "data": {
      "text/html": [
       "<div>\n",
       "<style scoped>\n",
       "    .dataframe tbody tr th:only-of-type {\n",
       "        vertical-align: middle;\n",
       "    }\n",
       "\n",
       "    .dataframe tbody tr th {\n",
       "        vertical-align: top;\n",
       "    }\n",
       "\n",
       "    .dataframe thead th {\n",
       "        text-align: right;\n",
       "    }\n",
       "</style>\n",
       "<table border=\"1\" class=\"dataframe\">\n",
       "  <thead>\n",
       "    <tr style=\"text-align: right;\">\n",
       "      <th></th>\n",
       "      <th>BAD</th>\n",
       "      <th>LOAN</th>\n",
       "      <th>MORTDUE</th>\n",
       "      <th>VALUE</th>\n",
       "      <th>YOJ</th>\n",
       "      <th>DEROG</th>\n",
       "      <th>DELINQ</th>\n",
       "      <th>CLAGE</th>\n",
       "      <th>NINQ</th>\n",
       "      <th>CLNO</th>\n",
       "      <th>DEBTINC</th>\n",
       "    </tr>\n",
       "    <tr>\n",
       "      <th>JOB</th>\n",
       "      <th></th>\n",
       "      <th></th>\n",
       "      <th></th>\n",
       "      <th></th>\n",
       "      <th></th>\n",
       "      <th></th>\n",
       "      <th></th>\n",
       "      <th></th>\n",
       "      <th></th>\n",
       "      <th></th>\n",
       "      <th></th>\n",
       "    </tr>\n",
       "  </thead>\n",
       "  <tbody>\n",
       "    <tr>\n",
       "      <th>Self</th>\n",
       "      <td>0.300518</td>\n",
       "      <td>28314.507772</td>\n",
       "      <td>99776.188889</td>\n",
       "      <td>149734.106383</td>\n",
       "      <td>7.069399</td>\n",
       "      <td>0.235294</td>\n",
       "      <td>0.578652</td>\n",
       "      <td>174.536225</td>\n",
       "      <td>1.357576</td>\n",
       "      <td>23.026316</td>\n",
       "      <td>35.568006</td>\n",
       "    </tr>\n",
       "    <tr>\n",
       "      <th>Mgr</th>\n",
       "      <td>0.233377</td>\n",
       "      <td>19155.280313</td>\n",
       "      <td>82295.007659</td>\n",
       "      <td>108628.262697</td>\n",
       "      <td>9.319372</td>\n",
       "      <td>0.337386</td>\n",
       "      <td>0.630747</td>\n",
       "      <td>174.483868</td>\n",
       "      <td>1.509116</td>\n",
       "      <td>22.885638</td>\n",
       "      <td>35.277869</td>\n",
       "    </tr>\n",
       "    <tr>\n",
       "      <th>ProfExe</th>\n",
       "      <td>0.166144</td>\n",
       "      <td>18983.463950</td>\n",
       "      <td>94959.637806</td>\n",
       "      <td>131118.204130</td>\n",
       "      <td>8.752345</td>\n",
       "      <td>0.184564</td>\n",
       "      <td>0.416667</td>\n",
       "      <td>197.914313</td>\n",
       "      <td>0.982843</td>\n",
       "      <td>24.503195</td>\n",
       "      <td>32.540668</td>\n",
       "    </tr>\n",
       "    <tr>\n",
       "      <th>Office</th>\n",
       "      <td>0.131857</td>\n",
       "      <td>18142.616034</td>\n",
       "      <td>66757.144265</td>\n",
       "      <td>94081.816756</td>\n",
       "      <td>8.350438</td>\n",
       "      <td>0.151371</td>\n",
       "      <td>0.453196</td>\n",
       "      <td>179.489207</td>\n",
       "      <td>0.931188</td>\n",
       "      <td>21.191286</td>\n",
       "      <td>34.330619</td>\n",
       "    </tr>\n",
       "    <tr>\n",
       "      <th>Other</th>\n",
       "      <td>0.231993</td>\n",
       "      <td>18061.683417</td>\n",
       "      <td>59337.147858</td>\n",
       "      <td>84787.503377</td>\n",
       "      <td>9.459063</td>\n",
       "      <td>0.296919</td>\n",
       "      <td>0.420613</td>\n",
       "      <td>173.520162</td>\n",
       "      <td>1.323049</td>\n",
       "      <td>19.256072</td>\n",
       "      <td>34.241852</td>\n",
       "    </tr>\n",
       "    <tr>\n",
       "      <th>Sales</th>\n",
       "      <td>0.348624</td>\n",
       "      <td>14913.761468</td>\n",
       "      <td>82266.181818</td>\n",
       "      <td>108449.592593</td>\n",
       "      <td>6.802020</td>\n",
       "      <td>0.444444</td>\n",
       "      <td>0.285714</td>\n",
       "      <td>195.304893</td>\n",
       "      <td>0.750000</td>\n",
       "      <td>24.880734</td>\n",
       "      <td>37.534481</td>\n",
       "    </tr>\n",
       "  </tbody>\n",
       "</table>\n",
       "</div>"
      ],
      "text/plain": [
       "              BAD          LOAN       MORTDUE          VALUE       YOJ  \\\n",
       "JOB                                                                      \n",
       "Self     0.300518  28314.507772  99776.188889  149734.106383  7.069399   \n",
       "Mgr      0.233377  19155.280313  82295.007659  108628.262697  9.319372   \n",
       "ProfExe  0.166144  18983.463950  94959.637806  131118.204130  8.752345   \n",
       "Office   0.131857  18142.616034  66757.144265   94081.816756  8.350438   \n",
       "Other    0.231993  18061.683417  59337.147858   84787.503377  9.459063   \n",
       "Sales    0.348624  14913.761468  82266.181818  108449.592593  6.802020   \n",
       "\n",
       "            DEROG    DELINQ       CLAGE      NINQ       CLNO    DEBTINC  \n",
       "JOB                                                                      \n",
       "Self     0.235294  0.578652  174.536225  1.357576  23.026316  35.568006  \n",
       "Mgr      0.337386  0.630747  174.483868  1.509116  22.885638  35.277869  \n",
       "ProfExe  0.184564  0.416667  197.914313  0.982843  24.503195  32.540668  \n",
       "Office   0.151371  0.453196  179.489207  0.931188  21.191286  34.330619  \n",
       "Other    0.296919  0.420613  173.520162  1.323049  19.256072  34.241852  \n",
       "Sales    0.444444  0.285714  195.304893  0.750000  24.880734  37.534481  "
      ]
     },
     "execution_count": 15,
     "metadata": {},
     "output_type": "execute_result"
    }
   ],
   "source": [
    "# Đếm số tiền xin vay trung bình theo nghề và xếp theo thứ tự giảm. Có thể thấy các bố tự doanh (Self) là vay nhiều nhất\n",
    "# và chính các bố này cũng là nhóm có tỉ lệ hồ sơ xấu cao thứ hai chỉ thua ông bán hàng (Sales): \n",
    "\n",
    "credit.groupby(\"JOB\").mean().sort_values(by = \"LOAN\",  ascending = False)"
   ]
  },
  {
   "cell_type": "code",
   "execution_count": 16,
   "metadata": {},
   "outputs": [
    {
     "data": {
      "text/plain": [
       "252"
      ]
     },
     "execution_count": 16,
     "metadata": {},
     "output_type": "execute_result"
    }
   ],
   "source": [
    "# Có 252 ông không báo cáo vay để làm gì: \n",
    "sum(credit[\"REASON\"].isnull())"
   ]
  },
  {
   "cell_type": "code",
   "execution_count": 17,
   "metadata": {
    "collapsed": true
   },
   "outputs": [],
   "source": [
    "# Có thể dán lại nhãn cho nhóm này là Unknown: \n",
    "k = credit[\"REASON\"]"
   ]
  },
  {
   "cell_type": "code",
   "execution_count": 18,
   "metadata": {
    "collapsed": true
   },
   "outputs": [],
   "source": [
    "k = k.fillna(\"Unknown\")"
   ]
  },
  {
   "cell_type": "code",
   "execution_count": 19,
   "metadata": {},
   "outputs": [
    {
     "data": {
      "text/plain": [
       "DebtCon    3928\n",
       "HomeImp    1780\n",
       "Unknown     252\n",
       "Name: REASON, dtype: int64"
      ]
     },
     "execution_count": 19,
     "metadata": {},
     "output_type": "execute_result"
    }
   ],
   "source": [
    "#  Kiểm tra lại rằng nhãn Unknown là 252: \n",
    "pd.value_counts(k)"
   ]
  },
  {
   "cell_type": "code",
   "execution_count": 20,
   "metadata": {},
   "outputs": [
    {
     "data": {
      "text/html": [
       "<div>\n",
       "<style scoped>\n",
       "    .dataframe tbody tr th:only-of-type {\n",
       "        vertical-align: middle;\n",
       "    }\n",
       "\n",
       "    .dataframe tbody tr th {\n",
       "        vertical-align: top;\n",
       "    }\n",
       "\n",
       "    .dataframe thead th {\n",
       "        text-align: right;\n",
       "    }\n",
       "</style>\n",
       "<table border=\"1\" class=\"dataframe\">\n",
       "  <thead>\n",
       "    <tr style=\"text-align: right;\">\n",
       "      <th></th>\n",
       "      <th>BAD</th>\n",
       "      <th>LOAN</th>\n",
       "      <th>MORTDUE</th>\n",
       "      <th>VALUE</th>\n",
       "      <th>REASON</th>\n",
       "      <th>JOB</th>\n",
       "      <th>YOJ</th>\n",
       "      <th>DEROG</th>\n",
       "      <th>DELINQ</th>\n",
       "      <th>CLAGE</th>\n",
       "      <th>NINQ</th>\n",
       "      <th>CLNO</th>\n",
       "      <th>DEBTINC</th>\n",
       "    </tr>\n",
       "  </thead>\n",
       "  <tbody>\n",
       "    <tr>\n",
       "      <th>0</th>\n",
       "      <td>1</td>\n",
       "      <td>1100</td>\n",
       "      <td>25860.0</td>\n",
       "      <td>39025.0</td>\n",
       "      <td>HomeImp</td>\n",
       "      <td>Other</td>\n",
       "      <td>10.5</td>\n",
       "      <td>0.0</td>\n",
       "      <td>0.0</td>\n",
       "      <td>94.366667</td>\n",
       "      <td>1.0</td>\n",
       "      <td>9.0</td>\n",
       "      <td>NaN</td>\n",
       "    </tr>\n",
       "    <tr>\n",
       "      <th>1</th>\n",
       "      <td>1</td>\n",
       "      <td>1300</td>\n",
       "      <td>70053.0</td>\n",
       "      <td>68400.0</td>\n",
       "      <td>HomeImp</td>\n",
       "      <td>Other</td>\n",
       "      <td>7.0</td>\n",
       "      <td>0.0</td>\n",
       "      <td>2.0</td>\n",
       "      <td>121.833333</td>\n",
       "      <td>0.0</td>\n",
       "      <td>14.0</td>\n",
       "      <td>NaN</td>\n",
       "    </tr>\n",
       "    <tr>\n",
       "      <th>2</th>\n",
       "      <td>1</td>\n",
       "      <td>1500</td>\n",
       "      <td>13500.0</td>\n",
       "      <td>16700.0</td>\n",
       "      <td>HomeImp</td>\n",
       "      <td>Other</td>\n",
       "      <td>4.0</td>\n",
       "      <td>0.0</td>\n",
       "      <td>0.0</td>\n",
       "      <td>149.466667</td>\n",
       "      <td>1.0</td>\n",
       "      <td>10.0</td>\n",
       "      <td>NaN</td>\n",
       "    </tr>\n",
       "    <tr>\n",
       "      <th>3</th>\n",
       "      <td>1</td>\n",
       "      <td>1500</td>\n",
       "      <td>NaN</td>\n",
       "      <td>NaN</td>\n",
       "      <td>Unknown</td>\n",
       "      <td>NaN</td>\n",
       "      <td>NaN</td>\n",
       "      <td>NaN</td>\n",
       "      <td>NaN</td>\n",
       "      <td>NaN</td>\n",
       "      <td>NaN</td>\n",
       "      <td>NaN</td>\n",
       "      <td>NaN</td>\n",
       "    </tr>\n",
       "    <tr>\n",
       "      <th>4</th>\n",
       "      <td>0</td>\n",
       "      <td>1700</td>\n",
       "      <td>97800.0</td>\n",
       "      <td>112000.0</td>\n",
       "      <td>HomeImp</td>\n",
       "      <td>Office</td>\n",
       "      <td>3.0</td>\n",
       "      <td>0.0</td>\n",
       "      <td>0.0</td>\n",
       "      <td>93.333333</td>\n",
       "      <td>0.0</td>\n",
       "      <td>14.0</td>\n",
       "      <td>NaN</td>\n",
       "    </tr>\n",
       "  </tbody>\n",
       "</table>\n",
       "</div>"
      ],
      "text/plain": [
       "   BAD  LOAN  MORTDUE     VALUE   REASON     JOB   YOJ  DEROG  DELINQ  \\\n",
       "0    1  1100  25860.0   39025.0  HomeImp   Other  10.5    0.0     0.0   \n",
       "1    1  1300  70053.0   68400.0  HomeImp   Other   7.0    0.0     2.0   \n",
       "2    1  1500  13500.0   16700.0  HomeImp   Other   4.0    0.0     0.0   \n",
       "3    1  1500      NaN       NaN  Unknown     NaN   NaN    NaN     NaN   \n",
       "4    0  1700  97800.0  112000.0  HomeImp  Office   3.0    0.0     0.0   \n",
       "\n",
       "        CLAGE  NINQ  CLNO  DEBTINC  \n",
       "0   94.366667   1.0   9.0      NaN  \n",
       "1  121.833333   0.0  14.0      NaN  \n",
       "2  149.466667   1.0  10.0      NaN  \n",
       "3         NaN   NaN   NaN      NaN  \n",
       "4   93.333333   0.0  14.0      NaN  "
      ]
     },
     "execution_count": 20,
     "metadata": {},
     "output_type": "execute_result"
    }
   ],
   "source": [
    "# Thay thế toàn bộ lại nhãn cho cột biến REASON: \n",
    "credit = credit.assign(REASON = k)\n",
    "#  Xem qua: \n",
    "credit.head()"
   ]
  },
  {
   "cell_type": "code",
   "execution_count": 21,
   "metadata": {},
   "outputs": [
    {
     "data": {
      "text/plain": [
       "Other      2388\n",
       "ProfExe    1276\n",
       "Office      948\n",
       "Mgr         767\n",
       "Self        193\n",
       "Sales       109\n",
       "Name: JOB, dtype: int64"
      ]
     },
     "execution_count": 21,
     "metadata": {},
     "output_type": "execute_result"
    }
   ],
   "source": [
    "# Nhóm nghề ngiệp Other là nhiều nhất: \n",
    "pd.value_counts(credit[\"JOB\"])"
   ]
  },
  {
   "cell_type": "code",
   "execution_count": 22,
   "metadata": {
    "collapsed": true
   },
   "outputs": [],
   "source": [
    "# Có thể mạnh dạn thay thế NA nghề nghiệp bằng nhóm nghề xuất hiện nhiều nhất: \n",
    "credit = credit.assign(JOB = credit[\"JOB\"].fillna(\"Other\"))"
   ]
  },
  {
   "cell_type": "code",
   "execution_count": 23,
   "metadata": {},
   "outputs": [
    {
     "data": {
      "text/plain": [
       "Other      2667\n",
       "ProfExe    1276\n",
       "Office      948\n",
       "Mgr         767\n",
       "Self        193\n",
       "Sales       109\n",
       "Name: JOB, dtype: int64"
      ]
     },
     "execution_count": 23,
     "metadata": {},
     "output_type": "execute_result"
    }
   ],
   "source": [
    "# Rồi kiểm tra lại để thấy rằng 2388 + 279 = 2667: \n",
    "pd.value_counts(credit[\"JOB\"])"
   ]
  },
  {
   "cell_type": "code",
   "execution_count": 24,
   "metadata": {
    "collapsed": true
   },
   "outputs": [],
   "source": [
    "# Tương tự là thay MORTDUE, DEBTINC và VALUE bằng mean của từng cột: \n",
    "credit = credit.assign(MORTDUE = credit[\"MORTDUE\"].fillna(credit[\"MORTDUE\"].mean()),\n",
    "                       VALUE = credit[\"VALUE\"].fillna(credit[\"VALUE\"].mean()), \n",
    "                       DEBTINC = credit[\"DEBTINC\"].fillna(credit[\"DEBTINC\"].mean()))"
   ]
  },
  {
   "cell_type": "code",
   "execution_count": 25,
   "metadata": {},
   "outputs": [
    {
     "data": {
      "text/plain": [
       "BAD          0\n",
       "LOAN         0\n",
       "MORTDUE      0\n",
       "VALUE        0\n",
       "REASON       0\n",
       "JOB          0\n",
       "YOJ        515\n",
       "DEROG      708\n",
       "DELINQ     580\n",
       "CLAGE      308\n",
       "NINQ       510\n",
       "CLNO       222\n",
       "DEBTINC      0\n",
       "dtype: int64"
      ]
     },
     "execution_count": 25,
     "metadata": {},
     "output_type": "execute_result"
    }
   ],
   "source": [
    "# Kiểm tra lại: \n",
    "credit.isnull().sum()"
   ]
  },
  {
   "cell_type": "code",
   "execution_count": 26,
   "metadata": {
    "collapsed": true
   },
   "outputs": [],
   "source": [
    "# Đến đây chúng ta tạm chấp nhận phương án rằng chỉ giữ lại các quan sát nào không có điểm dữ liệu trống và gọi là df: \n",
    "df = credit.dropna(how = \"any\", axis = 0)"
   ]
  },
  {
   "cell_type": "code",
   "execution_count": 27,
   "metadata": {},
   "outputs": [
    {
     "data": {
      "text/plain": [
       "BAD        0\n",
       "LOAN       0\n",
       "MORTDUE    0\n",
       "VALUE      0\n",
       "REASON     0\n",
       "JOB        0\n",
       "YOJ        0\n",
       "DEROG      0\n",
       "DELINQ     0\n",
       "CLAGE      0\n",
       "NINQ       0\n",
       "CLNO       0\n",
       "DEBTINC    0\n",
       "dtype: int64"
      ]
     },
     "execution_count": 27,
     "metadata": {},
     "output_type": "execute_result"
    }
   ],
   "source": [
    "# Lúc này không còn dữ liệu trống nữa: \n",
    "df.isnull().sum()"
   ]
  },
  {
   "cell_type": "code",
   "execution_count": 28,
   "metadata": {},
   "outputs": [
    {
     "data": {
      "text/plain": [
       "(4748, 13)"
      ]
     },
     "execution_count": 28,
     "metadata": {},
     "output_type": "execute_result"
    }
   ],
   "source": [
    "# Và có thể thấy kích thước dữ liệu đã nhỏ lại: \n",
    "df.shape"
   ]
  },
  {
   "cell_type": "code",
   "execution_count": 29,
   "metadata": {},
   "outputs": [
    {
     "data": {
      "text/plain": [
       "(5960, 13)"
      ]
     },
     "execution_count": 29,
     "metadata": {},
     "output_type": "execute_result"
    }
   ],
   "source": [
    "# So với ban đầu: \n",
    "credit.shape"
   ]
  },
  {
   "cell_type": "code",
   "execution_count": 30,
   "metadata": {},
   "outputs": [
    {
     "data": {
      "text/plain": [
       "21.10362257792755"
      ]
     },
     "execution_count": 30,
     "metadata": {},
     "output_type": "execute_result"
    }
   ],
   "source": [
    "# Có lẽ tỉ lệ các loại hồ sơ thay đổi không nhiều: \n",
    "100*sum(df[\"BAD\"] == 1) / len(df.index)"
   ]
  },
  {
   "cell_type": "code",
   "execution_count": 31,
   "metadata": {},
   "outputs": [
    {
     "data": {
      "text/plain": [
       "19.949664429530202"
      ]
     },
     "execution_count": 31,
     "metadata": {},
     "output_type": "execute_result"
    }
   ],
   "source": [
    "# Nguyên gốc: \n",
    "100*sum(credit[\"BAD\"] == 1) / len(credit.index)"
   ]
  },
  {
   "cell_type": "code",
   "execution_count": 32,
   "metadata": {},
   "outputs": [
    {
     "data": {
      "text/html": [
       "<div>\n",
       "<style scoped>\n",
       "    .dataframe tbody tr th:only-of-type {\n",
       "        vertical-align: middle;\n",
       "    }\n",
       "\n",
       "    .dataframe tbody tr th {\n",
       "        vertical-align: top;\n",
       "    }\n",
       "\n",
       "    .dataframe thead th {\n",
       "        text-align: right;\n",
       "    }\n",
       "</style>\n",
       "<table border=\"1\" class=\"dataframe\">\n",
       "  <thead>\n",
       "    <tr style=\"text-align: right;\">\n",
       "      <th></th>\n",
       "      <th>BAD</th>\n",
       "      <th>LOAN</th>\n",
       "      <th>MORTDUE</th>\n",
       "      <th>VALUE</th>\n",
       "      <th>REASON</th>\n",
       "      <th>JOB</th>\n",
       "      <th>YOJ</th>\n",
       "      <th>DEROG</th>\n",
       "      <th>DELINQ</th>\n",
       "      <th>CLAGE</th>\n",
       "      <th>NINQ</th>\n",
       "      <th>CLNO</th>\n",
       "      <th>DEBTINC</th>\n",
       "    </tr>\n",
       "  </thead>\n",
       "  <tbody>\n",
       "    <tr>\n",
       "      <th>0</th>\n",
       "      <td>B</td>\n",
       "      <td>1100</td>\n",
       "      <td>25860.0</td>\n",
       "      <td>39025.0</td>\n",
       "      <td>HomeImp</td>\n",
       "      <td>Other</td>\n",
       "      <td>10.5</td>\n",
       "      <td>0.0</td>\n",
       "      <td>0.0</td>\n",
       "      <td>94.366667</td>\n",
       "      <td>1.0</td>\n",
       "      <td>9.0</td>\n",
       "      <td>33.779915</td>\n",
       "    </tr>\n",
       "    <tr>\n",
       "      <th>1</th>\n",
       "      <td>B</td>\n",
       "      <td>1300</td>\n",
       "      <td>70053.0</td>\n",
       "      <td>68400.0</td>\n",
       "      <td>HomeImp</td>\n",
       "      <td>Other</td>\n",
       "      <td>7.0</td>\n",
       "      <td>0.0</td>\n",
       "      <td>2.0</td>\n",
       "      <td>121.833333</td>\n",
       "      <td>0.0</td>\n",
       "      <td>14.0</td>\n",
       "      <td>33.779915</td>\n",
       "    </tr>\n",
       "    <tr>\n",
       "      <th>2</th>\n",
       "      <td>B</td>\n",
       "      <td>1500</td>\n",
       "      <td>13500.0</td>\n",
       "      <td>16700.0</td>\n",
       "      <td>HomeImp</td>\n",
       "      <td>Other</td>\n",
       "      <td>4.0</td>\n",
       "      <td>0.0</td>\n",
       "      <td>0.0</td>\n",
       "      <td>149.466667</td>\n",
       "      <td>1.0</td>\n",
       "      <td>10.0</td>\n",
       "      <td>33.779915</td>\n",
       "    </tr>\n",
       "    <tr>\n",
       "      <th>4</th>\n",
       "      <td>G</td>\n",
       "      <td>1700</td>\n",
       "      <td>97800.0</td>\n",
       "      <td>112000.0</td>\n",
       "      <td>HomeImp</td>\n",
       "      <td>Office</td>\n",
       "      <td>3.0</td>\n",
       "      <td>0.0</td>\n",
       "      <td>0.0</td>\n",
       "      <td>93.333333</td>\n",
       "      <td>0.0</td>\n",
       "      <td>14.0</td>\n",
       "      <td>33.779915</td>\n",
       "    </tr>\n",
       "    <tr>\n",
       "      <th>5</th>\n",
       "      <td>B</td>\n",
       "      <td>1700</td>\n",
       "      <td>30548.0</td>\n",
       "      <td>40320.0</td>\n",
       "      <td>HomeImp</td>\n",
       "      <td>Other</td>\n",
       "      <td>9.0</td>\n",
       "      <td>0.0</td>\n",
       "      <td>0.0</td>\n",
       "      <td>101.466002</td>\n",
       "      <td>1.0</td>\n",
       "      <td>8.0</td>\n",
       "      <td>37.113614</td>\n",
       "    </tr>\n",
       "  </tbody>\n",
       "</table>\n",
       "</div>"
      ],
      "text/plain": [
       "  BAD  LOAN  MORTDUE     VALUE   REASON     JOB   YOJ  DEROG  DELINQ  \\\n",
       "0   B  1100  25860.0   39025.0  HomeImp   Other  10.5    0.0     0.0   \n",
       "1   B  1300  70053.0   68400.0  HomeImp   Other   7.0    0.0     2.0   \n",
       "2   B  1500  13500.0   16700.0  HomeImp   Other   4.0    0.0     0.0   \n",
       "4   G  1700  97800.0  112000.0  HomeImp  Office   3.0    0.0     0.0   \n",
       "5   B  1700  30548.0   40320.0  HomeImp   Other   9.0    0.0     0.0   \n",
       "\n",
       "        CLAGE  NINQ  CLNO    DEBTINC  \n",
       "0   94.366667   1.0   9.0  33.779915  \n",
       "1  121.833333   0.0  14.0  33.779915  \n",
       "2  149.466667   1.0  10.0  33.779915  \n",
       "4   93.333333   0.0  14.0  33.779915  \n",
       "5  101.466002   1.0   8.0  37.113614  "
      ]
     },
     "execution_count": 32,
     "metadata": {},
     "output_type": "execute_result"
    }
   ],
   "source": [
    "# Chúng ta cũng có thể quan tâm đến việc dán lại nhãn cho BAD: \n",
    "df2 = df.assign(BAD = df[\"BAD\"].map(lambda x: \"B\" if x == 1 else \"G\"))\n",
    "df2.head()"
   ]
  },
  {
   "cell_type": "code",
   "execution_count": 33,
   "metadata": {},
   "outputs": [
    {
     "data": {
      "text/html": [
       "<div>\n",
       "<style scoped>\n",
       "    .dataframe tbody tr th:only-of-type {\n",
       "        vertical-align: middle;\n",
       "    }\n",
       "\n",
       "    .dataframe tbody tr th {\n",
       "        vertical-align: top;\n",
       "    }\n",
       "\n",
       "    .dataframe thead th {\n",
       "        text-align: right;\n",
       "    }\n",
       "</style>\n",
       "<table border=\"1\" class=\"dataframe\">\n",
       "  <thead>\n",
       "    <tr style=\"text-align: right;\">\n",
       "      <th></th>\n",
       "      <th>BAD</th>\n",
       "      <th>LOAN</th>\n",
       "      <th>MORTDUE</th>\n",
       "      <th>VALUE</th>\n",
       "      <th>REASON</th>\n",
       "      <th>JOB</th>\n",
       "      <th>YOJ</th>\n",
       "      <th>DEROG</th>\n",
       "      <th>DELINQ</th>\n",
       "      <th>CLAGE</th>\n",
       "      <th>NINQ</th>\n",
       "      <th>CLNO</th>\n",
       "      <th>DEBTINC</th>\n",
       "    </tr>\n",
       "  </thead>\n",
       "  <tbody>\n",
       "    <tr>\n",
       "      <th>0</th>\n",
       "      <td>1</td>\n",
       "      <td>1100</td>\n",
       "      <td>25860.0</td>\n",
       "      <td>39025.0</td>\n",
       "      <td>HomeImp</td>\n",
       "      <td>Other</td>\n",
       "      <td>10.5</td>\n",
       "      <td>0.0</td>\n",
       "      <td>0.0</td>\n",
       "      <td>94.366667</td>\n",
       "      <td>1.0</td>\n",
       "      <td>9.0</td>\n",
       "      <td>33.779915</td>\n",
       "    </tr>\n",
       "    <tr>\n",
       "      <th>1</th>\n",
       "      <td>1</td>\n",
       "      <td>1300</td>\n",
       "      <td>70053.0</td>\n",
       "      <td>68400.0</td>\n",
       "      <td>HomeImp</td>\n",
       "      <td>Other</td>\n",
       "      <td>7.0</td>\n",
       "      <td>0.0</td>\n",
       "      <td>2.0</td>\n",
       "      <td>121.833333</td>\n",
       "      <td>0.0</td>\n",
       "      <td>14.0</td>\n",
       "      <td>33.779915</td>\n",
       "    </tr>\n",
       "    <tr>\n",
       "      <th>2</th>\n",
       "      <td>1</td>\n",
       "      <td>1500</td>\n",
       "      <td>13500.0</td>\n",
       "      <td>16700.0</td>\n",
       "      <td>HomeImp</td>\n",
       "      <td>Other</td>\n",
       "      <td>4.0</td>\n",
       "      <td>0.0</td>\n",
       "      <td>0.0</td>\n",
       "      <td>149.466667</td>\n",
       "      <td>1.0</td>\n",
       "      <td>10.0</td>\n",
       "      <td>33.779915</td>\n",
       "    </tr>\n",
       "    <tr>\n",
       "      <th>4</th>\n",
       "      <td>0</td>\n",
       "      <td>1700</td>\n",
       "      <td>97800.0</td>\n",
       "      <td>112000.0</td>\n",
       "      <td>HomeImp</td>\n",
       "      <td>Office</td>\n",
       "      <td>3.0</td>\n",
       "      <td>0.0</td>\n",
       "      <td>0.0</td>\n",
       "      <td>93.333333</td>\n",
       "      <td>0.0</td>\n",
       "      <td>14.0</td>\n",
       "      <td>33.779915</td>\n",
       "    </tr>\n",
       "    <tr>\n",
       "      <th>5</th>\n",
       "      <td>1</td>\n",
       "      <td>1700</td>\n",
       "      <td>30548.0</td>\n",
       "      <td>40320.0</td>\n",
       "      <td>HomeImp</td>\n",
       "      <td>Other</td>\n",
       "      <td>9.0</td>\n",
       "      <td>0.0</td>\n",
       "      <td>0.0</td>\n",
       "      <td>101.466002</td>\n",
       "      <td>1.0</td>\n",
       "      <td>8.0</td>\n",
       "      <td>37.113614</td>\n",
       "    </tr>\n",
       "  </tbody>\n",
       "</table>\n",
       "</div>"
      ],
      "text/plain": [
       "   BAD  LOAN  MORTDUE     VALUE   REASON     JOB   YOJ  DEROG  DELINQ  \\\n",
       "0    1  1100  25860.0   39025.0  HomeImp   Other  10.5    0.0     0.0   \n",
       "1    1  1300  70053.0   68400.0  HomeImp   Other   7.0    0.0     2.0   \n",
       "2    1  1500  13500.0   16700.0  HomeImp   Other   4.0    0.0     0.0   \n",
       "4    0  1700  97800.0  112000.0  HomeImp  Office   3.0    0.0     0.0   \n",
       "5    1  1700  30548.0   40320.0  HomeImp   Other   9.0    0.0     0.0   \n",
       "\n",
       "        CLAGE  NINQ  CLNO    DEBTINC  \n",
       "0   94.366667   1.0   9.0  33.779915  \n",
       "1  121.833333   0.0  14.0  33.779915  \n",
       "2  149.466667   1.0  10.0  33.779915  \n",
       "4   93.333333   0.0  14.0  33.779915  \n",
       "5  101.466002   1.0   8.0  37.113614  "
      ]
     },
     "execution_count": 33,
     "metadata": {},
     "output_type": "execute_result"
    }
   ],
   "source": [
    "# So với nguyên gốc: \n",
    "df.head()"
   ]
  },
  {
   "cell_type": "markdown",
   "metadata": {},
   "source": [
    "### Deep Learning"
   ]
  },
  {
   "cell_type": "code",
   "execution_count": 35,
   "metadata": {},
   "outputs": [
    {
     "name": "stdout",
     "output_type": "stream",
     "text": [
      "Checking whether there is an H2O instance running at http://localhost:54321. connected.\n"
     ]
    },
    {
     "data": {
      "text/html": [
       "<div style=\"overflow:auto\"><table style=\"width:50%\"><tr><td>H2O cluster uptime:</td>\n",
       "<td>2 mins 31 secs</td></tr>\n",
       "<tr><td>H2O cluster version:</td>\n",
       "<td>3.16.0.2</td></tr>\n",
       "<tr><td>H2O cluster version age:</td>\n",
       "<td>13 days </td></tr>\n",
       "<tr><td>H2O cluster name:</td>\n",
       "<td>H2O_from_python_win10ls_dldeaa</td></tr>\n",
       "<tr><td>H2O cluster total nodes:</td>\n",
       "<td>1</td></tr>\n",
       "<tr><td>H2O cluster free memory:</td>\n",
       "<td>5.323 Gb</td></tr>\n",
       "<tr><td>H2O cluster total cores:</td>\n",
       "<td>4</td></tr>\n",
       "<tr><td>H2O cluster allowed cores:</td>\n",
       "<td>2</td></tr>\n",
       "<tr><td>H2O cluster status:</td>\n",
       "<td>accepting new members, healthy</td></tr>\n",
       "<tr><td>H2O connection url:</td>\n",
       "<td>http://localhost:54321</td></tr>\n",
       "<tr><td>H2O connection proxy:</td>\n",
       "<td>None</td></tr>\n",
       "<tr><td>H2O internal security:</td>\n",
       "<td>False</td></tr>\n",
       "<tr><td>H2O API Extensions:</td>\n",
       "<td>Algos, AutoML, Core V3, Core V4</td></tr>\n",
       "<tr><td>Python version:</td>\n",
       "<td>3.6.3 final</td></tr></table></div>"
      ],
      "text/plain": [
       "--------------------------  -------------------------------\n",
       "H2O cluster uptime:         2 mins 31 secs\n",
       "H2O cluster version:        3.16.0.2\n",
       "H2O cluster version age:    13 days\n",
       "H2O cluster name:           H2O_from_python_win10ls_dldeaa\n",
       "H2O cluster total nodes:    1\n",
       "H2O cluster free memory:    5.323 Gb\n",
       "H2O cluster total cores:    4\n",
       "H2O cluster allowed cores:  2\n",
       "H2O cluster status:         accepting new members, healthy\n",
       "H2O connection url:         http://localhost:54321\n",
       "H2O connection proxy:\n",
       "H2O internal security:      False\n",
       "H2O API Extensions:         Algos, AutoML, Core V3, Core V4\n",
       "Python version:             3.6.3 final\n",
       "--------------------------  -------------------------------"
      ]
     },
     "metadata": {},
     "output_type": "display_data"
    }
   ],
   "source": [
    "# Load gói h2o: \n",
    "import h2o\n",
    "\n",
    "# Chỉ định 2 nhân của bộ vi xử lí, sử dụng 6 Gi RAM: \n",
    "h2o.init(nthreads = 2, max_mem_size = 6)"
   ]
  },
  {
   "cell_type": "code",
   "execution_count": 36,
   "metadata": {},
   "outputs": [
    {
     "name": "stdout",
     "output_type": "stream",
     "text": [
      "Parse progress: |█████████████████████████████████████████████████████████| 100%\n"
     ]
    }
   ],
   "source": [
    "# Chuyển hóa về object của h2o: \n",
    "data = h2o.H2OFrame(df2)"
   ]
  },
  {
   "cell_type": "code",
   "execution_count": 158,
   "metadata": {},
   "outputs": [
    {
     "data": {
      "text/plain": [
       "['BAD',\n",
       " 'LOAN',\n",
       " 'MORTDUE',\n",
       " 'VALUE',\n",
       " 'REASON',\n",
       " 'JOB',\n",
       " 'YOJ',\n",
       " 'DEROG',\n",
       " 'DELINQ',\n",
       " 'CLAGE',\n",
       " 'NINQ',\n",
       " 'CLNO',\n",
       " 'DEBTINC']"
      ]
     },
     "execution_count": 158,
     "metadata": {},
     "output_type": "execute_result"
    }
   ],
   "source": [
    "# Tên các cột biến: \n",
    "data.names"
   ]
  },
  {
   "cell_type": "code",
   "execution_count": 39,
   "metadata": {
    "collapsed": true
   },
   "outputs": [],
   "source": [
    "# Chuẩn bị dữ liệu / phân  chia dữ liệu: \n",
    "y = \"BAD\"\n",
    "x = data.names\n",
    "x.remove(\"BAD\")\n",
    "train, test = data.split_frame([0.5], seed = 29)"
   ]
  },
  {
   "cell_type": "code",
   "execution_count": 40,
   "metadata": {},
   "outputs": [
    {
     "name": "stdout",
     "output_type": "stream",
     "text": [
      "deeplearning Model Build progress: |██████████████████████████████████████| 100%\n",
      "Model Details\n",
      "=============\n",
      "H2ODeepLearningEstimator :  Deep Learning\n",
      "Model Key:  DeepLearning_model_python_1513220642886_1\n",
      "\n",
      "\n",
      "ModelMetricsBinomial: deeplearning\n",
      "** Reported on train data. **\n",
      "\n",
      "MSE: 0.07874077762744788\n",
      "RMSE: 0.28060787164199064\n",
      "LogLoss: 0.27465636773538743\n",
      "Mean Per-Class Error: 0.16050285490487082\n",
      "AUC: 0.9171201533609548\n",
      "Gini: 0.8342403067219095\n",
      "Confusion Matrix (Act/Pred) for max f1 @ threshold = 0.4812326599828386: \n"
     ]
    },
    {
     "data": {
      "text/html": [
       "<div style=\"overflow:auto\"><table style=\"width:50%\"><tr><td><b></b></td>\n",
       "<td><b>B</b></td>\n",
       "<td><b>G</b></td>\n",
       "<td><b>Error</b></td>\n",
       "<td><b>Rate</b></td></tr>\n",
       "<tr><td>B</td>\n",
       "<td>306.0</td>\n",
       "<td>209.0</td>\n",
       "<td>0.4058</td>\n",
       "<td> (209.0/515.0)</td></tr>\n",
       "<tr><td>G</td>\n",
       "<td>27.0</td>\n",
       "<td>1857.0</td>\n",
       "<td>0.0143</td>\n",
       "<td> (27.0/1884.0)</td></tr>\n",
       "<tr><td>Total</td>\n",
       "<td>333.0</td>\n",
       "<td>2066.0</td>\n",
       "<td>0.0984</td>\n",
       "<td> (236.0/2399.0)</td></tr></table></div>"
      ],
      "text/plain": [
       "       B    G     Error    Rate\n",
       "-----  ---  ----  -------  --------------\n",
       "B      306  209   0.4058   (209.0/515.0)\n",
       "G      27   1857  0.0143   (27.0/1884.0)\n",
       "Total  333  2066  0.0984   (236.0/2399.0)"
      ]
     },
     "metadata": {},
     "output_type": "display_data"
    },
    {
     "name": "stdout",
     "output_type": "stream",
     "text": [
      "Maximum Metrics: Maximum metrics at their respective thresholds\n",
      "\n"
     ]
    },
    {
     "data": {
      "text/html": [
       "<div style=\"overflow:auto\"><table style=\"width:50%\"><tr><td><b>metric</b></td>\n",
       "<td><b>threshold</b></td>\n",
       "<td><b>value</b></td>\n",
       "<td><b>idx</b></td></tr>\n",
       "<tr><td>max f1</td>\n",
       "<td>0.4812327</td>\n",
       "<td>0.9402532</td>\n",
       "<td>264.0</td></tr>\n",
       "<tr><td>max f2</td>\n",
       "<td>0.2725976</td>\n",
       "<td>0.9686919</td>\n",
       "<td>313.0</td></tr>\n",
       "<tr><td>max f0point5</td>\n",
       "<td>0.7910943</td>\n",
       "<td>0.9303947</td>\n",
       "<td>168.0</td></tr>\n",
       "<tr><td>max accuracy</td>\n",
       "<td>0.5998503</td>\n",
       "<td>0.9020425</td>\n",
       "<td>234.0</td></tr>\n",
       "<tr><td>max precision</td>\n",
       "<td>0.9997279</td>\n",
       "<td>1.0</td>\n",
       "<td>0.0</td></tr>\n",
       "<tr><td>max recall</td>\n",
       "<td>0.0787629</td>\n",
       "<td>1.0</td>\n",
       "<td>365.0</td></tr>\n",
       "<tr><td>max specificity</td>\n",
       "<td>0.9997279</td>\n",
       "<td>1.0</td>\n",
       "<td>0.0</td></tr>\n",
       "<tr><td>max absolute_mcc</td>\n",
       "<td>0.5998503</td>\n",
       "<td>0.6905397</td>\n",
       "<td>234.0</td></tr>\n",
       "<tr><td>max min_per_class_accuracy</td>\n",
       "<td>0.8890620</td>\n",
       "<td>0.8310680</td>\n",
       "<td>114.0</td></tr>\n",
       "<tr><td>max mean_per_class_accuracy</td>\n",
       "<td>0.8449718</td>\n",
       "<td>0.8394971</td>\n",
       "<td>143.0</td></tr></table></div>"
      ],
      "text/plain": [
       "metric                       threshold    value     idx\n",
       "---------------------------  -----------  --------  -----\n",
       "max f1                       0.481233     0.940253  264\n",
       "max f2                       0.272598     0.968692  313\n",
       "max f0point5                 0.791094     0.930395  168\n",
       "max accuracy                 0.59985      0.902043  234\n",
       "max precision                0.999728     1         0\n",
       "max recall                   0.0787629    1         365\n",
       "max specificity              0.999728     1         0\n",
       "max absolute_mcc             0.59985      0.69054   234\n",
       "max min_per_class_accuracy   0.889062     0.831068  114\n",
       "max mean_per_class_accuracy  0.844972     0.839497  143"
      ]
     },
     "metadata": {},
     "output_type": "display_data"
    },
    {
     "name": "stdout",
     "output_type": "stream",
     "text": [
      "Gains/Lift Table: Avg response rate: 78.53 %\n",
      "\n"
     ]
    },
    {
     "data": {
      "text/html": [
       "<div style=\"overflow:auto\"><table style=\"width:50%\"><tr><td><b></b></td>\n",
       "<td><b>group</b></td>\n",
       "<td><b>cumulative_data_fraction</b></td>\n",
       "<td><b>lower_threshold</b></td>\n",
       "<td><b>lift</b></td>\n",
       "<td><b>cumulative_lift</b></td>\n",
       "<td><b>response_rate</b></td>\n",
       "<td><b>cumulative_response_rate</b></td>\n",
       "<td><b>capture_rate</b></td>\n",
       "<td><b>cumulative_capture_rate</b></td>\n",
       "<td><b>gain</b></td>\n",
       "<td><b>cumulative_gain</b></td></tr>\n",
       "<tr><td></td>\n",
       "<td>1</td>\n",
       "<td>0.0100042</td>\n",
       "<td>0.9996941</td>\n",
       "<td>1.2733546</td>\n",
       "<td>1.2733546</td>\n",
       "<td>1.0</td>\n",
       "<td>1.0</td>\n",
       "<td>0.0127389</td>\n",
       "<td>0.0127389</td>\n",
       "<td>27.3354565</td>\n",
       "<td>27.3354565</td></tr>\n",
       "<tr><td></td>\n",
       "<td>2</td>\n",
       "<td>0.0200083</td>\n",
       "<td>0.9995388</td>\n",
       "<td>1.2733546</td>\n",
       "<td>1.2733546</td>\n",
       "<td>1.0</td>\n",
       "<td>1.0</td>\n",
       "<td>0.0127389</td>\n",
       "<td>0.0254777</td>\n",
       "<td>27.3354565</td>\n",
       "<td>27.3354565</td></tr>\n",
       "<tr><td></td>\n",
       "<td>3</td>\n",
       "<td>0.0300125</td>\n",
       "<td>0.9993907</td>\n",
       "<td>1.2733546</td>\n",
       "<td>1.2733546</td>\n",
       "<td>1.0</td>\n",
       "<td>1.0</td>\n",
       "<td>0.0127389</td>\n",
       "<td>0.0382166</td>\n",
       "<td>27.3354565</td>\n",
       "<td>27.3354565</td></tr>\n",
       "<tr><td></td>\n",
       "<td>4</td>\n",
       "<td>0.0400167</td>\n",
       "<td>0.9992871</td>\n",
       "<td>1.2733546</td>\n",
       "<td>1.2733546</td>\n",
       "<td>1.0</td>\n",
       "<td>1.0</td>\n",
       "<td>0.0127389</td>\n",
       "<td>0.0509554</td>\n",
       "<td>27.3354565</td>\n",
       "<td>27.3354565</td></tr>\n",
       "<tr><td></td>\n",
       "<td>5</td>\n",
       "<td>0.0500208</td>\n",
       "<td>0.9991904</td>\n",
       "<td>1.2733546</td>\n",
       "<td>1.2733546</td>\n",
       "<td>1.0</td>\n",
       "<td>1.0</td>\n",
       "<td>0.0127389</td>\n",
       "<td>0.0636943</td>\n",
       "<td>27.3354565</td>\n",
       "<td>27.3354565</td></tr>\n",
       "<tr><td></td>\n",
       "<td>6</td>\n",
       "<td>0.1000417</td>\n",
       "<td>0.9982047</td>\n",
       "<td>1.2733546</td>\n",
       "<td>1.2733546</td>\n",
       "<td>1.0</td>\n",
       "<td>1.0</td>\n",
       "<td>0.0636943</td>\n",
       "<td>0.1273885</td>\n",
       "<td>27.3354565</td>\n",
       "<td>27.3354565</td></tr>\n",
       "<tr><td></td>\n",
       "<td>7</td>\n",
       "<td>0.1500625</td>\n",
       "<td>0.9966359</td>\n",
       "<td>1.2733546</td>\n",
       "<td>1.2733546</td>\n",
       "<td>1.0</td>\n",
       "<td>1.0</td>\n",
       "<td>0.0636943</td>\n",
       "<td>0.1910828</td>\n",
       "<td>27.3354565</td>\n",
       "<td>27.3354565</td></tr>\n",
       "<tr><td></td>\n",
       "<td>8</td>\n",
       "<td>0.2000834</td>\n",
       "<td>0.9948033</td>\n",
       "<td>1.1884643</td>\n",
       "<td>1.2521320</td>\n",
       "<td>0.9333333</td>\n",
       "<td>0.9833333</td>\n",
       "<td>0.0594480</td>\n",
       "<td>0.2505308</td>\n",
       "<td>18.8464260</td>\n",
       "<td>25.2131989</td></tr>\n",
       "<tr><td></td>\n",
       "<td>9</td>\n",
       "<td>0.3001251</td>\n",
       "<td>0.9898853</td>\n",
       "<td>1.2468263</td>\n",
       "<td>1.2503634</td>\n",
       "<td>0.9791667</td>\n",
       "<td>0.9819444</td>\n",
       "<td>0.1247346</td>\n",
       "<td>0.3752654</td>\n",
       "<td>24.6826345</td>\n",
       "<td>25.0363441</td></tr>\n",
       "<tr><td></td>\n",
       "<td>10</td>\n",
       "<td>0.4001667</td>\n",
       "<td>0.9813111</td>\n",
       "<td>1.2362151</td>\n",
       "<td>1.2468263</td>\n",
       "<td>0.9708333</td>\n",
       "<td>0.9791667</td>\n",
       "<td>0.1236730</td>\n",
       "<td>0.4989384</td>\n",
       "<td>23.6215057</td>\n",
       "<td>24.6826345</td></tr>\n",
       "<tr><td></td>\n",
       "<td>11</td>\n",
       "<td>0.5002084</td>\n",
       "<td>0.9675149</td>\n",
       "<td>1.1937699</td>\n",
       "<td>1.2362151</td>\n",
       "<td>0.9375</td>\n",
       "<td>0.9708333</td>\n",
       "<td>0.1194268</td>\n",
       "<td>0.6183652</td>\n",
       "<td>19.3769904</td>\n",
       "<td>23.6215057</td></tr>\n",
       "<tr><td></td>\n",
       "<td>12</td>\n",
       "<td>0.5998333</td>\n",
       "<td>0.9418696</td>\n",
       "<td>1.1401585</td>\n",
       "<td>1.2202613</td>\n",
       "<td>0.8953975</td>\n",
       "<td>0.9583044</td>\n",
       "<td>0.1135881</td>\n",
       "<td>0.7319533</td>\n",
       "<td>14.0158481</td>\n",
       "<td>22.0261254</td></tr>\n",
       "<tr><td></td>\n",
       "<td>13</td>\n",
       "<td>0.6998749</td>\n",
       "<td>0.8830510</td>\n",
       "<td>1.1141852</td>\n",
       "<td>1.2050985</td>\n",
       "<td>0.875</td>\n",
       "<td>0.9463967</td>\n",
       "<td>0.1114650</td>\n",
       "<td>0.8434183</td>\n",
       "<td>11.4185244</td>\n",
       "<td>20.5098513</td></tr>\n",
       "<tr><td></td>\n",
       "<td>14</td>\n",
       "<td>0.7999166</td>\n",
       "<td>0.7446214</td>\n",
       "<td>0.9762385</td>\n",
       "<td>1.1764761</td>\n",
       "<td>0.7666667</td>\n",
       "<td>0.9239187</td>\n",
       "<td>0.0976645</td>\n",
       "<td>0.9410828</td>\n",
       "<td>-2.3761500</td>\n",
       "<td>17.6476104</td></tr>\n",
       "<tr><td></td>\n",
       "<td>15</td>\n",
       "<td>0.8999583</td>\n",
       "<td>0.2174981</td>\n",
       "<td>0.5411757</td>\n",
       "<td>1.1058545</td>\n",
       "<td>0.425</td>\n",
       "<td>0.8684576</td>\n",
       "<td>0.0541401</td>\n",
       "<td>0.9952229</td>\n",
       "<td>-45.8824310</td>\n",
       "<td>10.5854474</td></tr>\n",
       "<tr><td></td>\n",
       "<td>16</td>\n",
       "<td>1.0</td>\n",
       "<td>0.0000000</td>\n",
       "<td>0.0477508</td>\n",
       "<td>1.0</td>\n",
       "<td>0.0375</td>\n",
       "<td>0.7853272</td>\n",
       "<td>0.0047771</td>\n",
       "<td>1.0</td>\n",
       "<td>-95.2249204</td>\n",
       "<td>0.0</td></tr></table></div>"
      ],
      "text/plain": [
       "    group    cumulative_data_fraction    lower_threshold    lift       cumulative_lift    response_rate    cumulative_response_rate    capture_rate    cumulative_capture_rate    gain      cumulative_gain\n",
       "--  -------  --------------------------  -----------------  ---------  -----------------  ---------------  --------------------------  --------------  -------------------------  --------  -----------------\n",
       "    1        0.0100042                   0.999694           1.27335    1.27335            1                1                           0.0127389       0.0127389                  27.3355   27.3355\n",
       "    2        0.0200083                   0.999539           1.27335    1.27335            1                1                           0.0127389       0.0254777                  27.3355   27.3355\n",
       "    3        0.0300125                   0.999391           1.27335    1.27335            1                1                           0.0127389       0.0382166                  27.3355   27.3355\n",
       "    4        0.0400167                   0.999287           1.27335    1.27335            1                1                           0.0127389       0.0509554                  27.3355   27.3355\n",
       "    5        0.0500208                   0.99919            1.27335    1.27335            1                1                           0.0127389       0.0636943                  27.3355   27.3355\n",
       "    6        0.100042                    0.998205           1.27335    1.27335            1                1                           0.0636943       0.127389                   27.3355   27.3355\n",
       "    7        0.150063                    0.996636           1.27335    1.27335            1                1                           0.0636943       0.191083                   27.3355   27.3355\n",
       "    8        0.200083                    0.994803           1.18846    1.25213            0.933333         0.983333                    0.059448        0.250531                   18.8464   25.2132\n",
       "    9        0.300125                    0.989885           1.24683    1.25036            0.979167         0.981944                    0.124735        0.375265                   24.6826   25.0363\n",
       "    10       0.400167                    0.981311           1.23622    1.24683            0.970833         0.979167                    0.123673        0.498938                   23.6215   24.6826\n",
       "    11       0.500208                    0.967515           1.19377    1.23622            0.9375           0.970833                    0.119427        0.618365                   19.377    23.6215\n",
       "    12       0.599833                    0.94187            1.14016    1.22026            0.895397         0.958304                    0.113588        0.731953                   14.0158   22.0261\n",
       "    13       0.699875                    0.883051           1.11419    1.2051             0.875            0.946397                    0.111465        0.843418                   11.4185   20.5099\n",
       "    14       0.799917                    0.744621           0.976238   1.17648            0.766667         0.923919                    0.0976645       0.941083                   -2.37615  17.6476\n",
       "    15       0.899958                    0.217498           0.541176   1.10585            0.425            0.868458                    0.0541401       0.995223                   -45.8824  10.5854\n",
       "    16       1                           2.62259e-08        0.0477508  1                  0.0375           0.785327                    0.00477707      1                          -95.2249  0"
      ]
     },
     "metadata": {},
     "output_type": "display_data"
    },
    {
     "name": "stdout",
     "output_type": "stream",
     "text": [
      "\n",
      "Scoring History: \n"
     ]
    },
    {
     "data": {
      "text/html": [
       "<div style=\"overflow:auto\"><table style=\"width:50%\"><tr><td><b></b></td>\n",
       "<td><b>timestamp</b></td>\n",
       "<td><b>duration</b></td>\n",
       "<td><b>training_speed</b></td>\n",
       "<td><b>epochs</b></td>\n",
       "<td><b>iterations</b></td>\n",
       "<td><b>samples</b></td>\n",
       "<td><b>training_rmse</b></td>\n",
       "<td><b>training_logloss</b></td>\n",
       "<td><b>training_auc</b></td>\n",
       "<td><b>training_lift</b></td>\n",
       "<td><b>training_classification_error</b></td></tr>\n",
       "<tr><td></td>\n",
       "<td>2017-12-14 10:08:37</td>\n",
       "<td> 0.000 sec</td>\n",
       "<td>None</td>\n",
       "<td>0.0</td>\n",
       "<td>0</td>\n",
       "<td>0.0</td>\n",
       "<td>nan</td>\n",
       "<td>nan</td>\n",
       "<td>nan</td>\n",
       "<td>nan</td>\n",
       "<td>nan</td></tr>\n",
       "<tr><td></td>\n",
       "<td>2017-12-14 10:08:40</td>\n",
       "<td> 3.954 sec</td>\n",
       "<td>796 obs/sec</td>\n",
       "<td>1.0</td>\n",
       "<td>1</td>\n",
       "<td>2399.0</td>\n",
       "<td>0.3718182</td>\n",
       "<td>0.5119071</td>\n",
       "<td>0.7985339</td>\n",
       "<td>1.2202981</td>\n",
       "<td>0.1550646</td></tr>\n",
       "<tr><td></td>\n",
       "<td>2017-12-14 10:08:44</td>\n",
       "<td> 6.738 sec</td>\n",
       "<td>857 obs/sec</td>\n",
       "<td>2.0</td>\n",
       "<td>2</td>\n",
       "<td>4798.0</td>\n",
       "<td>0.3813168</td>\n",
       "<td>0.7115587</td>\n",
       "<td>0.8553347</td>\n",
       "<td>1.2202981</td>\n",
       "<td>0.1521467</td></tr>\n",
       "<tr><td></td>\n",
       "<td>2017-12-14 10:08:46</td>\n",
       "<td> 9.332 sec</td>\n",
       "<td>906 obs/sec</td>\n",
       "<td>3.0</td>\n",
       "<td>3</td>\n",
       "<td>7197.0</td>\n",
       "<td>0.3316024</td>\n",
       "<td>0.3820921</td>\n",
       "<td>0.8576923</td>\n",
       "<td>1.2733546</td>\n",
       "<td>0.1388078</td></tr>\n",
       "<tr><td></td>\n",
       "<td>2017-12-14 10:08:49</td>\n",
       "<td>11.710 sec</td>\n",
       "<td>945 obs/sec</td>\n",
       "<td>4.0</td>\n",
       "<td>4</td>\n",
       "<td>9596.0</td>\n",
       "<td>0.3111711</td>\n",
       "<td>0.3346742</td>\n",
       "<td>0.8828804</td>\n",
       "<td>1.2733546</td>\n",
       "<td>0.1254689</td></tr>\n",
       "<tr><td></td>\n",
       "<td>2017-12-14 10:08:51</td>\n",
       "<td>13.883 sec</td>\n",
       "<td>986 obs/sec</td>\n",
       "<td>5.0</td>\n",
       "<td>5</td>\n",
       "<td>11995.0</td>\n",
       "<td>0.3226631</td>\n",
       "<td>0.3742352</td>\n",
       "<td>0.8688645</td>\n",
       "<td>1.2733546</td>\n",
       "<td>0.1279700</td></tr>\n",
       "<tr><td></td>\n",
       "<td>2017-12-14 10:08:53</td>\n",
       "<td>16.011 sec</td>\n",
       "<td>1020 obs/sec</td>\n",
       "<td>6.0</td>\n",
       "<td>6</td>\n",
       "<td>14394.0</td>\n",
       "<td>0.3892492</td>\n",
       "<td>0.4737158</td>\n",
       "<td>0.8858373</td>\n",
       "<td>1.2733546</td>\n",
       "<td>0.1192163</td></tr>\n",
       "<tr><td></td>\n",
       "<td>2017-12-14 10:08:55</td>\n",
       "<td>18.126 sec</td>\n",
       "<td>1045 obs/sec</td>\n",
       "<td>7.0</td>\n",
       "<td>7</td>\n",
       "<td>16793.0</td>\n",
       "<td>0.3295583</td>\n",
       "<td>0.4142550</td>\n",
       "<td>0.9037310</td>\n",
       "<td>1.2733546</td>\n",
       "<td>0.1167153</td></tr>\n",
       "<tr><td></td>\n",
       "<td>2017-12-14 10:08:57</td>\n",
       "<td>20.142 sec</td>\n",
       "<td>1069 obs/sec</td>\n",
       "<td>8.0</td>\n",
       "<td>8</td>\n",
       "<td>19192.0</td>\n",
       "<td>0.3093510</td>\n",
       "<td>0.3106525</td>\n",
       "<td>0.9013378</td>\n",
       "<td>1.2733546</td>\n",
       "<td>0.1092122</td></tr>\n",
       "<tr><td></td>\n",
       "<td>2017-12-14 10:08:59</td>\n",
       "<td>22.071 sec</td>\n",
       "<td>1095 obs/sec</td>\n",
       "<td>9.0</td>\n",
       "<td>9</td>\n",
       "<td>21591.0</td>\n",
       "<td>0.2806079</td>\n",
       "<td>0.2746564</td>\n",
       "<td>0.9171202</td>\n",
       "<td>1.2733546</td>\n",
       "<td>0.0983743</td></tr>\n",
       "<tr><td></td>\n",
       "<td>2017-12-14 10:09:01</td>\n",
       "<td>24.040 sec</td>\n",
       "<td>1117 obs/sec</td>\n",
       "<td>10.0</td>\n",
       "<td>10</td>\n",
       "<td>23990.0</td>\n",
       "<td>0.3026667</td>\n",
       "<td>0.3039140</td>\n",
       "<td>0.9162673</td>\n",
       "<td>1.2733546</td>\n",
       "<td>0.1021259</td></tr>\n",
       "<tr><td></td>\n",
       "<td>2017-12-14 10:09:01</td>\n",
       "<td>24.228 sec</td>\n",
       "<td>1117 obs/sec</td>\n",
       "<td>10.0</td>\n",
       "<td>10</td>\n",
       "<td>23990.0</td>\n",
       "<td>0.2806079</td>\n",
       "<td>0.2746564</td>\n",
       "<td>0.9171202</td>\n",
       "<td>1.2733546</td>\n",
       "<td>0.0983743</td></tr></table></div>"
      ],
      "text/plain": [
       "    timestamp            duration    training_speed    epochs    iterations    samples    training_rmse    training_logloss    training_auc    training_lift    training_classification_error\n",
       "--  -------------------  ----------  ----------------  --------  ------------  ---------  ---------------  ------------------  --------------  ---------------  -------------------------------\n",
       "    2017-12-14 10:08:37  0.000 sec                     0         0             0          nan              nan                 nan             nan              nan\n",
       "    2017-12-14 10:08:40  3.954 sec   796 obs/sec       1         1             2399       0.371818         0.511907            0.798534        1.2203           0.155065\n",
       "    2017-12-14 10:08:44  6.738 sec   857 obs/sec       2         2             4798       0.381317         0.711559            0.855335        1.2203           0.152147\n",
       "    2017-12-14 10:08:46  9.332 sec   906 obs/sec       3         3             7197       0.331602         0.382092            0.857692        1.27335          0.138808\n",
       "    2017-12-14 10:08:49  11.710 sec  945 obs/sec       4         4             9596       0.311171         0.334674            0.88288         1.27335          0.125469\n",
       "    2017-12-14 10:08:51  13.883 sec  986 obs/sec       5         5             11995      0.322663         0.374235            0.868865        1.27335          0.12797\n",
       "    2017-12-14 10:08:53  16.011 sec  1020 obs/sec      6         6             14394      0.389249         0.473716            0.885837        1.27335          0.119216\n",
       "    2017-12-14 10:08:55  18.126 sec  1045 obs/sec      7         7             16793      0.329558         0.414255            0.903731        1.27335          0.116715\n",
       "    2017-12-14 10:08:57  20.142 sec  1069 obs/sec      8         8             19192      0.309351         0.310652            0.901338        1.27335          0.109212\n",
       "    2017-12-14 10:08:59  22.071 sec  1095 obs/sec      9         9             21591      0.280608         0.274656            0.91712         1.27335          0.0983743\n",
       "    2017-12-14 10:09:01  24.040 sec  1117 obs/sec      10        10            23990      0.302667         0.303914            0.916267        1.27335          0.102126\n",
       "    2017-12-14 10:09:01  24.228 sec  1117 obs/sec      10        10            23990      0.280608         0.274656            0.91712         1.27335          0.0983743"
      ]
     },
     "metadata": {},
     "output_type": "display_data"
    },
    {
     "name": "stdout",
     "output_type": "stream",
     "text": [
      "Variable Importances: \n"
     ]
    },
    {
     "data": {
      "text/html": [
       "<div style=\"overflow:auto\"><table style=\"width:50%\"><tr><td><b>variable</b></td>\n",
       "<td><b>relative_importance</b></td>\n",
       "<td><b>scaled_importance</b></td>\n",
       "<td><b>percentage</b></td></tr>\n",
       "<tr><td>REASON.DebtCon</td>\n",
       "<td>1.0</td>\n",
       "<td>1.0</td>\n",
       "<td>0.0755852</td></tr>\n",
       "<tr><td>JOB.Other</td>\n",
       "<td>0.8224753</td>\n",
       "<td>0.8224753</td>\n",
       "<td>0.0621670</td></tr>\n",
       "<tr><td>JOB.Mgr</td>\n",
       "<td>0.7663558</td>\n",
       "<td>0.7663558</td>\n",
       "<td>0.0579252</td></tr>\n",
       "<tr><td>JOB.Self</td>\n",
       "<td>0.7501213</td>\n",
       "<td>0.7501213</td>\n",
       "<td>0.0566981</td></tr>\n",
       "<tr><td>JOB.Office</td>\n",
       "<td>0.7235280</td>\n",
       "<td>0.7235280</td>\n",
       "<td>0.0546880</td></tr>\n",
       "<tr><td>---</td>\n",
       "<td>---</td>\n",
       "<td>---</td>\n",
       "<td>---</td></tr>\n",
       "<tr><td>NINQ</td>\n",
       "<td>0.6087244</td>\n",
       "<td>0.6087244</td>\n",
       "<td>0.0460106</td></tr>\n",
       "<tr><td>CLAGE</td>\n",
       "<td>0.5914001</td>\n",
       "<td>0.5914001</td>\n",
       "<td>0.0447011</td></tr>\n",
       "<tr><td>CLNO</td>\n",
       "<td>0.5574618</td>\n",
       "<td>0.5574618</td>\n",
       "<td>0.0421359</td></tr>\n",
       "<tr><td>JOB.missing(NA)</td>\n",
       "<td>0.0</td>\n",
       "<td>0.0</td>\n",
       "<td>0.0</td></tr>\n",
       "<tr><td>REASON.missing(NA)</td>\n",
       "<td>0.0</td>\n",
       "<td>0.0</td>\n",
       "<td>0.0</td></tr></table></div>"
      ],
      "text/plain": [
       "variable            relative_importance    scaled_importance    percentage\n",
       "------------------  ---------------------  -------------------  --------------------\n",
       "REASON.DebtCon      1.0                    1.0                  0.0755852289072813\n",
       "JOB.Other           0.822475254535675      0.822475254535675    0.062166980384653445\n",
       "JOB.Mgr             0.7663558125495911     0.7663558125495911   0.05792517951598639\n",
       "JOB.Self            0.7501212954521179     0.7501212954521179   0.056698089824974714\n",
       "JOB.Office          0.7235280275344849     0.7235280275344849   0.05468803158202776\n",
       "---                 ---                    ---                  ---\n",
       "NINQ                0.6087244153022766     0.6087244153022766   0.04601057427207354\n",
       "CLAGE               0.591400146484375      0.591400146484375    0.044701115447821176\n",
       "CLNO                0.5574617981910706     0.5574617981910706   0.04213587762333672\n",
       "JOB.missing(NA)     0.0                    0.0                  0.0\n",
       "REASON.missing(NA)  0.0                    0.0                  0.0"
      ]
     },
     "metadata": {},
     "output_type": "display_data"
    },
    {
     "name": "stdout",
     "output_type": "stream",
     "text": [
      "\n",
      "See the whole table with table.as_data_frame()\n"
     ]
    },
    {
     "data": {
      "text/plain": []
     },
     "execution_count": 40,
     "metadata": {},
     "output_type": "execute_result"
    }
   ],
   "source": [
    "# Sử dụng  mô hình  mặc định của h2o với một số options thêm để tái lập kết quả: \n",
    "m = h2o.estimators.deeplearning.H2ODeepLearningEstimator(seed = 99, reproducible = True)\n",
    "\n",
    "# Huấn luyện mô hình với bộ dữ liệu train: \n",
    "m.train(x, y, train)\n",
    "\n",
    "# Xem kết quả của mô hình trên train data (rất nhiều thông tin): \n",
    "m"
   ]
  },
  {
   "cell_type": "code",
   "execution_count": 41,
   "metadata": {},
   "outputs": [
    {
     "name": "stdout",
     "output_type": "stream",
     "text": [
      "\n",
      "ModelMetricsBinomial: deeplearning\n",
      "** Reported on test data. **\n",
      "\n",
      "MSE: 0.1004883681810946\n",
      "RMSE: 0.31699900343864584\n",
      "LogLoss: 0.35411006790847105\n",
      "Mean Per-Class Error: 0.2018187151657378\n",
      "AUC: 0.8707843236721902\n",
      "Gini: 0.7415686473443803\n",
      "Confusion Matrix (Act/Pred) for max f1 @ threshold = 0.41134914461802763: \n"
     ]
    },
    {
     "data": {
      "text/html": [
       "<div style=\"overflow:auto\"><table style=\"width:50%\"><tr><td><b></b></td>\n",
       "<td><b>B</b></td>\n",
       "<td><b>G</b></td>\n",
       "<td><b>Error</b></td>\n",
       "<td><b>Rate</b></td></tr>\n",
       "<tr><td>B</td>\n",
       "<td>227.0</td>\n",
       "<td>260.0</td>\n",
       "<td>0.5339</td>\n",
       "<td> (260.0/487.0)</td></tr>\n",
       "<tr><td>G</td>\n",
       "<td>41.0</td>\n",
       "<td>1821.0</td>\n",
       "<td>0.022</td>\n",
       "<td> (41.0/1862.0)</td></tr>\n",
       "<tr><td>Total</td>\n",
       "<td>268.0</td>\n",
       "<td>2081.0</td>\n",
       "<td>0.1281</td>\n",
       "<td> (301.0/2349.0)</td></tr></table></div>"
      ],
      "text/plain": [
       "       B    G     Error    Rate\n",
       "-----  ---  ----  -------  --------------\n",
       "B      227  260   0.5339   (260.0/487.0)\n",
       "G      41   1821  0.022    (41.0/1862.0)\n",
       "Total  268  2081  0.1281   (301.0/2349.0)"
      ]
     },
     "metadata": {},
     "output_type": "display_data"
    },
    {
     "name": "stdout",
     "output_type": "stream",
     "text": [
      "Maximum Metrics: Maximum metrics at their respective thresholds\n",
      "\n"
     ]
    },
    {
     "data": {
      "text/html": [
       "<div style=\"overflow:auto\"><table style=\"width:50%\"><tr><td><b>metric</b></td>\n",
       "<td><b>threshold</b></td>\n",
       "<td><b>value</b></td>\n",
       "<td><b>idx</b></td></tr>\n",
       "<tr><td>max f1</td>\n",
       "<td>0.4113491</td>\n",
       "<td>0.9236622</td>\n",
       "<td>284.0</td></tr>\n",
       "<tr><td>max f2</td>\n",
       "<td>0.0722256</td>\n",
       "<td>0.9597891</td>\n",
       "<td>370.0</td></tr>\n",
       "<tr><td>max f0point5</td>\n",
       "<td>0.8259796</td>\n",
       "<td>0.9121395</td>\n",
       "<td>147.0</td></tr>\n",
       "<tr><td>max accuracy</td>\n",
       "<td>0.4865321</td>\n",
       "<td>0.8718604</td>\n",
       "<td>261.0</td></tr>\n",
       "<tr><td>max precision</td>\n",
       "<td>0.9997824</td>\n",
       "<td>1.0</td>\n",
       "<td>0.0</td></tr>\n",
       "<tr><td>max recall</td>\n",
       "<td>0.0261401</td>\n",
       "<td>1.0</td>\n",
       "<td>383.0</td></tr>\n",
       "<tr><td>max specificity</td>\n",
       "<td>0.9997824</td>\n",
       "<td>1.0</td>\n",
       "<td>0.0</td></tr>\n",
       "<tr><td>max absolute_mcc</td>\n",
       "<td>0.6550432</td>\n",
       "<td>0.5775467</td>\n",
       "<td>214.0</td></tr>\n",
       "<tr><td>max min_per_class_accuracy</td>\n",
       "<td>0.9091976</td>\n",
       "<td>0.7894737</td>\n",
       "<td>98.0</td></tr>\n",
       "<tr><td>max mean_per_class_accuracy</td>\n",
       "<td>0.8524491</td>\n",
       "<td>0.7981813</td>\n",
       "<td>131.0</td></tr></table></div>"
      ],
      "text/plain": [
       "metric                       threshold    value     idx\n",
       "---------------------------  -----------  --------  -----\n",
       "max f1                       0.411349     0.923662  284\n",
       "max f2                       0.0722256    0.959789  370\n",
       "max f0point5                 0.82598      0.91214   147\n",
       "max accuracy                 0.486532     0.87186   261\n",
       "max precision                0.999782     1         0\n",
       "max recall                   0.0261401    1         383\n",
       "max specificity              0.999782     1         0\n",
       "max absolute_mcc             0.655043     0.577547  214\n",
       "max min_per_class_accuracy   0.909198     0.789474  98\n",
       "max mean_per_class_accuracy  0.852449     0.798181  131"
      ]
     },
     "metadata": {},
     "output_type": "display_data"
    },
    {
     "name": "stdout",
     "output_type": "stream",
     "text": [
      "Gains/Lift Table: Avg response rate: 79.27 %\n",
      "\n"
     ]
    },
    {
     "data": {
      "text/html": [
       "<div style=\"overflow:auto\"><table style=\"width:50%\"><tr><td><b></b></td>\n",
       "<td><b>group</b></td>\n",
       "<td><b>cumulative_data_fraction</b></td>\n",
       "<td><b>lower_threshold</b></td>\n",
       "<td><b>lift</b></td>\n",
       "<td><b>cumulative_lift</b></td>\n",
       "<td><b>response_rate</b></td>\n",
       "<td><b>cumulative_response_rate</b></td>\n",
       "<td><b>capture_rate</b></td>\n",
       "<td><b>cumulative_capture_rate</b></td>\n",
       "<td><b>gain</b></td>\n",
       "<td><b>cumulative_gain</b></td></tr>\n",
       "<tr><td></td>\n",
       "<td>1</td>\n",
       "<td>0.0102171</td>\n",
       "<td>0.9997546</td>\n",
       "<td>1.2615467</td>\n",
       "<td>1.2615467</td>\n",
       "<td>1.0</td>\n",
       "<td>1.0</td>\n",
       "<td>0.0128894</td>\n",
       "<td>0.0128894</td>\n",
       "<td>26.1546724</td>\n",
       "<td>26.1546724</td></tr>\n",
       "<tr><td></td>\n",
       "<td>2</td>\n",
       "<td>0.0200085</td>\n",
       "<td>0.9994914</td>\n",
       "<td>1.2066969</td>\n",
       "<td>1.2347053</td>\n",
       "<td>0.9565217</td>\n",
       "<td>0.9787234</td>\n",
       "<td>0.0118153</td>\n",
       "<td>0.0247046</td>\n",
       "<td>20.6696866</td>\n",
       "<td>23.4705304</td></tr>\n",
       "<tr><td></td>\n",
       "<td>3</td>\n",
       "<td>0.0302256</td>\n",
       "<td>0.9993846</td>\n",
       "<td>1.2089823</td>\n",
       "<td>1.2260102</td>\n",
       "<td>0.9583333</td>\n",
       "<td>0.9718310</td>\n",
       "<td>0.0123523</td>\n",
       "<td>0.0370569</td>\n",
       "<td>20.8982277</td>\n",
       "<td>22.6010197</td></tr>\n",
       "<tr><td></td>\n",
       "<td>4</td>\n",
       "<td>0.0400170</td>\n",
       "<td>0.9992737</td>\n",
       "<td>1.2615467</td>\n",
       "<td>1.2347053</td>\n",
       "<td>1.0</td>\n",
       "<td>0.9787234</td>\n",
       "<td>0.0123523</td>\n",
       "<td>0.0494092</td>\n",
       "<td>26.1546724</td>\n",
       "<td>23.4705304</td></tr>\n",
       "<tr><td></td>\n",
       "<td>5</td>\n",
       "<td>0.0502341</td>\n",
       "<td>0.9991198</td>\n",
       "<td>1.2615467</td>\n",
       "<td>1.2401646</td>\n",
       "<td>1.0</td>\n",
       "<td>0.9830508</td>\n",
       "<td>0.0128894</td>\n",
       "<td>0.0622986</td>\n",
       "<td>26.1546724</td>\n",
       "<td>24.0164576</td></tr>\n",
       "<tr><td></td>\n",
       "<td>6</td>\n",
       "<td>0.1000426</td>\n",
       "<td>0.9982201</td>\n",
       "<td>1.2399818</td>\n",
       "<td>1.2400736</td>\n",
       "<td>0.9829060</td>\n",
       "<td>0.9829787</td>\n",
       "<td>0.0617615</td>\n",
       "<td>0.1240602</td>\n",
       "<td>23.9981823</td>\n",
       "<td>24.0073588</td></tr>\n",
       "<tr><td></td>\n",
       "<td>7</td>\n",
       "<td>0.1502767</td>\n",
       "<td>0.9965976</td>\n",
       "<td>1.2401646</td>\n",
       "<td>1.2401040</td>\n",
       "<td>0.9830508</td>\n",
       "<td>0.9830028</td>\n",
       "<td>0.0622986</td>\n",
       "<td>0.1863588</td>\n",
       "<td>24.0164576</td>\n",
       "<td>24.0104003</td></tr>\n",
       "<tr><td></td>\n",
       "<td>8</td>\n",
       "<td>0.2000851</td>\n",
       "<td>0.9943441</td>\n",
       "<td>1.2076345</td>\n",
       "<td>1.2320212</td>\n",
       "<td>0.9572650</td>\n",
       "<td>0.9765957</td>\n",
       "<td>0.0601504</td>\n",
       "<td>0.2465091</td>\n",
       "<td>20.7634471</td>\n",
       "<td>23.2021162</td></tr>\n",
       "<tr><td></td>\n",
       "<td>9</td>\n",
       "<td>0.3001277</td>\n",
       "<td>0.9889821</td>\n",
       "<td>1.2024956</td>\n",
       "<td>1.2221793</td>\n",
       "<td>0.9531915</td>\n",
       "<td>0.9687943</td>\n",
       "<td>0.1203008</td>\n",
       "<td>0.3668099</td>\n",
       "<td>20.2495601</td>\n",
       "<td>22.2179308</td></tr>\n",
       "<tr><td></td>\n",
       "<td>10</td>\n",
       "<td>0.4001703</td>\n",
       "<td>0.9794706</td>\n",
       "<td>1.1756542</td>\n",
       "<td>1.2105480</td>\n",
       "<td>0.9319149</td>\n",
       "<td>0.9595745</td>\n",
       "<td>0.1176155</td>\n",
       "<td>0.4844253</td>\n",
       "<td>17.5654181</td>\n",
       "<td>21.0548027</td></tr>\n",
       "<tr><td></td>\n",
       "<td>11</td>\n",
       "<td>0.5002129</td>\n",
       "<td>0.9666162</td>\n",
       "<td>1.1756542</td>\n",
       "<td>1.2035693</td>\n",
       "<td>0.9319149</td>\n",
       "<td>0.9540426</td>\n",
       "<td>0.1176155</td>\n",
       "<td>0.6020408</td>\n",
       "<td>17.5654181</td>\n",
       "<td>20.3569257</td></tr>\n",
       "<tr><td></td>\n",
       "<td>12</td>\n",
       "<td>0.5998297</td>\n",
       "<td>0.9403407</td>\n",
       "<td>1.1105924</td>\n",
       "<td>1.1881281</td>\n",
       "<td>0.8803419</td>\n",
       "<td>0.9418027</td>\n",
       "<td>0.1106337</td>\n",
       "<td>0.7126745</td>\n",
       "<td>11.0592415</td>\n",
       "<td>18.8128107</td></tr>\n",
       "<tr><td></td>\n",
       "<td>13</td>\n",
       "<td>0.6998723</td>\n",
       "<td>0.8816948</td>\n",
       "<td>1.0682885</td>\n",
       "<td>1.1709977</td>\n",
       "<td>0.8468085</td>\n",
       "<td>0.9282238</td>\n",
       "<td>0.1068743</td>\n",
       "<td>0.8195489</td>\n",
       "<td>6.8288502</td>\n",
       "<td>17.0997750</td></tr>\n",
       "<tr><td></td>\n",
       "<td>14</td>\n",
       "<td>0.7999149</td>\n",
       "<td>0.7498708</td>\n",
       "<td>0.9609228</td>\n",
       "<td>1.1447244</td>\n",
       "<td>0.7617021</td>\n",
       "<td>0.9073976</td>\n",
       "<td>0.0961332</td>\n",
       "<td>0.9156821</td>\n",
       "<td>-3.9077176</td>\n",
       "<td>14.4724409</td></tr>\n",
       "<tr><td></td>\n",
       "<td>15</td>\n",
       "<td>0.8999574</td>\n",
       "<td>0.3439614</td>\n",
       "<td>0.6656672</td>\n",
       "<td>1.0914707</td>\n",
       "<td>0.5276596</td>\n",
       "<td>0.8651845</td>\n",
       "<td>0.0665951</td>\n",
       "<td>0.9822771</td>\n",
       "<td>-33.4332792</td>\n",
       "<td>9.1470652</td></tr>\n",
       "<tr><td></td>\n",
       "<td>16</td>\n",
       "<td>1.0</td>\n",
       "<td>0.0000000</td>\n",
       "<td>0.1771534</td>\n",
       "<td>1.0</td>\n",
       "<td>0.1404255</td>\n",
       "<td>0.7926777</td>\n",
       "<td>0.0177229</td>\n",
       "<td>1.0</td>\n",
       "<td>-82.2846630</td>\n",
       "<td>0.0</td></tr></table></div>"
      ],
      "text/plain": [
       "    group    cumulative_data_fraction    lower_threshold    lift      cumulative_lift    response_rate    cumulative_response_rate    capture_rate    cumulative_capture_rate    gain      cumulative_gain\n",
       "--  -------  --------------------------  -----------------  --------  -----------------  ---------------  --------------------------  --------------  -------------------------  --------  -----------------\n",
       "    1        0.0102171                   0.999755           1.26155   1.26155            1                1                           0.0128894       0.0128894                  26.1547   26.1547\n",
       "    2        0.0200085                   0.999491           1.2067    1.23471            0.956522         0.978723                    0.0118153       0.0247046                  20.6697   23.4705\n",
       "    3        0.0302256                   0.999385           1.20898   1.22601            0.958333         0.971831                    0.0123523       0.0370569                  20.8982   22.601\n",
       "    4        0.040017                    0.999274           1.26155   1.23471            1                0.978723                    0.0123523       0.0494092                  26.1547   23.4705\n",
       "    5        0.0502341                   0.99912            1.26155   1.24016            1                0.983051                    0.0128894       0.0622986                  26.1547   24.0165\n",
       "    6        0.100043                    0.99822            1.23998   1.24007            0.982906         0.982979                    0.0617615       0.12406                    23.9982   24.0074\n",
       "    7        0.150277                    0.996598           1.24016   1.2401             0.983051         0.983003                    0.0622986       0.186359                   24.0165   24.0104\n",
       "    8        0.200085                    0.994344           1.20763   1.23202            0.957265         0.976596                    0.0601504       0.246509                   20.7634   23.2021\n",
       "    9        0.300128                    0.988982           1.2025    1.22218            0.953191         0.968794                    0.120301        0.36681                    20.2496   22.2179\n",
       "    10       0.40017                     0.979471           1.17565   1.21055            0.931915         0.959574                    0.117615        0.484425                   17.5654   21.0548\n",
       "    11       0.500213                    0.966616           1.17565   1.20357            0.931915         0.954043                    0.117615        0.602041                   17.5654   20.3569\n",
       "    12       0.59983                     0.940341           1.11059   1.18813            0.880342         0.941803                    0.110634        0.712675                   11.0592   18.8128\n",
       "    13       0.699872                    0.881695           1.06829   1.171              0.846809         0.928224                    0.106874        0.819549                   6.82885   17.0998\n",
       "    14       0.799915                    0.749871           0.960923  1.14472            0.761702         0.907398                    0.0961332       0.915682                   -3.90772  14.4724\n",
       "    15       0.899957                    0.343961           0.665667  1.09147            0.52766          0.865184                    0.0665951       0.982277                   -33.4333  9.14707\n",
       "    16       1                           3.96745e-09        0.177153  1                  0.140426         0.792678                    0.0177229       1                          -82.2847  0"
      ]
     },
     "metadata": {},
     "output_type": "display_data"
    },
    {
     "name": "stdout",
     "output_type": "stream",
     "text": [
      "\n"
     ]
    },
    {
     "data": {
      "text/plain": []
     },
     "execution_count": 41,
     "metadata": {},
     "output_type": "execute_result"
    }
   ],
   "source": [
    "# Kết quả trên bộ dữ liệu test: \n",
    "m.model_performance(test)"
   ]
  },
  {
   "cell_type": "code",
   "execution_count": 42,
   "metadata": {},
   "outputs": [
    {
     "name": "stdout",
     "output_type": "stream",
     "text": [
      "deeplearning prediction progress: |███████████████████████████████████████| 100%\n"
     ]
    }
   ],
   "source": [
    "# Sử dụng mô hình cho bộ dữ liệu test: \n",
    "p = m.predict(test)"
   ]
  },
  {
   "cell_type": "code",
   "execution_count": 43,
   "metadata": {},
   "outputs": [
    {
     "data": {
      "text/html": [
       "<div>\n",
       "<style scoped>\n",
       "    .dataframe tbody tr th:only-of-type {\n",
       "        vertical-align: middle;\n",
       "    }\n",
       "\n",
       "    .dataframe tbody tr th {\n",
       "        vertical-align: top;\n",
       "    }\n",
       "\n",
       "    .dataframe thead th {\n",
       "        text-align: right;\n",
       "    }\n",
       "</style>\n",
       "<table border=\"1\" class=\"dataframe\">\n",
       "  <thead>\n",
       "    <tr style=\"text-align: right;\">\n",
       "      <th></th>\n",
       "      <th>predict</th>\n",
       "      <th>B</th>\n",
       "      <th>G</th>\n",
       "    </tr>\n",
       "  </thead>\n",
       "  <tbody>\n",
       "    <tr>\n",
       "      <th>0</th>\n",
       "      <td>B</td>\n",
       "      <td>0.807410</td>\n",
       "      <td>0.192590</td>\n",
       "    </tr>\n",
       "    <tr>\n",
       "      <th>1</th>\n",
       "      <td>B</td>\n",
       "      <td>0.764407</td>\n",
       "      <td>0.235593</td>\n",
       "    </tr>\n",
       "    <tr>\n",
       "      <th>2</th>\n",
       "      <td>B</td>\n",
       "      <td>0.606726</td>\n",
       "      <td>0.393274</td>\n",
       "    </tr>\n",
       "    <tr>\n",
       "      <th>3</th>\n",
       "      <td>B</td>\n",
       "      <td>0.585757</td>\n",
       "      <td>0.414243</td>\n",
       "    </tr>\n",
       "    <tr>\n",
       "      <th>4</th>\n",
       "      <td>B</td>\n",
       "      <td>0.999829</td>\n",
       "      <td>0.000171</td>\n",
       "    </tr>\n",
       "  </tbody>\n",
       "</table>\n",
       "</div>"
      ],
      "text/plain": [
       "  predict         B         G\n",
       "0       B  0.807410  0.192590\n",
       "1       B  0.764407  0.235593\n",
       "2       B  0.606726  0.393274\n",
       "3       B  0.585757  0.414243\n",
       "4       B  0.999829  0.000171"
      ]
     },
     "execution_count": 43,
     "metadata": {},
     "output_type": "execute_result"
    }
   ],
   "source": [
    "# Xem một số kết quả ban đầu: \n",
    "ket_qua = p.as_data_frame()\n",
    "ket_qua.head()"
   ]
  },
  {
   "cell_type": "code",
   "execution_count": 44,
   "metadata": {},
   "outputs": [
    {
     "data": {
      "text/html": [
       "<div>\n",
       "<style scoped>\n",
       "    .dataframe tbody tr th:only-of-type {\n",
       "        vertical-align: middle;\n",
       "    }\n",
       "\n",
       "    .dataframe tbody tr th {\n",
       "        vertical-align: top;\n",
       "    }\n",
       "\n",
       "    .dataframe thead th {\n",
       "        text-align: right;\n",
       "    }\n",
       "</style>\n",
       "<table border=\"1\" class=\"dataframe\">\n",
       "  <thead>\n",
       "    <tr style=\"text-align: right;\">\n",
       "      <th></th>\n",
       "      <th>predict</th>\n",
       "      <th>BAD</th>\n",
       "    </tr>\n",
       "  </thead>\n",
       "  <tbody>\n",
       "    <tr>\n",
       "      <th>0</th>\n",
       "      <td>B</td>\n",
       "      <td>B</td>\n",
       "    </tr>\n",
       "    <tr>\n",
       "      <th>1</th>\n",
       "      <td>B</td>\n",
       "      <td>B</td>\n",
       "    </tr>\n",
       "    <tr>\n",
       "      <th>2</th>\n",
       "      <td>B</td>\n",
       "      <td>B</td>\n",
       "    </tr>\n",
       "    <tr>\n",
       "      <th>3</th>\n",
       "      <td>B</td>\n",
       "      <td>G</td>\n",
       "    </tr>\n",
       "    <tr>\n",
       "      <th>4</th>\n",
       "      <td>B</td>\n",
       "      <td>B</td>\n",
       "    </tr>\n",
       "  </tbody>\n",
       "</table>\n",
       "</div>"
      ],
      "text/plain": [
       "  predict BAD\n",
       "0       B   B\n",
       "1       B   B\n",
       "2       B   B\n",
       "3       B   G\n",
       "4       B   B"
      ]
     },
     "execution_count": 44,
     "metadata": {},
     "output_type": "execute_result"
    }
   ],
   "source": [
    "# DataFrame so sánh thực tế và dự báo: \n",
    "so_sanh = p[\"predict\"].cbind(test[\"BAD\"]).as_data_frame()\n",
    "\n",
    "# Xem vài quan sát đầu: \n",
    "so_sanh.head()"
   ]
  },
  {
   "cell_type": "code",
   "execution_count": 45,
   "metadata": {},
   "outputs": [
    {
     "data": {
      "text/plain": [
       "[0.8710089399744572]"
      ]
     },
     "execution_count": 45,
     "metadata": {},
     "output_type": "execute_result"
    }
   ],
   "source": [
    "# Tỉ lệ dự báo chính xác trên bộ dữ liệu test: \n",
    "(p[\"predict\"] == test[\"BAD\"]).mean() "
   ]
  },
  {
   "cell_type": "code",
   "execution_count": 46,
   "metadata": {},
   "outputs": [
    {
     "data": {
      "text/plain": [
       "G    78.896377\n",
       "B    21.103623\n",
       "Name: BAD, dtype: float64"
      ]
     },
     "execution_count": 46,
     "metadata": {},
     "output_type": "execute_result"
    }
   ],
   "source": [
    "# So sánh với tỉ lệ hồ sơ tốt (nhóm chiếm đa số): \n",
    "100*pd.value_counts(df2[\"BAD\"], sort = True) / len(df2.index)"
   ]
  },
  {
   "cell_type": "markdown",
   "metadata": {},
   "source": [
    "### Default GBM"
   ]
  },
  {
   "cell_type": "code",
   "execution_count": 47,
   "metadata": {},
   "outputs": [
    {
     "name": "stdout",
     "output_type": "stream",
     "text": [
      "gbm Model Build progress: |███████████████████████████████████████████████| 100%\n",
      "Model Details\n",
      "=============\n",
      "H2OGradientBoostingEstimator :  Gradient Boosting Machine\n",
      "Model Key:  GBM_defaults\n",
      "\n",
      "\n",
      "ModelMetricsBinomial: gbm\n",
      "** Reported on train data. **\n",
      "\n",
      "MSE: 0.040571227919596116\n",
      "RMSE: 0.20142300742367072\n",
      "LogLoss: 0.15522459387726487\n",
      "Mean Per-Class Error: 0.06423535959433546\n",
      "AUC: 0.9843964504359656\n",
      "Gini: 0.9687929008719312\n",
      "Confusion Matrix (Act/Pred) for max f1 @ threshold = 0.5981390212303767: \n"
     ]
    },
    {
     "data": {
      "text/html": [
       "<div style=\"overflow:auto\"><table style=\"width:50%\"><tr><td><b></b></td>\n",
       "<td><b>B</b></td>\n",
       "<td><b>G</b></td>\n",
       "<td><b>Error</b></td>\n",
       "<td><b>Rate</b></td></tr>\n",
       "<tr><td>B</td>\n",
       "<td>435.0</td>\n",
       "<td>80.0</td>\n",
       "<td>0.1553</td>\n",
       "<td> (80.0/515.0)</td></tr>\n",
       "<tr><td>G</td>\n",
       "<td>36.0</td>\n",
       "<td>1848.0</td>\n",
       "<td>0.0191</td>\n",
       "<td> (36.0/1884.0)</td></tr>\n",
       "<tr><td>Total</td>\n",
       "<td>471.0</td>\n",
       "<td>1928.0</td>\n",
       "<td>0.0484</td>\n",
       "<td> (116.0/2399.0)</td></tr></table></div>"
      ],
      "text/plain": [
       "       B    G     Error    Rate\n",
       "-----  ---  ----  -------  --------------\n",
       "B      435  80    0.1553   (80.0/515.0)\n",
       "G      36   1848  0.0191   (36.0/1884.0)\n",
       "Total  471  1928  0.0484   (116.0/2399.0)"
      ]
     },
     "metadata": {},
     "output_type": "display_data"
    },
    {
     "name": "stdout",
     "output_type": "stream",
     "text": [
      "Maximum Metrics: Maximum metrics at their respective thresholds\n",
      "\n"
     ]
    },
    {
     "data": {
      "text/html": [
       "<div style=\"overflow:auto\"><table style=\"width:50%\"><tr><td><b>metric</b></td>\n",
       "<td><b>threshold</b></td>\n",
       "<td><b>value</b></td>\n",
       "<td><b>idx</b></td></tr>\n",
       "<tr><td>max f1</td>\n",
       "<td>0.5981390</td>\n",
       "<td>0.9695698</td>\n",
       "<td>209.0</td></tr>\n",
       "<tr><td>max f2</td>\n",
       "<td>0.3914349</td>\n",
       "<td>0.9843881</td>\n",
       "<td>255.0</td></tr>\n",
       "<tr><td>max f0point5</td>\n",
       "<td>0.7711726</td>\n",
       "<td>0.9721002</td>\n",
       "<td>154.0</td></tr>\n",
       "<tr><td>max accuracy</td>\n",
       "<td>0.5981390</td>\n",
       "<td>0.9516465</td>\n",
       "<td>209.0</td></tr>\n",
       "<tr><td>max precision</td>\n",
       "<td>0.9880120</td>\n",
       "<td>1.0</td>\n",
       "<td>0.0</td></tr>\n",
       "<tr><td>max recall</td>\n",
       "<td>0.2307523</td>\n",
       "<td>1.0</td>\n",
       "<td>305.0</td></tr>\n",
       "<tr><td>max specificity</td>\n",
       "<td>0.9880120</td>\n",
       "<td>1.0</td>\n",
       "<td>0.0</td></tr>\n",
       "<tr><td>max absolute_mcc</td>\n",
       "<td>0.5981390</td>\n",
       "<td>0.8533447</td>\n",
       "<td>209.0</td></tr>\n",
       "<tr><td>max min_per_class_accuracy</td>\n",
       "<td>0.7791978</td>\n",
       "<td>0.9339806</td>\n",
       "<td>150.0</td></tr>\n",
       "<tr><td>max mean_per_class_accuracy</td>\n",
       "<td>0.7711726</td>\n",
       "<td>0.9357646</td>\n",
       "<td>154.0</td></tr></table></div>"
      ],
      "text/plain": [
       "metric                       threshold    value     idx\n",
       "---------------------------  -----------  --------  -----\n",
       "max f1                       0.598139     0.96957   209\n",
       "max f2                       0.391435     0.984388  255\n",
       "max f0point5                 0.771173     0.9721    154\n",
       "max accuracy                 0.598139     0.951647  209\n",
       "max precision                0.988012     1         0\n",
       "max recall                   0.230752     1         305\n",
       "max specificity              0.988012     1         0\n",
       "max absolute_mcc             0.598139     0.853345  209\n",
       "max min_per_class_accuracy   0.779198     0.933981  150\n",
       "max mean_per_class_accuracy  0.771173     0.935765  154"
      ]
     },
     "metadata": {},
     "output_type": "display_data"
    },
    {
     "name": "stdout",
     "output_type": "stream",
     "text": [
      "Gains/Lift Table: Avg response rate: 78.53 %\n",
      "\n"
     ]
    },
    {
     "data": {
      "text/html": [
       "<div style=\"overflow:auto\"><table style=\"width:50%\"><tr><td><b></b></td>\n",
       "<td><b>group</b></td>\n",
       "<td><b>cumulative_data_fraction</b></td>\n",
       "<td><b>lower_threshold</b></td>\n",
       "<td><b>lift</b></td>\n",
       "<td><b>cumulative_lift</b></td>\n",
       "<td><b>response_rate</b></td>\n",
       "<td><b>cumulative_response_rate</b></td>\n",
       "<td><b>capture_rate</b></td>\n",
       "<td><b>cumulative_capture_rate</b></td>\n",
       "<td><b>gain</b></td>\n",
       "<td><b>cumulative_gain</b></td></tr>\n",
       "<tr><td></td>\n",
       "<td>1</td>\n",
       "<td>0.0100042</td>\n",
       "<td>0.9858137</td>\n",
       "<td>1.2733546</td>\n",
       "<td>1.2733546</td>\n",
       "<td>1.0</td>\n",
       "<td>1.0</td>\n",
       "<td>0.0127389</td>\n",
       "<td>0.0127389</td>\n",
       "<td>27.3354565</td>\n",
       "<td>27.3354565</td></tr>\n",
       "<tr><td></td>\n",
       "<td>2</td>\n",
       "<td>0.0200083</td>\n",
       "<td>0.9845895</td>\n",
       "<td>1.2733546</td>\n",
       "<td>1.2733546</td>\n",
       "<td>1.0</td>\n",
       "<td>1.0</td>\n",
       "<td>0.0127389</td>\n",
       "<td>0.0254777</td>\n",
       "<td>27.3354565</td>\n",
       "<td>27.3354565</td></tr>\n",
       "<tr><td></td>\n",
       "<td>3</td>\n",
       "<td>0.0304293</td>\n",
       "<td>0.9840155</td>\n",
       "<td>1.2733546</td>\n",
       "<td>1.2733546</td>\n",
       "<td>1.0</td>\n",
       "<td>1.0</td>\n",
       "<td>0.0132696</td>\n",
       "<td>0.0387473</td>\n",
       "<td>27.3354565</td>\n",
       "<td>27.3354565</td></tr>\n",
       "<tr><td></td>\n",
       "<td>4</td>\n",
       "<td>0.0400167</td>\n",
       "<td>0.9835693</td>\n",
       "<td>1.2733546</td>\n",
       "<td>1.2733546</td>\n",
       "<td>1.0</td>\n",
       "<td>1.0</td>\n",
       "<td>0.0122081</td>\n",
       "<td>0.0509554</td>\n",
       "<td>27.3354565</td>\n",
       "<td>27.3354565</td></tr>\n",
       "<tr><td></td>\n",
       "<td>5</td>\n",
       "<td>0.0500208</td>\n",
       "<td>0.9827731</td>\n",
       "<td>1.2733546</td>\n",
       "<td>1.2733546</td>\n",
       "<td>1.0</td>\n",
       "<td>1.0</td>\n",
       "<td>0.0127389</td>\n",
       "<td>0.0636943</td>\n",
       "<td>27.3354565</td>\n",
       "<td>27.3354565</td></tr>\n",
       "<tr><td></td>\n",
       "<td>6</td>\n",
       "<td>0.1000417</td>\n",
       "<td>0.9798375</td>\n",
       "<td>1.2733546</td>\n",
       "<td>1.2733546</td>\n",
       "<td>1.0</td>\n",
       "<td>1.0</td>\n",
       "<td>0.0636943</td>\n",
       "<td>0.1273885</td>\n",
       "<td>27.3354565</td>\n",
       "<td>27.3354565</td></tr>\n",
       "<tr><td></td>\n",
       "<td>7</td>\n",
       "<td>0.1500625</td>\n",
       "<td>0.9766880</td>\n",
       "<td>1.2733546</td>\n",
       "<td>1.2733546</td>\n",
       "<td>1.0</td>\n",
       "<td>1.0</td>\n",
       "<td>0.0636943</td>\n",
       "<td>0.1910828</td>\n",
       "<td>27.3354565</td>\n",
       "<td>27.3354565</td></tr>\n",
       "<tr><td></td>\n",
       "<td>8</td>\n",
       "<td>0.2000834</td>\n",
       "<td>0.9742253</td>\n",
       "<td>1.2733546</td>\n",
       "<td>1.2733546</td>\n",
       "<td>1.0</td>\n",
       "<td>1.0</td>\n",
       "<td>0.0636943</td>\n",
       "<td>0.2547771</td>\n",
       "<td>27.3354565</td>\n",
       "<td>27.3354565</td></tr>\n",
       "<tr><td></td>\n",
       "<td>9</td>\n",
       "<td>0.3001251</td>\n",
       "<td>0.9679879</td>\n",
       "<td>1.2733546</td>\n",
       "<td>1.2733546</td>\n",
       "<td>1.0</td>\n",
       "<td>1.0</td>\n",
       "<td>0.1273885</td>\n",
       "<td>0.3821656</td>\n",
       "<td>27.3354565</td>\n",
       "<td>27.3354565</td></tr>\n",
       "<tr><td></td>\n",
       "<td>10</td>\n",
       "<td>0.4001667</td>\n",
       "<td>0.9599888</td>\n",
       "<td>1.2680489</td>\n",
       "<td>1.2720282</td>\n",
       "<td>0.9958333</td>\n",
       "<td>0.9989583</td>\n",
       "<td>0.1268577</td>\n",
       "<td>0.5090234</td>\n",
       "<td>26.8048921</td>\n",
       "<td>27.2028154</td></tr>\n",
       "<tr><td></td>\n",
       "<td>11</td>\n",
       "<td>0.5010421</td>\n",
       "<td>0.9480498</td>\n",
       "<td>1.2628310</td>\n",
       "<td>1.2701765</td>\n",
       "<td>0.9917355</td>\n",
       "<td>0.9975042</td>\n",
       "<td>0.1273885</td>\n",
       "<td>0.6364119</td>\n",
       "<td>26.2830973</td>\n",
       "<td>27.0176475</td></tr>\n",
       "<tr><td></td>\n",
       "<td>12</td>\n",
       "<td>0.5998333</td>\n",
       "<td>0.9230796</td>\n",
       "<td>1.2572362</td>\n",
       "<td>1.2680452</td>\n",
       "<td>0.9873418</td>\n",
       "<td>0.9958304</td>\n",
       "<td>0.1242038</td>\n",
       "<td>0.7606157</td>\n",
       "<td>25.7236153</td>\n",
       "<td>26.8045234</td></tr>\n",
       "<tr><td></td>\n",
       "<td>13</td>\n",
       "<td>0.6998749</td>\n",
       "<td>0.8737762</td>\n",
       "<td>1.2149925</td>\n",
       "<td>1.2604618</td>\n",
       "<td>0.9541667</td>\n",
       "<td>0.9898749</td>\n",
       "<td>0.1215499</td>\n",
       "<td>0.8821656</td>\n",
       "<td>21.4992481</td>\n",
       "<td>26.0461755</td></tr>\n",
       "<tr><td></td>\n",
       "<td>14</td>\n",
       "<td>0.7999166</td>\n",
       "<td>0.6090379</td>\n",
       "<td>0.9550159</td>\n",
       "<td>1.2222611</td>\n",
       "<td>0.75</td>\n",
       "<td>0.9598749</td>\n",
       "<td>0.0955414</td>\n",
       "<td>0.9777070</td>\n",
       "<td>-4.4984076</td>\n",
       "<td>22.2261130</td></tr>\n",
       "<tr><td></td>\n",
       "<td>15</td>\n",
       "<td>0.8999583</td>\n",
       "<td>0.1356952</td>\n",
       "<td>0.2228370</td>\n",
       "<td>1.1111626</td>\n",
       "<td>0.175</td>\n",
       "<td>0.8726262</td>\n",
       "<td>0.0222930</td>\n",
       "<td>1.0</td>\n",
       "<td>-77.7162951</td>\n",
       "<td>11.1162575</td></tr>\n",
       "<tr><td></td>\n",
       "<td>16</td>\n",
       "<td>1.0</td>\n",
       "<td>0.0063524</td>\n",
       "<td>0.0</td>\n",
       "<td>1.0</td>\n",
       "<td>0.0</td>\n",
       "<td>0.7853272</td>\n",
       "<td>0.0</td>\n",
       "<td>1.0</td>\n",
       "<td>-100.0</td>\n",
       "<td>0.0</td></tr></table></div>"
      ],
      "text/plain": [
       "    group    cumulative_data_fraction    lower_threshold    lift      cumulative_lift    response_rate    cumulative_response_rate    capture_rate    cumulative_capture_rate    gain      cumulative_gain\n",
       "--  -------  --------------------------  -----------------  --------  -----------------  ---------------  --------------------------  --------------  -------------------------  --------  -----------------\n",
       "    1        0.0100042                   0.985814           1.27335   1.27335            1                1                           0.0127389       0.0127389                  27.3355   27.3355\n",
       "    2        0.0200083                   0.98459            1.27335   1.27335            1                1                           0.0127389       0.0254777                  27.3355   27.3355\n",
       "    3        0.0304293                   0.984015           1.27335   1.27335            1                1                           0.0132696       0.0387473                  27.3355   27.3355\n",
       "    4        0.0400167                   0.983569           1.27335   1.27335            1                1                           0.0122081       0.0509554                  27.3355   27.3355\n",
       "    5        0.0500208                   0.982773           1.27335   1.27335            1                1                           0.0127389       0.0636943                  27.3355   27.3355\n",
       "    6        0.100042                    0.979838           1.27335   1.27335            1                1                           0.0636943       0.127389                   27.3355   27.3355\n",
       "    7        0.150063                    0.976688           1.27335   1.27335            1                1                           0.0636943       0.191083                   27.3355   27.3355\n",
       "    8        0.200083                    0.974225           1.27335   1.27335            1                1                           0.0636943       0.254777                   27.3355   27.3355\n",
       "    9        0.300125                    0.967988           1.27335   1.27335            1                1                           0.127389        0.382166                   27.3355   27.3355\n",
       "    10       0.400167                    0.959989           1.26805   1.27203            0.995833         0.998958                    0.126858        0.509023                   26.8049   27.2028\n",
       "    11       0.501042                    0.94805            1.26283   1.27018            0.991736         0.997504                    0.127389        0.636412                   26.2831   27.0176\n",
       "    12       0.599833                    0.92308            1.25724   1.26805            0.987342         0.99583                     0.124204        0.760616                   25.7236   26.8045\n",
       "    13       0.699875                    0.873776           1.21499   1.26046            0.954167         0.989875                    0.12155         0.882166                   21.4992   26.0462\n",
       "    14       0.799917                    0.609038           0.955016  1.22226            0.75             0.959875                    0.0955414       0.977707                   -4.49841  22.2261\n",
       "    15       0.899958                    0.135695           0.222837  1.11116            0.175            0.872626                    0.022293        1                          -77.7163  11.1163\n",
       "    16       1                           0.00635236         0         1                  0                0.785327                    0               1                          -100      0"
      ]
     },
     "metadata": {},
     "output_type": "display_data"
    },
    {
     "name": "stdout",
     "output_type": "stream",
     "text": [
      "\n",
      "Scoring History: \n"
     ]
    },
    {
     "data": {
      "text/html": [
       "<div style=\"overflow:auto\"><table style=\"width:50%\"><tr><td><b></b></td>\n",
       "<td><b>timestamp</b></td>\n",
       "<td><b>duration</b></td>\n",
       "<td><b>number_of_trees</b></td>\n",
       "<td><b>training_rmse</b></td>\n",
       "<td><b>training_logloss</b></td>\n",
       "<td><b>training_auc</b></td>\n",
       "<td><b>training_lift</b></td>\n",
       "<td><b>training_classification_error</b></td></tr>\n",
       "<tr><td></td>\n",
       "<td>2017-12-14 10:09:58</td>\n",
       "<td> 0.141 sec</td>\n",
       "<td>0.0</td>\n",
       "<td>0.4105952</td>\n",
       "<td>0.5200823</td>\n",
       "<td>0.5</td>\n",
       "<td>1.0</td>\n",
       "<td>0.2146728</td></tr>\n",
       "<tr><td></td>\n",
       "<td>2017-12-14 10:09:59</td>\n",
       "<td> 0.438 sec</td>\n",
       "<td>1.0</td>\n",
       "<td>0.3893924</td>\n",
       "<td>0.4732968</td>\n",
       "<td>0.8947102</td>\n",
       "<td>1.2323843</td>\n",
       "<td>0.1175490</td></tr>\n",
       "<tr><td></td>\n",
       "<td>2017-12-14 10:09:59</td>\n",
       "<td> 0.500 sec</td>\n",
       "<td>2.0</td>\n",
       "<td>0.3730437</td>\n",
       "<td>0.4420436</td>\n",
       "<td>0.9224048</td>\n",
       "<td>1.2608707</td>\n",
       "<td>0.1042101</td></tr>\n",
       "<tr><td></td>\n",
       "<td>2017-12-14 10:09:59</td>\n",
       "<td> 0.594 sec</td>\n",
       "<td>3.0</td>\n",
       "<td>0.3605568</td>\n",
       "<td>0.4198117</td>\n",
       "<td>0.9306155</td>\n",
       "<td>1.2600905</td>\n",
       "<td>0.0967070</td></tr>\n",
       "<tr><td></td>\n",
       "<td>2017-12-14 10:09:59</td>\n",
       "<td> 0.750 sec</td>\n",
       "<td>4.0</td>\n",
       "<td>0.3461655</td>\n",
       "<td>0.3944866</td>\n",
       "<td>0.9350499</td>\n",
       "<td>1.2600905</td>\n",
       "<td>0.0937891</td></tr>\n",
       "<tr><td>---</td>\n",
       "<td>---</td>\n",
       "<td>---</td>\n",
       "<td>---</td>\n",
       "<td>---</td>\n",
       "<td>---</td>\n",
       "<td>---</td>\n",
       "<td>---</td>\n",
       "<td>---</td></tr>\n",
       "<tr><td></td>\n",
       "<td>2017-12-14 10:10:01</td>\n",
       "<td> 2.368 sec</td>\n",
       "<td>46.0</td>\n",
       "<td>0.2071988</td>\n",
       "<td>0.1628050</td>\n",
       "<td>0.9818796</td>\n",
       "<td>1.2733546</td>\n",
       "<td>0.0537724</td></tr>\n",
       "<tr><td></td>\n",
       "<td>2017-12-14 10:10:01</td>\n",
       "<td> 2.397 sec</td>\n",
       "<td>47.0</td>\n",
       "<td>0.2046370</td>\n",
       "<td>0.1596251</td>\n",
       "<td>0.9829319</td>\n",
       "<td>1.2733546</td>\n",
       "<td>0.0500208</td></tr>\n",
       "<tr><td></td>\n",
       "<td>2017-12-14 10:10:01</td>\n",
       "<td> 2.430 sec</td>\n",
       "<td>48.0</td>\n",
       "<td>0.2034185</td>\n",
       "<td>0.1579991</td>\n",
       "<td>0.9835080</td>\n",
       "<td>1.2733546</td>\n",
       "<td>0.0491872</td></tr>\n",
       "<tr><td></td>\n",
       "<td>2017-12-14 10:10:01</td>\n",
       "<td> 2.486 sec</td>\n",
       "<td>49.0</td>\n",
       "<td>0.2028627</td>\n",
       "<td>0.1571559</td>\n",
       "<td>0.9837523</td>\n",
       "<td>1.2733546</td>\n",
       "<td>0.0487703</td></tr>\n",
       "<tr><td></td>\n",
       "<td>2017-12-14 10:10:01</td>\n",
       "<td> 2.512 sec</td>\n",
       "<td>50.0</td>\n",
       "<td>0.2014230</td>\n",
       "<td>0.1552246</td>\n",
       "<td>0.9843965</td>\n",
       "<td>1.2733546</td>\n",
       "<td>0.0483535</td></tr></table></div>"
      ],
      "text/plain": [
       "     timestamp            duration    number_of_trees    training_rmse        training_logloss     training_auc        training_lift       training_classification_error\n",
       "---  -------------------  ----------  -----------------  -------------------  -------------------  ------------------  ------------------  -------------------------------\n",
       "     2017-12-14 10:09:58  0.141 sec   0.0                0.4105951506199408   0.5200823027235575   0.5                 1.0                 0.21467278032513548\n",
       "     2017-12-14 10:09:59  0.438 sec   1.0                0.38939235477249035  0.47329683910781994  0.8947101807762867  1.2323843406645956  0.11754897874114215\n",
       "     2017-12-14 10:09:59  0.500 sec   2.0                0.3730436972424859   0.44204357664114935  0.9224048193267784  1.2608706964739187  0.10421008753647353\n",
       "     2017-12-14 10:09:59  0.594 sec   3.0                0.36055681488888397  0.41981173167580865  0.9306155051223384  1.2600904547062988  0.09670696123384744\n",
       "     2017-12-14 10:09:59  0.750 sec   4.0                0.34616545543241933  0.3944865730516486   0.9350498835363718  1.2600904547062988  0.09378907878282618\n",
       "---  ---                  ---         ---                ---                  ---                  ---                 ---                 ---\n",
       "     2017-12-14 10:10:01  2.368 sec   46.0               0.20719877346631163  0.16280501486221202  0.9818795992826664  1.2733545647558386  0.05377240516882034\n",
       "     2017-12-14 10:10:01  2.397 sec   47.0               0.20463698825349685  0.15962513799571515  0.9829318945437305  1.2733545647558386  0.0500208420175073\n",
       "     2017-12-14 10:10:01  2.430 sec   48.0               0.20341852370866242  0.15799907593323764  0.983508028775792   1.2733545647558386  0.049187161317215504\n",
       "     2017-12-14 10:10:01  2.486 sec   49.0               0.20286267697419985  0.15715587749532092  0.9837522931997609  1.2733545647558386  0.04877032096706961\n",
       "     2017-12-14 10:10:01  2.512 sec   50.0               0.20142300742367072  0.15522459387726487  0.9843964504359656  1.2733545647558386  0.04835348061692372"
      ]
     },
     "metadata": {},
     "output_type": "display_data"
    },
    {
     "name": "stdout",
     "output_type": "stream",
     "text": [
      "\n",
      "See the whole table with table.as_data_frame()\n",
      "Variable Importances: \n"
     ]
    },
    {
     "data": {
      "text/html": [
       "<div style=\"overflow:auto\"><table style=\"width:50%\"><tr><td><b>variable</b></td>\n",
       "<td><b>relative_importance</b></td>\n",
       "<td><b>scaled_importance</b></td>\n",
       "<td><b>percentage</b></td></tr>\n",
       "<tr><td>DEBTINC</td>\n",
       "<td>648.0017700</td>\n",
       "<td>1.0</td>\n",
       "<td>0.4233768</td></tr>\n",
       "<tr><td>DELINQ</td>\n",
       "<td>317.8383484</td>\n",
       "<td>0.4904899</td>\n",
       "<td>0.2076621</td></tr>\n",
       "<tr><td>CLAGE</td>\n",
       "<td>128.9694824</td>\n",
       "<td>0.1990264</td>\n",
       "<td>0.0842632</td></tr>\n",
       "<tr><td>DEROG</td>\n",
       "<td>80.8761597</td>\n",
       "<td>0.1248085</td>\n",
       "<td>0.0528410</td></tr>\n",
       "<tr><td>MORTDUE</td>\n",
       "<td>71.2328720</td>\n",
       "<td>0.1099270</td>\n",
       "<td>0.0465405</td></tr>\n",
       "<tr><td>LOAN</td>\n",
       "<td>66.6709900</td>\n",
       "<td>0.1028870</td>\n",
       "<td>0.0435600</td></tr>\n",
       "<tr><td>VALUE</td>\n",
       "<td>52.6447411</td>\n",
       "<td>0.0812417</td>\n",
       "<td>0.0343958</td></tr>\n",
       "<tr><td>NINQ</td>\n",
       "<td>45.9519806</td>\n",
       "<td>0.0709134</td>\n",
       "<td>0.0300231</td></tr>\n",
       "<tr><td>JOB</td>\n",
       "<td>39.4466400</td>\n",
       "<td>0.0608743</td>\n",
       "<td>0.0257728</td></tr>\n",
       "<tr><td>YOJ</td>\n",
       "<td>39.4126587</td>\n",
       "<td>0.0608218</td>\n",
       "<td>0.0257506</td></tr>\n",
       "<tr><td>CLNO</td>\n",
       "<td>29.9944191</td>\n",
       "<td>0.0462876</td>\n",
       "<td>0.0195971</td></tr>\n",
       "<tr><td>REASON</td>\n",
       "<td>9.5156384</td>\n",
       "<td>0.0146846</td>\n",
       "<td>0.0062171</td></tr></table></div>"
      ],
      "text/plain": [
       "variable    relative_importance    scaled_importance    percentage\n",
       "----------  ---------------------  -------------------  ------------\n",
       "DEBTINC     648.002                1                    0.423377\n",
       "DELINQ      317.838                0.49049              0.207662\n",
       "CLAGE       128.969                0.199026             0.0842632\n",
       "DEROG       80.8762                0.124809             0.052841\n",
       "MORTDUE     71.2329                0.109927             0.0465405\n",
       "LOAN        66.671                 0.102887             0.04356\n",
       "VALUE       52.6447                0.0812417            0.0343958\n",
       "NINQ        45.952                 0.0709134            0.0300231\n",
       "JOB         39.4466                0.0608743            0.0257728\n",
       "YOJ         39.4127                0.0608218            0.0257506\n",
       "CLNO        29.9944                0.0462876            0.0195971\n",
       "REASON      9.51564                0.0146846            0.00621711"
      ]
     },
     "metadata": {},
     "output_type": "display_data"
    },
    {
     "data": {
      "text/plain": []
     },
     "execution_count": 47,
     "metadata": {},
     "output_type": "execute_result"
    }
   ],
   "source": [
    "#  Deafault GBM:  \n",
    "m = h2o.estimators.H2OGradientBoostingEstimator(model_id = \"GBM_defaults\")\n",
    "m.train(x, y, train)\n",
    "m"
   ]
  },
  {
   "cell_type": "code",
   "execution_count": 48,
   "metadata": {},
   "outputs": [
    {
     "name": "stdout",
     "output_type": "stream",
     "text": [
      "\n",
      "ModelMetricsBinomial: gbm\n",
      "** Reported on test data. **\n",
      "\n",
      "MSE: 0.07497107758609432\n",
      "RMSE: 0.27380846879907556\n",
      "LogLoss: 0.2506858081940901\n",
      "Mean Per-Class Error: 0.13241375659741905\n",
      "AUC: 0.9376661071864172\n",
      "Gini: 0.8753322143728344\n",
      "Confusion Matrix (Act/Pred) for max f1 @ threshold = 0.5618567559183194: \n"
     ]
    },
    {
     "data": {
      "text/html": [
       "<div style=\"overflow:auto\"><table style=\"width:50%\"><tr><td><b></b></td>\n",
       "<td><b>B</b></td>\n",
       "<td><b>G</b></td>\n",
       "<td><b>Error</b></td>\n",
       "<td><b>Rate</b></td></tr>\n",
       "<tr><td>B</td>\n",
       "<td>331.0</td>\n",
       "<td>156.0</td>\n",
       "<td>0.3203</td>\n",
       "<td> (156.0/487.0)</td></tr>\n",
       "<tr><td>G</td>\n",
       "<td>83.0</td>\n",
       "<td>1779.0</td>\n",
       "<td>0.0446</td>\n",
       "<td> (83.0/1862.0)</td></tr>\n",
       "<tr><td>Total</td>\n",
       "<td>414.0</td>\n",
       "<td>1935.0</td>\n",
       "<td>0.1017</td>\n",
       "<td> (239.0/2349.0)</td></tr></table></div>"
      ],
      "text/plain": [
       "       B    G     Error    Rate\n",
       "-----  ---  ----  -------  --------------\n",
       "B      331  156   0.3203   (156.0/487.0)\n",
       "G      83   1779  0.0446   (83.0/1862.0)\n",
       "Total  414  1935  0.1017   (239.0/2349.0)"
      ]
     },
     "metadata": {},
     "output_type": "display_data"
    },
    {
     "name": "stdout",
     "output_type": "stream",
     "text": [
      "Maximum Metrics: Maximum metrics at their respective thresholds\n",
      "\n"
     ]
    },
    {
     "data": {
      "text/html": [
       "<div style=\"overflow:auto\"><table style=\"width:50%\"><tr><td><b>metric</b></td>\n",
       "<td><b>threshold</b></td>\n",
       "<td><b>value</b></td>\n",
       "<td><b>idx</b></td></tr>\n",
       "<tr><td>max f1</td>\n",
       "<td>0.5618568</td>\n",
       "<td>0.9370556</td>\n",
       "<td>225.0</td></tr>\n",
       "<tr><td>max f2</td>\n",
       "<td>0.2292295</td>\n",
       "<td>0.9644537</td>\n",
       "<td>316.0</td></tr>\n",
       "<tr><td>max f0point5</td>\n",
       "<td>0.7629060</td>\n",
       "<td>0.9428603</td>\n",
       "<td>156.0</td></tr>\n",
       "<tr><td>max accuracy</td>\n",
       "<td>0.5639232</td>\n",
       "<td>0.8982546</td>\n",
       "<td>224.0</td></tr>\n",
       "<tr><td>max precision</td>\n",
       "<td>0.9877673</td>\n",
       "<td>1.0</td>\n",
       "<td>0.0</td></tr>\n",
       "<tr><td>max recall</td>\n",
       "<td>0.0609665</td>\n",
       "<td>1.0</td>\n",
       "<td>374.0</td></tr>\n",
       "<tr><td>max specificity</td>\n",
       "<td>0.9877673</td>\n",
       "<td>1.0</td>\n",
       "<td>0.0</td></tr>\n",
       "<tr><td>max absolute_mcc</td>\n",
       "<td>0.7324119</td>\n",
       "<td>0.6988209</td>\n",
       "<td>170.0</td></tr>\n",
       "<tr><td>max min_per_class_accuracy</td>\n",
       "<td>0.8470038</td>\n",
       "<td>0.8665298</td>\n",
       "<td>122.0</td></tr>\n",
       "<tr><td>max mean_per_class_accuracy</td>\n",
       "<td>0.8127372</td>\n",
       "<td>0.8675862</td>\n",
       "<td>135.0</td></tr></table></div>"
      ],
      "text/plain": [
       "metric                       threshold    value     idx\n",
       "---------------------------  -----------  --------  -----\n",
       "max f1                       0.561857     0.937056  225\n",
       "max f2                       0.229229     0.964454  316\n",
       "max f0point5                 0.762906     0.94286   156\n",
       "max accuracy                 0.563923     0.898255  224\n",
       "max precision                0.987767     1         0\n",
       "max recall                   0.0609665    1         374\n",
       "max specificity              0.987767     1         0\n",
       "max absolute_mcc             0.732412     0.698821  170\n",
       "max min_per_class_accuracy   0.847004     0.86653   122\n",
       "max mean_per_class_accuracy  0.812737     0.867586  135"
      ]
     },
     "metadata": {},
     "output_type": "display_data"
    },
    {
     "name": "stdout",
     "output_type": "stream",
     "text": [
      "Gains/Lift Table: Avg response rate: 79.27 %\n",
      "\n"
     ]
    },
    {
     "data": {
      "text/html": [
       "<div style=\"overflow:auto\"><table style=\"width:50%\"><tr><td><b></b></td>\n",
       "<td><b>group</b></td>\n",
       "<td><b>cumulative_data_fraction</b></td>\n",
       "<td><b>lower_threshold</b></td>\n",
       "<td><b>lift</b></td>\n",
       "<td><b>cumulative_lift</b></td>\n",
       "<td><b>response_rate</b></td>\n",
       "<td><b>cumulative_response_rate</b></td>\n",
       "<td><b>capture_rate</b></td>\n",
       "<td><b>cumulative_capture_rate</b></td>\n",
       "<td><b>gain</b></td>\n",
       "<td><b>cumulative_gain</b></td></tr>\n",
       "<tr><td></td>\n",
       "<td>1</td>\n",
       "<td>0.0106428</td>\n",
       "<td>0.9856489</td>\n",
       "<td>1.2615467</td>\n",
       "<td>1.2615467</td>\n",
       "<td>1.0</td>\n",
       "<td>1.0</td>\n",
       "<td>0.0134264</td>\n",
       "<td>0.0134264</td>\n",
       "<td>26.1546724</td>\n",
       "<td>26.1546724</td></tr>\n",
       "<tr><td></td>\n",
       "<td>2</td>\n",
       "<td>0.0200085</td>\n",
       "<td>0.9840628</td>\n",
       "<td>1.2615467</td>\n",
       "<td>1.2615467</td>\n",
       "<td>1.0</td>\n",
       "<td>1.0</td>\n",
       "<td>0.0118153</td>\n",
       "<td>0.0252417</td>\n",
       "<td>26.1546724</td>\n",
       "<td>26.1546724</td></tr>\n",
       "<tr><td></td>\n",
       "<td>3</td>\n",
       "<td>0.0306513</td>\n",
       "<td>0.9835323</td>\n",
       "<td>1.2615467</td>\n",
       "<td>1.2615467</td>\n",
       "<td>1.0</td>\n",
       "<td>1.0</td>\n",
       "<td>0.0134264</td>\n",
       "<td>0.0386681</td>\n",
       "<td>26.1546724</td>\n",
       "<td>26.1546724</td></tr>\n",
       "<tr><td></td>\n",
       "<td>4</td>\n",
       "<td>0.0400170</td>\n",
       "<td>0.9828088</td>\n",
       "<td>1.2042037</td>\n",
       "<td>1.2481260</td>\n",
       "<td>0.9545455</td>\n",
       "<td>0.9893617</td>\n",
       "<td>0.0112782</td>\n",
       "<td>0.0499463</td>\n",
       "<td>20.4203691</td>\n",
       "<td>24.8126014</td></tr>\n",
       "<tr><td></td>\n",
       "<td>5</td>\n",
       "<td>0.0502341</td>\n",
       "<td>0.9822219</td>\n",
       "<td>1.2089823</td>\n",
       "<td>1.2401646</td>\n",
       "<td>0.9583333</td>\n",
       "<td>0.9830508</td>\n",
       "<td>0.0123523</td>\n",
       "<td>0.0622986</td>\n",
       "<td>20.8982277</td>\n",
       "<td>24.0164576</td></tr>\n",
       "<tr><td></td>\n",
       "<td>6</td>\n",
       "<td>0.1000426</td>\n",
       "<td>0.9796337</td>\n",
       "<td>1.2615467</td>\n",
       "<td>1.2508102</td>\n",
       "<td>1.0</td>\n",
       "<td>0.9914894</td>\n",
       "<td>0.0628357</td>\n",
       "<td>0.1251343</td>\n",
       "<td>26.1546724</td>\n",
       "<td>25.0810156</td></tr>\n",
       "<tr><td></td>\n",
       "<td>7</td>\n",
       "<td>0.1502767</td>\n",
       "<td>0.9763098</td>\n",
       "<td>1.2615467</td>\n",
       "<td>1.2543992</td>\n",
       "<td>1.0</td>\n",
       "<td>0.9943343</td>\n",
       "<td>0.0633727</td>\n",
       "<td>0.1885070</td>\n",
       "<td>26.1546724</td>\n",
       "<td>25.4399150</td></tr>\n",
       "<tr><td></td>\n",
       "<td>8</td>\n",
       "<td>0.2000851</td>\n",
       "<td>0.9732865</td>\n",
       "<td>1.2615467</td>\n",
       "<td>1.2561784</td>\n",
       "<td>1.0</td>\n",
       "<td>0.9957447</td>\n",
       "<td>0.0628357</td>\n",
       "<td>0.2513426</td>\n",
       "<td>26.1546724</td>\n",
       "<td>25.6178440</td></tr>\n",
       "<tr><td></td>\n",
       "<td>9</td>\n",
       "<td>0.3005534</td>\n",
       "<td>0.9657627</td>\n",
       "<td>1.2401646</td>\n",
       "<td>1.2508254</td>\n",
       "<td>0.9830508</td>\n",
       "<td>0.9915014</td>\n",
       "<td>0.1245972</td>\n",
       "<td>0.3759398</td>\n",
       "<td>24.0164576</td>\n",
       "<td>25.0825364</td></tr>\n",
       "<tr><td></td>\n",
       "<td>10</td>\n",
       "<td>0.4001703</td>\n",
       "<td>0.9568621</td>\n",
       "<td>1.2507643</td>\n",
       "<td>1.2508102</td>\n",
       "<td>0.9914530</td>\n",
       "<td>0.9914894</td>\n",
       "<td>0.1245972</td>\n",
       "<td>0.5005371</td>\n",
       "<td>25.0764273</td>\n",
       "<td>25.0810156</td></tr>\n",
       "<tr><td></td>\n",
       "<td>11</td>\n",
       "<td>0.5002129</td>\n",
       "<td>0.9435178</td>\n",
       "<td>1.2293370</td>\n",
       "<td>1.2465155</td>\n",
       "<td>0.9744681</td>\n",
       "<td>0.9880851</td>\n",
       "<td>0.1229860</td>\n",
       "<td>0.6235231</td>\n",
       "<td>22.9337020</td>\n",
       "<td>24.6515529</td></tr>\n",
       "<tr><td></td>\n",
       "<td>12</td>\n",
       "<td>0.5998297</td>\n",
       "<td>0.9177131</td>\n",
       "<td>1.1698959</td>\n",
       "<td>1.2337909</td>\n",
       "<td>0.9273504</td>\n",
       "<td>0.9779986</td>\n",
       "<td>0.1165414</td>\n",
       "<td>0.7400644</td>\n",
       "<td>16.9895894</td>\n",
       "<td>23.3790905</td></tr>\n",
       "<tr><td></td>\n",
       "<td>13</td>\n",
       "<td>0.6998723</td>\n",
       "<td>0.8619665</td>\n",
       "<td>1.1058665</td>\n",
       "<td>1.2155049</td>\n",
       "<td>0.8765957</td>\n",
       "<td>0.9635036</td>\n",
       "<td>0.1106337</td>\n",
       "<td>0.8506982</td>\n",
       "<td>10.5866490</td>\n",
       "<td>21.5504873</td></tr>\n",
       "<tr><td></td>\n",
       "<td>14</td>\n",
       "<td>0.7999149</td>\n",
       "<td>0.6503921</td>\n",
       "<td>0.8803986</td>\n",
       "<td>1.1735943</td>\n",
       "<td>0.6978723</td>\n",
       "<td>0.9302821</td>\n",
       "<td>0.0880773</td>\n",
       "<td>0.9387755</td>\n",
       "<td>-11.9601435</td>\n",
       "<td>17.3594291</td></tr>\n",
       "<tr><td></td>\n",
       "<td>15</td>\n",
       "<td>0.8999574</td>\n",
       "<td>0.2357181</td>\n",
       "<td>0.5153553</td>\n",
       "<td>1.1004220</td>\n",
       "<td>0.4085106</td>\n",
       "<td>0.8722800</td>\n",
       "<td>0.0515575</td>\n",
       "<td>0.9903330</td>\n",
       "<td>-48.4644743</td>\n",
       "<td>10.0422024</td></tr>\n",
       "<tr><td></td>\n",
       "<td>16</td>\n",
       "<td>1.0</td>\n",
       "<td>0.0070554</td>\n",
       "<td>0.0966291</td>\n",
       "<td>1.0</td>\n",
       "<td>0.0765957</td>\n",
       "<td>0.7926777</td>\n",
       "<td>0.0096670</td>\n",
       "<td>1.0</td>\n",
       "<td>-90.3370889</td>\n",
       "<td>0.0</td></tr></table></div>"
      ],
      "text/plain": [
       "    group    cumulative_data_fraction    lower_threshold    lift       cumulative_lift    response_rate    cumulative_response_rate    capture_rate    cumulative_capture_rate    gain      cumulative_gain\n",
       "--  -------  --------------------------  -----------------  ---------  -----------------  ---------------  --------------------------  --------------  -------------------------  --------  -----------------\n",
       "    1        0.0106428                   0.985649           1.26155    1.26155            1                1                           0.0134264       0.0134264                  26.1547   26.1547\n",
       "    2        0.0200085                   0.984063           1.26155    1.26155            1                1                           0.0118153       0.0252417                  26.1547   26.1547\n",
       "    3        0.0306513                   0.983532           1.26155    1.26155            1                1                           0.0134264       0.0386681                  26.1547   26.1547\n",
       "    4        0.040017                    0.982809           1.2042     1.24813            0.954545         0.989362                    0.0112782       0.0499463                  20.4204   24.8126\n",
       "    5        0.0502341                   0.982222           1.20898    1.24016            0.958333         0.983051                    0.0123523       0.0622986                  20.8982   24.0165\n",
       "    6        0.100043                    0.979634           1.26155    1.25081            1                0.991489                    0.0628357       0.125134                   26.1547   25.081\n",
       "    7        0.150277                    0.97631            1.26155    1.2544             1                0.994334                    0.0633727       0.188507                   26.1547   25.4399\n",
       "    8        0.200085                    0.973286           1.26155    1.25618            1                0.995745                    0.0628357       0.251343                   26.1547   25.6178\n",
       "    9        0.300553                    0.965763           1.24016    1.25083            0.983051         0.991501                    0.124597        0.37594                    24.0165   25.0825\n",
       "    10       0.40017                     0.956862           1.25076    1.25081            0.991453         0.991489                    0.124597        0.500537                   25.0764   25.081\n",
       "    11       0.500213                    0.943518           1.22934    1.24652            0.974468         0.988085                    0.122986        0.623523                   22.9337   24.6516\n",
       "    12       0.59983                     0.917713           1.1699     1.23379            0.92735          0.977999                    0.116541        0.740064                   16.9896   23.3791\n",
       "    13       0.699872                    0.861966           1.10587    1.2155             0.876596         0.963504                    0.110634        0.850698                   10.5866   21.5505\n",
       "    14       0.799915                    0.650392           0.880399   1.17359            0.697872         0.930282                    0.0880773       0.938776                   -11.9601  17.3594\n",
       "    15       0.899957                    0.235718           0.515355   1.10042            0.408511         0.87228                     0.0515575       0.990333                   -48.4645  10.0422\n",
       "    16       1                           0.00705535         0.0966291  1                  0.0765957        0.792678                    0.00966702      1                          -90.3371  0"
      ]
     },
     "metadata": {},
     "output_type": "display_data"
    },
    {
     "name": "stdout",
     "output_type": "stream",
     "text": [
      "\n"
     ]
    },
    {
     "data": {
      "text/plain": []
     },
     "execution_count": 48,
     "metadata": {},
     "output_type": "execute_result"
    }
   ],
   "source": [
    "# Kết quả trên bộ dữ liệu test: \n",
    "m.model_performance(test)"
   ]
  },
  {
   "cell_type": "code",
   "execution_count": 49,
   "metadata": {},
   "outputs": [
    {
     "name": "stdout",
     "output_type": "stream",
     "text": [
      "gbm prediction progress: |████████████████████████████████████████████████| 100%\n"
     ]
    },
    {
     "data": {
      "text/plain": [
       "[0.8957002979991485]"
      ]
     },
     "execution_count": 49,
     "metadata": {},
     "output_type": "execute_result"
    }
   ],
   "source": [
    "p = m.predict(test)\n",
    "ket_qua = p.as_data_frame()\n",
    "so_sanh = p[\"predict\"].cbind(test[\"BAD\"]).as_data_frame() \n",
    "(p[\"predict\"] == test[\"BAD\"]).mean()"
   ]
  },
  {
   "cell_type": "markdown",
   "metadata": {},
   "source": [
    "### Tuned GBM\n",
    "\n",
    "(To be continued...)"
   ]
  }
 ],
 "metadata": {
  "kernelspec": {
   "display_name": "Python 3",
   "language": "python",
   "name": "python3"
  },
  "language_info": {
   "codemirror_mode": {
    "name": "ipython",
    "version": 3
   },
   "file_extension": ".py",
   "mimetype": "text/x-python",
   "name": "python",
   "nbconvert_exporter": "python",
   "pygments_lexer": "ipython3",
   "version": "3.6.3"
  }
 },
 "nbformat": 4,
 "nbformat_minor": 1
}
